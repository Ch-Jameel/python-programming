{
 "cells": [
  {
   "cell_type": "markdown",
   "metadata": {},
   "source": [
    "Python is a high-level, general-purpose and a very popular programming language. Python programming language (latest Python 3) is being used in web development, Machine Learning applications, along with all cutting edge technology in Software Industry. Python Programming Language is very well suited for Beginners, also for experienced programmers with other programming languages like C++ and Java.\n",
    "\n",
    "\n",
    "\n"
   ]
  },
  {
   "cell_type": "raw",
   "metadata": {},
   "source": [
    "This specially designed Python tutorial will help you learn Python Programming Language in most efficient way, with the topics from basics to advanced (like Web-scraping, Django, Deep-Learning, etc.) with examples.\n",
    "Below are some facts about Python Programming Language:\n",
    "\n",
    "\n"
   ]
  },
  {
   "cell_type": "markdown",
   "metadata": {},
   "source": [
    "Python is currently the most widely used multi-purpose, high-level programming language.\n",
    "Python allows programming in Object-Oriented and Procedural paradigms.\n",
    "Python programs generally are smaller than other programming languages like Java. Programmers have to type relatively less and indentation requirement of the language, makes them readable all the time.\n",
    "Python language is being used by almost all tech-giant companies like – Google, Amazon, Facebook, Instagram, Dropbox, Uber… etc."
   ]
  },
  {
   "cell_type": "raw",
   "metadata": {},
   "source": [
    "The biggest strength of Python is huge collection of standard library which can be used for the following:\n",
    "       1)Machine Learning\n",
    "       2)GUI Applications (like Kivy, Tkinter, PyQt etc. )\n",
    "       3)Web frameworks like Django (used by YouTube, Instagram, Dropbox)\n",
    "       4)Image processing (like OpenCV, Pillow)\n",
    "       5)Web scraping (like Scrapy, BeautifulSoup, Selenium)\n",
    "       6)Test frameworks\n",
    "       7)Multimedia\n",
    "       8)Scientific computing\n",
    "       9)Text processing and many more.."
   ]
  },
  {
   "cell_type": "markdown",
   "metadata": {},
   "source": [
    "# Python Advantages"
   ]
  },
  {
   "cell_type": "code",
   "execution_count": null,
   "metadata": {},
   "outputs": [],
   "source": [
    "1)      Presence of third-party modules \n",
    "2)      Extensive support libraries(NumPy for numerical calculations, Pandas for data analytics etc) \n",
    "3)       Open source and community development \n",
    "4)      Versatile, Easy to read, learn and write\n",
    "5)      User-friendly data structures \n",
    "6)      High-level language \n",
    "7)      Dynamically typed language(No need to mention data type based on the value assigned, \n",
    "                                   it takes data type) \n",
    "8)       Object-oriented language \n",
    "9)       Portable and Interactive\n",
    "10)      Ideal for prototypes – provide more functionality with less coding\n",
    "11)      Highly Efficient(Python’s clean object-oriented design provides enhanced process control, \n",
    "                    and the language is equipped with excellent text processing \n",
    "                    and integration capabilities, as well as its own unit testing framework, \n",
    "                    which makes it more efficient.)\n",
    "12)     (IoT)Internet of Things Opportunities\n",
    "13)     Interpreted Language\n",
    "14)     Portable across Operating systems "
   ]
  },
  {
   "cell_type": "markdown",
   "metadata": {},
   "source": [
    "# Applications : "
   ]
  },
  {
   "cell_type": "code",
   "execution_count": null,
   "metadata": {},
   "outputs": [],
   "source": [
    "1)    GUI based desktop applications\n",
    "2)    Graphic design, image processing applications, Games, and Scientific/ computational Applications\n",
    "3)    Web frameworks and applications \n",
    "4)    Enterprise and Business applications \n",
    "5)    Operating Systems \n",
    "6)    Education\n",
    "7)    Database Access\n",
    "8)    Language Development \n",
    "9)    Prototyping \n",
    "10)   Software Development"
   ]
  }
 ],
 "metadata": {
  "kernelspec": {
   "display_name": "Python 3",
   "language": "python",
   "name": "python3"
  },
  "language_info": {
   "codemirror_mode": {
    "name": "ipython",
    "version": 3
   },
   "file_extension": ".py",
   "mimetype": "text/x-python",
   "name": "python",
   "nbconvert_exporter": "python",
   "pygments_lexer": "ipython3",
   "version": "3.8.3"
  }
 },
 "nbformat": 4,
 "nbformat_minor": 4
}
