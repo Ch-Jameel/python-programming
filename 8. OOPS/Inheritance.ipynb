{
 "cells": [
  {
   "cell_type": "markdown",
   "metadata": {},
   "source": [
    "Inheritance allows us to define a class that inherits all the methods and properties from another class.\n",
    "\n",
    "Inheritance is a fundamental concept in Object-Oriented Programming (OOP) that allows a class to inherit attributes and methods from another class. This lesson covers single inheritance and multiple inheritance, demonstrating how to create and use them in Python."
   ]
  },
  {
   "cell_type": "code",
   "execution_count": 3,
   "metadata": {},
   "outputs": [
    {
     "name": "stdout",
     "output_type": "stream",
     "text": [
      "The mike bark Bow\n"
     ]
    }
   ],
   "source": [
    "#Main Class\n",
    "class Dog:\n",
    "\tdef __init__(self,name,age):\n",
    "\t\tself.name=name\n",
    "\t\tself.age=age\n",
    "\tdef bark(self):\n",
    "\t\tprint(\"The\",self.name,\"bark Bow\")\n",
    "\n",
    "dog1=Dog(\"mike\",4)\n",
    "dog1.bark()"
   ]
  },
  {
   "cell_type": "code",
   "execution_count": 11,
   "metadata": {},
   "outputs": [
    {
     "name": "stdout",
     "output_type": "stream",
     "text": [
      "Buli has height 4.5\n"
     ]
    }
   ],
   "source": [
    "## Inherited class or child class \n",
    "class germen_shefird(Dog):\n",
    "    def __init__(self,name,age,height):\n",
    "        super().__init__(name,age)\n",
    "        self.height=height\n",
    "    def dog_height(self):\n",
    "        print(self.name,\"has height\", self.height)\n",
    "         \n",
    "\n",
    "germen_dog=germen_shefird('Buli',5,4.5)\n",
    "germen_dog.dog_height()"
   ]
  }
 ],
 "metadata": {
  "kernelspec": {
   "display_name": "Python 3",
   "language": "python",
   "name": "python3"
  },
  "language_info": {
   "codemirror_mode": {
    "name": "ipython",
    "version": 3
   },
   "file_extension": ".py",
   "mimetype": "text/x-python",
   "name": "python",
   "nbconvert_exporter": "python",
   "pygments_lexer": "ipython3",
   "version": "3.10.0"
  }
 },
 "nbformat": 4,
 "nbformat_minor": 2
}
