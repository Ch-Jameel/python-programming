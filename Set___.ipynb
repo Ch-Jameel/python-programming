{
 "cells": [
  {
   "cell_type": "markdown",
   "metadata": {
    "id": "2dw1nmfuC_aS"
   },
   "source": [
    "# **Python Sets**"
   ]
  },
  {
   "cell_type": "markdown",
   "metadata": {
    "id": "vF_AlParDAjZ"
   },
   "source": [
    "In Python, Set is an unordered collection of data type that is iterable, mutable and has no duplicate elements. The order of elements in a set is undefined though it may consist of various elements.\n",
    "\n",
    "The major advantage of using a set, as opposed to a list, is that it has a highly optimized method for checking whether a specific element is contained in the set"
   ]
  },
  {
   "cell_type": "markdown",
   "metadata": {
    "id": "7RXKRjM3PO_0"
   },
   "source": [
    "# **Creating a Set**"
   ]
  },
  {
   "cell_type": "markdown",
   "metadata": {
    "id": "_T8v7IkzPSwh"
   },
   "source": [
    "Sets can be created by using the built-in set() function with an iterable object or a sequence by placing the sequence inside curly braces, separated by ‘comma’.\n",
    "\n",
    "Note – A set cannot have mutable elements like a list or dictionary, as it is mutable.  "
   ]
  },
  {
   "cell_type": "code",
   "execution_count": 1,
   "metadata": {
    "colab": {
     "base_uri": "https://localhost:8080/"
    },
    "id": "WaGBTj5yPV0J",
    "outputId": "6456c36e-2f11-4ef2-ae8e-87ea3be9c8b4"
   },
   "outputs": [],
   "source": [
    "# Python program to demonstrate \n",
    "# Creation of Set in Python\n",
    "  \n",
    "# Creating a Set\n",
    "set1 = set()\n",
    "print(\"Initial blank Set: \")\n",
    "print(set1)"
   ]
  },
  {
   "cell_type": "code",
   "execution_count": 2,
   "metadata": {
    "colab": {
     "base_uri": "https://localhost:8080/"
    },
    "id": "p9tkuZrZPk--",
    "outputId": "3c1113f8-8130-401e-bf67-c94b66e8ba04"
   },
   "outputs": [
    {
     "name": "stdout",
     "output_type": "stream",
     "text": [
      "\n",
      "Set with the use of String: \n",
      "{'e', 'G', 'r', 's', 'F', 'k', 'o'}\n",
      "\n",
      "Set with the use of an Object: \n",
      "{'e', 'G', 'r', 's', 'F', 'k', 'o'}\n",
      "\n",
      "Set with the use of List: \n",
      "{'For', 'Geeks'}\n"
     ]
    }
   ],
   "source": [
    "# Creating a Set with \n",
    "# the use of a String\n",
    "set1 = set(\"GeeksForGeeks\")\n",
    "print(\"\\nSet with the use of String: \")\n",
    "print(set1)\n",
    "  \n",
    "# Creating a Set with\n",
    "# the use of Constructor\n",
    "# (Using object to Store String)\n",
    "String = 'GeeksForGeeks'\n",
    "set1 = set(String)\n",
    "print(\"\\nSet with the use of an Object: \" )\n",
    "print(set1)\n",
    "  \n",
    "# Creating a Set with\n",
    "# the use of a List\n",
    "set1 = set([\"Geeks\", \"For\", \"Geeks\"])\n",
    "print(\"\\nSet with the use of List: \")\n",
    "print(set1)"
   ]
  },
  {
   "cell_type": "code",
   "execution_count": 3,
   "metadata": {
    "colab": {
     "base_uri": "https://localhost:8080/"
    },
    "id": "DITTgvs9QgSl",
    "outputId": "bb9fd892-6f9b-4cf0-ad9b-ce6d7ee434e4"
   },
   "outputs": [
    {
     "name": "stdout",
     "output_type": "stream",
     "text": [
      "\n",
      "Set with the use of Numbers: \n",
      "{1, 2, 3, 4, 5, 6}\n",
      "\n",
      "Set with the use of Mixed Values\n",
      "{1, 2, 4, 6, 'Geeks', 'For'}\n"
     ]
    }
   ],
   "source": [
    "# Creating a Set with \n",
    "# a List of Numbers\n",
    "# (Having duplicate values)\n",
    "set1 = set([1, 2, 4, 4, 3, 3, 3, 6, 5])\n",
    "print(\"\\nSet with the use of Numbers: \")\n",
    "print(set1)\n",
    "  \n",
    "# Creating a Set with \n",
    "# a mixed type of values\n",
    "# (Having numbers and strings)\n",
    "set1 = set([1, 2, 'Geeks', 4, 'For', 6, 'Geeks'])\n",
    "print(\"\\nSet with the use of Mixed Values\")\n",
    "print(set1)"
   ]
  },
  {
   "cell_type": "markdown",
   "metadata": {
    "id": "5DsWN2jFQnT3"
   },
   "source": [
    "# **Adding Elements to a Set**"
   ]
  },
  {
   "cell_type": "markdown",
   "metadata": {
    "id": "6LgE8xuRQpqm"
   },
   "source": [
    "Using **add()** method\n",
    "Elements can be added to the Set by using built-in add() function. Only one element at a time can be added to the set by using add() method, loops are used to add multiple elements at a time with the use of add() method.\n",
    "\n",
    "**Note** – Lists cannot be added to a set as elements because Lists are not hashable whereas Tuples can be added because tuples are immutable and hence Hashable."
   ]
  },
  {
   "cell_type": "code",
   "execution_count": 4,
   "metadata": {
    "colab": {
     "base_uri": "https://localhost:8080/"
    },
    "id": "fPNEjv9CQuL9",
    "outputId": "386bd8ce-3e08-466e-a4e1-a077b5c3d93c"
   },
   "outputs": [
    {
     "name": "stdout",
     "output_type": "stream",
     "text": [
      "Initial blank Set: \n",
      "set()\n",
      "\n",
      "Set after Addition of Three elements: \n",
      "{8, 9, (6, 7)}\n",
      "\n",
      "Set after Addition of elements from 1-5: \n",
      "{1, 2, 3, 4, 5, 8, 9, (6, 7)}\n"
     ]
    }
   ],
   "source": [
    "# Python program to demonstrate \n",
    "# Addition of elements in a Set\n",
    "  \n",
    "# Creating a Set\n",
    "set1 = set()\n",
    "print(\"Initial blank Set: \")\n",
    "print(set1)\n",
    "  \n",
    "# Adding element and tuple to the Set\n",
    "set1.add(8)\n",
    "set1.add(9)\n",
    "set1.add((6,7))\n",
    "print(\"\\nSet after Addition of Three elements: \")\n",
    "print(set1)\n",
    "  \n",
    "# Adding elements to the Set\n",
    "# using Iterator\n",
    "for i in range(1, 6):\n",
    "    set1.add(i)\n",
    "print(\"\\nSet after Addition of elements from 1-5: \")\n",
    "print(set1)"
   ]
  },
  {
   "cell_type": "markdown",
   "metadata": {
    "id": "SmknAdEzR535"
   },
   "source": [
    "# **Using update() method**"
   ]
  },
  {
   "cell_type": "markdown",
   "metadata": {
    "id": "GOVtDbgoR79-"
   },
   "source": [
    "For addition of two or more elements Update() method is used. The update() method accepts lists, strings, tuples as well as other sets as its arguments. In all of these cases, duplicate elements are avoided."
   ]
  },
  {
   "cell_type": "code",
   "execution_count": 5,
   "metadata": {
    "colab": {
     "base_uri": "https://localhost:8080/"
    },
    "id": "jOtzLZI-R_-7",
    "outputId": "d8a8f816-8e09-4e3c-f1a7-c8a10cf52333"
   },
   "outputs": [
    {
     "name": "stdout",
     "output_type": "stream",
     "text": [
      "\n",
      "Set after Addition of elements using Update: \n",
      "{4, 5, 10, 11, (6, 7)}\n"
     ]
    }
   ],
   "source": [
    "#Python program to demonstrate \n",
    "# Addition of elements in a Set\n",
    "  \n",
    "# Addition of elements to the Set\n",
    "# using Update function\n",
    "set1 = set([ 4, 5, (6, 7)])\n",
    "set1.update([10, 11])\n",
    "print(\"\\nSet after Addition of elements using Update: \")\n",
    "print(set1)"
   ]
  },
  {
   "cell_type": "markdown",
   "metadata": {
    "id": "wfd2E3KBSPV9"
   },
   "source": [
    "# **Accessing a Set**"
   ]
  },
  {
   "cell_type": "markdown",
   "metadata": {
    "id": "HrZEOl-SSQ4W"
   },
   "source": [
    "Set items cannot be accessed by referring to an index, since sets are unordered the items has no index. But you can loop through the set items using a for loop, or ask if a specified value is present in a set, by using the in keyword."
   ]
  },
  {
   "cell_type": "code",
   "execution_count": 6,
   "metadata": {
    "colab": {
     "base_uri": "https://localhost:8080/"
    },
    "id": "0Ls5tqj5STpg",
    "outputId": "f26bf21c-f898-4ea3-c3f5-79f2d3c83845"
   },
   "outputs": [
    {
     "name": "stdout",
     "output_type": "stream",
     "text": [
      "\n",
      "Initial set\n",
      "{'For', 'Geeks'}\n",
      "\n",
      "Elements of set: \n",
      "For Geeks True\n"
     ]
    }
   ],
   "source": [
    "# Python program to demonstrate\n",
    "# Accessing of elements in a set\n",
    "  \n",
    "# Creating a set\n",
    "set1 = set([\"Geeks\", \"For\", \"Geeks\"])\n",
    "print(\"\\nInitial set\")\n",
    "print(set1)\n",
    "  \n",
    "# Accessing element using\n",
    "# for loop\n",
    "print(\"\\nElements of set: \")\n",
    "for i in set1:\n",
    "    print(i, end=\" \")\n",
    "  \n",
    "# Checking the element\n",
    "# using in keyword\n",
    "print(\"Geeks\" in set1)"
   ]
  },
  {
   "cell_type": "code",
   "execution_count": 7,
   "metadata": {
    "colab": {
     "base_uri": "https://localhost:8080/"
    },
    "id": "gXti9XAHSq4w",
    "outputId": "d718526b-cf20-4e48-f4a4-a4a898ba6577"
   },
   "outputs": [
    {
     "name": "stdout",
     "output_type": "stream",
     "text": [
      "this is exist in set \n"
     ]
    }
   ],
   "source": [
    "if 'Geeks' in set1:\n",
    "    print('this is exist in set ')\n",
    "else:\n",
    "    print('not exist')"
   ]
  },
  {
   "cell_type": "markdown",
   "metadata": {
    "id": "zHLz7x9KTMgP"
   },
   "source": [
    "# **Removing elements from the Set**"
   ]
  },
  {
   "cell_type": "markdown",
   "metadata": {
    "id": "ND5554u4TNjH"
   },
   "source": [
    "Using remove() method or discard() method\n",
    "Elements can be removed from the Set by using built-in remove() function but a KeyError arises if element doesn’t exist in the set. To remove elements from a set without KeyError, use discard(), if the element doesn’t exist in the set, it remains unchanged."
   ]
  },
  {
   "cell_type": "code",
   "execution_count": 8,
   "metadata": {
    "colab": {
     "base_uri": "https://localhost:8080/"
    },
    "id": "njU5j0ZnTRFl",
    "outputId": "395d0860-2537-40e6-f176-8a182cd109d7"
   },
   "outputs": [
    {
     "name": "stdout",
     "output_type": "stream",
     "text": [
      "Initial Set: \n",
      "{1, 2, 3, 4, 5, 6, 7, 8, 9, 10, 11, 12}\n",
      "\n",
      "Set after Removal of two elements: \n",
      "{1, 2, 3, 4, 7, 8, 9, 10, 11, 12}\n",
      "\n",
      "Set after Discarding two elements: \n",
      "{1, 2, 3, 4, 7, 10, 11, 12}\n",
      "\n",
      "Set after Removing a range of elements: \n",
      "{7, 10, 11, 12}\n"
     ]
    }
   ],
   "source": [
    "\n",
    "# Python program to demonstrate \n",
    "# Deletion of elements in a Set\n",
    "  \n",
    "# Creating a Set\n",
    "set1 = set([1, 2, 3, 4, 5, 6, \n",
    "            7, 8, 9, 10, 11, 12])\n",
    "print(\"Initial Set: \")\n",
    "print(set1)\n",
    "  \n",
    "# Removing elements from Set\n",
    "# using Remove() method\n",
    "set1.remove(5)\n",
    "set1.remove(6)\n",
    "print(\"\\nSet after Removal of two elements: \")\n",
    "print(set1)\n",
    "  \n",
    "# Removing elements from Set\n",
    "# using Discard() method\n",
    "set1.discard(8)\n",
    "set1.discard(9)\n",
    "print(\"\\nSet after Discarding two elements: \")\n",
    "print(set1)\n",
    "  \n",
    "# Removing elements from Set\n",
    "# using iterator method\n",
    "for i in range(1, 5):\n",
    "    set1.remove(i)\n",
    "print(\"\\nSet after Removing a range of elements: \")\n",
    "print(set1)"
   ]
  },
  {
   "cell_type": "markdown",
   "metadata": {
    "id": "lGd_uodmTspS"
   },
   "source": [
    "# **Using pop() method**"
   ]
  },
  {
   "cell_type": "markdown",
   "metadata": {
    "id": "hj0lHa2WTt1t"
   },
   "source": [
    "Pop() function can also be used to remove and return an element from the set, but it removes only the last element of the set. \n",
    "Note – If the set is unordered then there’s no such way to determine which element is popped by using the pop() function. "
   ]
  },
  {
   "cell_type": "code",
   "execution_count": 9,
   "metadata": {
    "colab": {
     "base_uri": "https://localhost:8080/"
    },
    "id": "z4FsAizfTwiB",
    "outputId": "2175ee4d-7fe9-4f32-c48c-ca5c052c7a16"
   },
   "outputs": [
    {
     "name": "stdout",
     "output_type": "stream",
     "text": [
      "Initial Set: \n",
      "{1, 2, 3, 4, 5, 6, 7, 8, 9, 10, 11, 12}\n",
      "\n",
      "Set after popping an element: \n",
      "{2, 3, 4, 5, 6, 7, 8, 9, 10, 11, 12}\n"
     ]
    }
   ],
   "source": [
    "# Python program to demonstrate \n",
    "# Deletion of elements in a Set\n",
    "  \n",
    "# Creating a Set\n",
    "set1 = set([1, 2, 3, 4, 5, 6, \n",
    "            7, 8, 9, 10, 11, 12])\n",
    "print(\"Initial Set: \")\n",
    "print(set1)\n",
    "  \n",
    "# Removing element from the \n",
    "# Set using the pop() method\n",
    "set1.pop()\n",
    "print(\"\\nSet after popping an element: \")\n",
    "print(set1)"
   ]
  },
  {
   "cell_type": "markdown",
   "metadata": {
    "id": "7snJ_hnEUP35"
   },
   "source": [
    "**Using clear() method**\n",
    "To remove all the elements from the set, clear() function is used. "
   ]
  },
  {
   "cell_type": "code",
   "execution_count": 10,
   "metadata": {
    "colab": {
     "base_uri": "https://localhost:8080/"
    },
    "id": "bfVXArzUUV4B",
    "outputId": "03f1eaa8-d455-4383-f843-ff92c4fb3c4d"
   },
   "outputs": [
    {
     "name": "stdout",
     "output_type": "stream",
     "text": [
      "\n",
      " Initial set: \n",
      "{1, 2, 3, 4, 5}\n",
      "\n",
      "Set after clearing all the elements: \n",
      "set()\n"
     ]
    }
   ],
   "source": [
    "#Creating a set\n",
    "set1 = set([1,2,3,4,5])\n",
    "print(\"\\n Initial set: \")\n",
    "print(set1)\n",
    "  \n",
    "  \n",
    "# Removing all the elements from \n",
    "# Set using clear() method\n",
    "set1.clear()\n",
    "print(\"\\nSet after clearing all the elements: \")\n",
    "print(set1)"
   ]
  },
  {
   "cell_type": "markdown",
   "metadata": {
    "id": "JnaJ_k0sUj_U"
   },
   "source": [
    "**Frozen sets** in Python are immutable objects that only support methods and operators that produce a result without affecting the frozen set or sets to which they are applied. While elements of a set can be modified at any time, elements of the frozen set remain the same after creation. \n",
    "\n",
    "If no parameters are passed, it returns an empty frozenset.  "
   ]
  },
  {
   "cell_type": "code",
   "execution_count": 11,
   "metadata": {
    "colab": {
     "base_uri": "https://localhost:8080/"
    },
    "id": "G9SRin1OUoCq",
    "outputId": "bedf9cb0-e30d-4267-da35-ad94f680909e"
   },
   "outputs": [
    {
     "name": "stdout",
     "output_type": "stream",
     "text": [
      "The FrozenSet is: \n",
      "frozenset({'e', 'G', 'r', 's', 'F', 'k', 'o'})\n",
      "\n",
      "Empty FrozenSet: \n",
      "frozenset()\n"
     ]
    }
   ],
   "source": [
    "# Python program to demonstrate \n",
    "# working of a FrozenSet \n",
    "  \n",
    "# Creating a Set\n",
    "String = ('G', 'e', 'e', 'k', 's', 'F', 'o', 'r')\n",
    "  \n",
    "Fset1 = frozenset(String)\n",
    "print(\"The FrozenSet is: \")\n",
    "print(Fset1)\n",
    "  \n",
    "# To print Empty Frozen Set\n",
    "# No parameter is passed\n",
    "print(\"\\nEmpty FrozenSet: \")\n",
    "print(frozenset())"
   ]
  },
  {
   "cell_type": "markdown",
   "metadata": {
    "id": "a5x1LuDMVBUy"
   },
   "source": [
    "# **Finding the Union of Sets**"
   ]
  },
  {
   "cell_type": "code",
   "execution_count": 12,
   "metadata": {
    "colab": {
     "base_uri": "https://localhost:8080/"
    },
    "id": "QfdWCjERVCSl",
    "outputId": "4ceb9b27-443e-466b-e454-f2111e84a776"
   },
   "outputs": [
    {
     "data": {
      "text/plain": [
       "{'1', '2', '3', '4', '5', '7', '8', '9'}"
      ]
     },
     "execution_count": 12,
     "metadata": {},
     "output_type": "execute_result"
    }
   ],
   "source": [
    "set1=set('12345')\n",
    "set2=set('23789')\n",
    "set1.union(set2)"
   ]
  },
  {
   "cell_type": "code",
   "execution_count": 13,
   "metadata": {
    "colab": {
     "base_uri": "https://localhost:8080/"
    },
    "id": "PYKCsGBXVKWz",
    "outputId": "a91fa8a0-49e7-40c4-c76c-b10215dc0799"
   },
   "outputs": [
    {
     "data": {
      "text/plain": [
       "{'1', '2', '3', '4', '5', '7', '8', '9'}"
      ]
     },
     "execution_count": 13,
     "metadata": {},
     "output_type": "execute_result"
    }
   ],
   "source": [
    "set3=set1|set2\n",
    "set3"
   ]
  },
  {
   "cell_type": "markdown",
   "metadata": {
    "id": "1hd31awDVMDW"
   },
   "source": [
    "# **Finding the Intersection of Sets**"
   ]
  },
  {
   "cell_type": "code",
   "execution_count": 14,
   "metadata": {
    "colab": {
     "base_uri": "https://localhost:8080/"
    },
    "id": "WQEGEvVFVKaI",
    "outputId": "e39203e9-5db9-43ca-b9bd-550ac7dc3985"
   },
   "outputs": [
    {
     "data": {
      "text/plain": [
       "{'2', '3'}"
      ]
     },
     "execution_count": 14,
     "metadata": {},
     "output_type": "execute_result"
    }
   ],
   "source": [
    "set1.intersection(set2)"
   ]
  },
  {
   "cell_type": "code",
   "execution_count": 15,
   "metadata": {
    "colab": {
     "base_uri": "https://localhost:8080/"
    },
    "id": "YHFLuxQnVSLr",
    "outputId": "0949915d-e418-4305-f7bb-2dd7c065e1cb"
   },
   "outputs": [
    {
     "data": {
      "text/plain": [
       "{'2', '3'}"
      ]
     },
     "execution_count": 15,
     "metadata": {},
     "output_type": "execute_result"
    }
   ],
   "source": [
    "set3=set1 & set2\n",
    "set3"
   ]
  },
  {
   "cell_type": "markdown",
   "metadata": {
    "id": "Gfjal9XzVWuK"
   },
   "source": [
    "# **Finding the Difference of Sets**"
   ]
  },
  {
   "cell_type": "code",
   "execution_count": 16,
   "metadata": {
    "colab": {
     "base_uri": "https://localhost:8080/"
    },
    "id": "LXG2gQ-OVXyu",
    "outputId": "6d8effa9-9b37-4f81-82ad-2b2be297d227"
   },
   "outputs": [
    {
     "data": {
      "text/plain": [
       "{'1', '4', '5'}"
      ]
     },
     "execution_count": 16,
     "metadata": {},
     "output_type": "execute_result"
    }
   ],
   "source": [
    "set1.difference(set2) "
   ]
  },
  {
   "cell_type": "markdown",
   "metadata": {
    "id": "zCURed_KWzy3"
   },
   "source": [
    "# **Finding the Symmetric Difference of Sets**"
   ]
  },
  {
   "cell_type": "code",
   "execution_count": 17,
   "metadata": {
    "colab": {
     "base_uri": "https://localhost:8080/"
    },
    "id": "xbHiN1-3W1PC",
    "outputId": "c3f19908-e5fc-4bef-8071-79dbbf99a1e0"
   },
   "outputs": [
    {
     "data": {
      "text/plain": [
       "{'1', '4', '5', '7', '8', '9'}"
      ]
     },
     "execution_count": 17,
     "metadata": {},
     "output_type": "execute_result"
    }
   ],
   "source": [
    "set1.symmetric_difference(set2) "
   ]
  },
  {
   "cell_type": "markdown",
   "metadata": {
    "id": "HrV-gynRW-CQ"
   },
   "source": [
    "# **Finding Subsets and Supersets**"
   ]
  },
  {
   "cell_type": "code",
   "execution_count": 18,
   "metadata": {
    "colab": {
     "base_uri": "https://localhost:8080/"
    },
    "id": "wln9AUGqW_c1",
    "outputId": "86a515c9-37be-450f-c1fa-316843ccdc48"
   },
   "outputs": [
    {
     "data": {
      "text/plain": [
       "False"
      ]
     },
     "execution_count": 18,
     "metadata": {},
     "output_type": "execute_result"
    }
   ],
   "source": [
    "set2.issubset(set1)"
   ]
  },
  {
   "cell_type": "code",
   "execution_count": 19,
   "metadata": {
    "colab": {
     "base_uri": "https://localhost:8080/"
    },
    "id": "HVAEf5UyXGO7",
    "outputId": "374f94f7-90b0-4ce4-a9a7-123c68a0fdea"
   },
   "outputs": [
    {
     "data": {
      "text/plain": [
       "False"
      ]
     },
     "execution_count": 19,
     "metadata": {},
     "output_type": "execute_result"
    }
   ],
   "source": [
    "set1.issuperset(set2) "
   ]
  },
  {
   "cell_type": "markdown",
   "metadata": {
    "id": "iWs_jpOtXMMS"
   },
   "source": [
    "# **Program for finding all things above**"
   ]
  },
  {
   "cell_type": "code",
   "execution_count": 20,
   "metadata": {
    "colab": {
     "base_uri": "https://localhost:8080/"
    },
    "id": "XYVtCRHUXNku",
    "outputId": "51fad139-8453-4a64-964b-68fa71e2f241"
   },
   "outputs": [
    {
     "name": "stdout",
     "output_type": "stream",
     "text": [
      "Aida\n",
      "Jodi\n",
      "Carmen\n",
      "Alicia\n",
      "---------------\n",
      "Eva\n",
      "Carmen\n",
      "Alicia\n",
      "Sarah\n",
      "-----------\n",
      "The following players those will play in both   \n",
      "Carmen\n",
      "Alicia\n",
      "The followinf are the players that are in baseball but not in basketball\n",
      "Aida\n",
      "Jodi\n"
     ]
    }
   ],
   "source": [
    "baseball = set(['Jodi', 'Carmen', 'Aida', 'Alicia'])\n",
    "basketball = set(['Eva', 'Carmen', 'Alicia', 'Sarah'])\n",
    "for var in baseball:\n",
    "    print(var)\n",
    "print('---------------')    \n",
    "for var in basketball:\n",
    "    print(var)\n",
    "print('-----------')    \n",
    "print('The following players those will play in both   ')\n",
    "for var in baseball.intersection(basketball):\n",
    "    print(var)\n",
    "print('The followinf are the players that are in baseball but not in basketball')\n",
    "for var in baseball.difference(basketball):\n",
    "    print(var)"
   ]
  }
 ],
 "metadata": {
  "colab": {
   "name": "Set___.ipynb",
   "provenance": []
  },
  "kernelspec": {
   "display_name": "Python 3",
   "language": "python",
   "name": "python3"
  },
  "language_info": {
   "codemirror_mode": {
    "name": "ipython",
    "version": 3
   },
   "file_extension": ".py",
   "mimetype": "text/x-python",
   "name": "python",
   "nbconvert_exporter": "python",
   "pygments_lexer": "ipython3",
   "version": "3.8.3"
  }
 },
 "nbformat": 4,
 "nbformat_minor": 1
}
