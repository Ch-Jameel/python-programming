{
 "cells": [
  {
   "cell_type": "markdown",
   "metadata": {
    "id": "FmeUXrdb8SiZ"
   },
   "source": [
    "# **Control Flow**"
   ]
  },
  {
   "cell_type": "markdown",
   "metadata": {
    "id": "2gr8a1wp75lJ"
   },
   "source": [
    "A program’s **control flow** is the order in which the program’s code executes.\n",
    "\n",
    "The control flow of a Python program is regulated by conditional statements, loops, and function calls.\n",
    "\n",
    "Python has three types of control structures:\n",
    "\n",
    "**1)** Sequential - default mode\n",
    "\n",
    "**2)** Selection - used for decisions and branching\n",
    "\n",
    "**3)** Repetition - used for looping, i.e., repeating a piece of code multiple times."
   ]
  },
  {
   "cell_type": "markdown",
   "metadata": {
    "id": "MRUweFdJ8P29"
   },
   "source": [
    "# **1. Sequential**"
   ]
  },
  {
   "cell_type": "markdown",
   "metadata": {
    "id": "KdR6-u5F8tQE"
   },
   "source": [
    "Sequential statements are a set of statements whose execution process happens in a sequence. The problem with sequential statements is that if the logic has broken in any one of the lines, then the complete source code execution will break."
   ]
  },
  {
   "cell_type": "code",
   "execution_count": 1,
   "metadata": {
    "colab": {
     "base_uri": "https://localhost:8080/"
    },
    "id": "A0krG3V59r4X",
    "outputId": "ead4edb2-6628-41e9-ed48-20c40a485e0e"
   },
   "outputs": [
    {
     "name": "stdout",
     "output_type": "stream",
     "text": [
      "Subtraction is :  10\n"
     ]
    }
   ],
   "source": [
    "## This is a Sequential statement\n",
    " \n",
    "a=20\n",
    "b=10\n",
    "c=a-b\n",
    "print(\"Subtraction is : \",c)"
   ]
  },
  {
   "cell_type": "markdown",
   "metadata": {
    "id": "cxhesrcD98TI"
   },
   "source": [
    "# **2. Selection/Decision control statements**"
   ]
  },
  {
   "cell_type": "markdown",
   "metadata": {
    "id": "6I7kJ5VB-BCi"
   },
   "source": [
    "In Python, the selection statements are also known as Decision control statements or branching statements.\n",
    "\n",
    "The selection statement allows a program to test several conditions and execute instructions based on which condition is true.\n",
    "\n",
    "Some Decision Control Statements are:\n",
    "\n",
    "Simple if\n",
    "\n",
    "if-else\n",
    "\n",
    "nested if\n",
    "\n",
    "if-elif-else"
   ]
  },
  {
   "cell_type": "markdown",
   "metadata": {
    "id": "JwRsvkx4-MB1"
   },
   "source": [
    "# **If Statement**"
   ]
  },
  {
   "cell_type": "markdown",
   "metadata": {
    "id": "8tRF4QzT-743"
   },
   "source": [
    "if statement is the most simple decision-making statement. It is used to decide whether a certain statement or block of statements will be executed or not i.e if a certain condition is true then a block of statement is executed otherwise not."
   ]
  },
  {
   "cell_type": "code",
   "execution_count": 2,
   "metadata": {
    "colab": {
     "base_uri": "https://localhost:8080/"
    },
    "id": "Xvpj3ydK_Nqj",
    "outputId": "22eccd87-6254-43ae-f856-27bcaecf4fc4"
   },
   "outputs": [
    {
     "name": "stdout",
     "output_type": "stream",
     "text": [
      "n is an even number\n"
     ]
    }
   ],
   "source": [
    "n = 10\n",
    "if n % 2 == 0:\n",
    "   print(\"n is an even number\")"
   ]
  },
  {
   "cell_type": "code",
   "execution_count": 3,
   "metadata": {
    "colab": {
     "base_uri": "https://localhost:8080/"
    },
    "id": "u_eh3tf4_bJv",
    "outputId": "379e8265-e90b-4ca4-e071-d50bfcc37a9e"
   },
   "outputs": [
    {
     "name": "stdout",
     "output_type": "stream",
     "text": [
      "I am Not in if\n"
     ]
    }
   ],
   "source": [
    "# python program to illustrate If statement\n",
    " \n",
    "i = 10\n",
    " \n",
    "if (i > 15):\n",
    "    print(\"10 is less than 15\")\n",
    "print(\"I am Not in if\")"
   ]
  },
  {
   "cell_type": "markdown",
   "metadata": {
    "id": "Z9gSBff2_m0l"
   },
   "source": [
    "# **if else**"
   ]
  },
  {
   "cell_type": "markdown",
   "metadata": {
    "id": "5sLFzLsX_s58"
   },
   "source": [
    "The if-else statement evaluates the condition and will execute the body of **if** if the test condition is True, but if the condition is False, then the body of **else** is executed."
   ]
  },
  {
   "cell_type": "code",
   "execution_count": 4,
   "metadata": {
    "id": "pzaP9aDcBl0S"
   },
   "outputs": [],
   "source": [
    "#if (condition):\n",
    "    # Executes this block if\n",
    "    # condition is true\n",
    "#else:\n",
    "    # Executes this block if\n",
    "    # condition is false"
   ]
  },
  {
   "cell_type": "code",
   "execution_count": 5,
   "metadata": {
    "colab": {
     "base_uri": "https://localhost:8080/"
    },
    "id": "aDB7uy48Buu7",
    "outputId": "a5829d9a-3bd4-44ff-edbe-c2f9257f44d5"
   },
   "outputs": [
    {
     "name": "stdout",
     "output_type": "stream",
     "text": [
      "i is greater than 15\n",
      "i'm in else Block\n",
      "i'm not in if and not in else Block\n"
     ]
    }
   ],
   "source": [
    "# python program to illustrate If else statement\n",
    "#!/usr/bin/python\n",
    " \n",
    "i = 20\n",
    "if (i < 15):\n",
    "    print(\"i is smaller than 15\")\n",
    "    print(\"i'm in if Block\")\n",
    "else:\n",
    "    print(\"i is greater than 15\")\n",
    "    print(\"i'm in else Block\")\n",
    "print(\"i'm not in if and not in else Block\")"
   ]
  },
  {
   "cell_type": "markdown",
   "metadata": {
    "id": "wYCGx3UUC46Q"
   },
   "source": [
    "# **if elif else**"
   ]
  },
  {
   "cell_type": "markdown",
   "metadata": {
    "id": "3ZrXKqr_C8qw"
   },
   "source": [
    "Here, a user can decide among multiple options. The if statements are executed from the top down. As soon as one of the conditions controlling the if is true, the statement associated with that if is executed, and the rest of the ladder is bypassed. If none of the conditions is true, then the final else statement will be executed."
   ]
  },
  {
   "cell_type": "code",
   "execution_count": 8,
   "metadata": {
    "colab": {
     "base_uri": "https://localhost:8080/",
     "height": 35
    },
    "id": "delTuJAYDShW",
    "outputId": "46f22fca-710c-4bc0-ac32-3c5a1624058d"
   },
   "outputs": [
    {
     "data": {
      "application/vnd.google.colaboratory.intrinsic+json": {
       "type": "string"
      },
      "text/plain": [
       "'\\nif (condition):\\n    statement\\nelif (condition):\\n    statement\\n.\\n.\\nelse:\\n    statement '"
      ]
     },
     "execution_count": 8,
     "metadata": {},
     "output_type": "execute_result"
    }
   ],
   "source": [
    "'''\n",
    "if (condition):\n",
    "    statement\n",
    "elif (condition):\n",
    "    statement\n",
    ".\n",
    ".\n",
    "else:\n",
    "    statement '''"
   ]
  },
  {
   "cell_type": "code",
   "execution_count": 7,
   "metadata": {
    "colab": {
     "base_uri": "https://localhost:8080/"
    },
    "id": "BsH1__iADHwJ",
    "outputId": "3b773cb9-51b3-4d66-d35b-6b1a040e560d"
   },
   "outputs": [
    {
     "name": "stdout",
     "output_type": "stream",
     "text": [
      "x is greater than y\n"
     ]
    }
   ],
   "source": [
    "x = 15\n",
    "y = 12\n",
    "if x == y:\n",
    "   print(\"Both are Equal\")\n",
    "elif x > y:\n",
    "    print(\"x is greater than y\")\n",
    "else:\n",
    "    print(\"x is smaller than y\")"
   ]
  },
  {
   "cell_type": "markdown",
   "metadata": {
    "id": "sBWBA0EXCLtb"
   },
   "source": [
    "# **nested if**"
   ]
  },
  {
   "cell_type": "markdown",
   "metadata": {
    "id": "elmJ5nqaCTKr"
   },
   "source": [
    "Nested if statements are an if statement inside another if statement.\n",
    "Yes, Python allows us to nest if statements within if statements. i.e, we can place an if statement inside another if statement."
   ]
  },
  {
   "cell_type": "code",
   "execution_count": 6,
   "metadata": {
    "id": "7p9FaiyFCf2x"
   },
   "outputs": [],
   "source": [
    "#if (condition1):\n",
    "\n",
    "   # Executes when condition1 is true\n",
    "\n",
    "   #if (condition2): \n",
    "\n",
    "      # Executes when condition2 is true\n",
    "   # if Block is end here\n",
    "# if Block is end here"
   ]
  },
  {
   "cell_type": "code",
   "execution_count": 1,
   "metadata": {},
   "outputs": [
    {
     "name": "stdout",
     "output_type": "stream",
     "text": [
      "c is big\n"
     ]
    }
   ],
   "source": [
    "a = 5\n",
    "b = 10\n",
    "c = 15\n",
    "if a > b:\n",
    "   if a > c:\n",
    "      print(\"a value is big\")\n",
    "   else:\n",
    "       print(\"c value is big\")\n",
    "elif b > c:\n",
    "    print(\"b value is big\")\n",
    "else:\n",
    "     print(\"c is big\")"
   ]
  },
  {
   "cell_type": "markdown",
   "metadata": {
    "id": "UIsdt5h7DvTs"
   },
   "source": [
    "# **3) Repetition**"
   ]
  },
  {
   "cell_type": "markdown",
   "metadata": {
    "id": "2TZBC1dRD0ud"
   },
   "source": [
    "A repetition statement is used to repeat a group(block) of programming instructions.\n",
    "\n",
    "In Python, we generally have two loops/repetitive statements:\n",
    "\n",
    "**1**) for loop\n",
    "\n",
    "**2**) while loop"
   ]
  },
  {
   "cell_type": "markdown",
   "metadata": {
    "id": "QCrWBC_rFJOB"
   },
   "source": [
    "# **1) For Loop**"
   ]
  },
  {
   "cell_type": "markdown",
   "metadata": {
    "id": "rT3Ob1WlFZFY"
   },
   "source": [
    "A for loop is used to iterate over a sequence that is either a list, tuple, dictionary, or a set. We can execute a set of statements once for each item in a list, tuple, or dictionary."
   ]
  },
  {
   "cell_type": "code",
   "execution_count": 9,
   "metadata": {
    "id": "TAwTjVz0CqOb"
   },
   "outputs": [],
   "source": [
    "#for var in iterable:\n",
    "    # statements"
   ]
  },
  {
   "cell_type": "code",
   "execution_count": 10,
   "metadata": {
    "colab": {
     "base_uri": "https://localhost:8080/"
    },
    "id": "OU0UyIJhIAJp",
    "outputId": "6604236f-190e-464f-83be-d683623cac49"
   },
   "outputs": [
    {
     "name": "stdout",
     "output_type": "stream",
     "text": [
      "1\n",
      "3\n",
      "5\n",
      "7\n",
      "9\n"
     ]
    }
   ],
   "source": [
    "for num in range(1,10,2):\n",
    "    print(num)\n",
    "    "
   ]
  },
  {
   "cell_type": "code",
   "execution_count": 11,
   "metadata": {
    "colab": {
     "base_uri": "https://localhost:8080/"
    },
    "id": "zHUtNy_GIU05",
    "outputId": "a10cf9fa-cd70-4445-ac68-ca59cfba646c"
   },
   "outputs": [
    {
     "name": "stdout",
     "output_type": "stream",
     "text": [
      "num\tsquare\n",
      "1 \t 1\n",
      "2 \t 4\n",
      "3 \t 9\n",
      "4 \t 16\n",
      "5 \t 25\n",
      "6 \t 36\n",
      "7 \t 49\n",
      "8 \t 64\n",
      "9 \t 81\n",
      "10 \t 100\n"
     ]
    }
   ],
   "source": [
    "print(\"num\\tsquare\")\n",
    "for num in range(1,11):\n",
    "    square=num**2\n",
    "    print(num,'\\t',square)"
   ]
  },
  {
   "cell_type": "code",
   "execution_count": 12,
   "metadata": {
    "colab": {
     "base_uri": "https://localhost:8080/"
    },
    "id": "lMGrhIFYIYrp",
    "outputId": "29f3e49a-99ac-4564-d644-3f27dd258918"
   },
   "outputs": [
    {
     "name": "stdout",
     "output_type": "stream",
     "text": [
      "KPH\tMPH\n",
      "60 \t 37.284\n",
      "70 \t 43.498\n",
      "80 \t 49.711999999999996\n",
      "90 \t 55.925999999999995\n",
      "100 \t 62.13999999999999\n",
      "110 \t 68.354\n",
      "120 \t 74.568\n",
      "130 \t 80.782\n"
     ]
    }
   ],
   "source": [
    "print('KPH\\tMPH')\n",
    "for KPH in range(60,131,10):\n",
    "    MPH=KPH*0.6214\n",
    "    print(KPH,'\\t',MPH)"
   ]
  },
  {
   "cell_type": "code",
   "execution_count": 13,
   "metadata": {
    "colab": {
     "base_uri": "https://localhost:8080/"
    },
    "id": "_tQ5AhJuIcIJ",
    "outputId": "bbb4d406-669b-48b1-af71-65dc0a8f7b76"
   },
   "outputs": [
    {
     "name": "stdout",
     "output_type": "stream",
     "text": [
      "please tell how high i can go 3\n",
      "num\tsquare\n",
      "1 \t 1\n",
      "2 \t 4\n",
      "3 \t 9\n"
     ]
    }
   ],
   "source": [
    "# controlled Program\n",
    "# Ending Limit Program\n",
    "end=int(input('please tell how high i can go '))\n",
    "print('num\\tsquare')\n",
    "for num in range(1,end+1):\n",
    "    square=num**2\n",
    "    print(num,'\\t',square)"
   ]
  },
  {
   "cell_type": "code",
   "execution_count": 14,
   "metadata": {
    "colab": {
     "base_uri": "https://localhost:8080/"
    },
    "id": "BFrSuq_-IjZJ",
    "outputId": "cb798654-5b00-483e-ed3b-00091c4eecc5"
   },
   "outputs": [
    {
     "name": "stdout",
     "output_type": "stream",
     "text": [
      "15.0\n"
     ]
    }
   ],
   "source": [
    "total=0.0\n",
    "for num in range(0,6):\n",
    "    total=total+num\n",
    "print(total)"
   ]
  },
  {
   "cell_type": "markdown",
   "metadata": {
    "id": "wuBJ4-8ePz4A"
   },
   "source": [
    "# **loop control statements.**"
   ]
  },
  {
   "cell_type": "markdown",
   "metadata": {
    "id": "OttQT36dP31E"
   },
   "source": [
    "Using loops in Python automates and repeats the tasks in an efficient manner. But sometimes, there may arise a condition where you want to exit the loop completely, skip an iteration or ignore that condition. These can be done by loop control statements. Loop control statements change execution from its normal sequence. When execution leaves a scope, all automatic objects that were created in that scope are destroyed. Python supports the following control statements.\n",
    "\n",
    "Continue statement\n",
    "\n",
    "Break statement\n",
    "\n",
    "Pass statement"
   ]
  },
  {
   "cell_type": "markdown",
   "metadata": {
    "id": "29ceLtyIIqic"
   },
   "source": [
    "# **Continue Statement**"
   ]
  },
  {
   "cell_type": "markdown",
   "metadata": {
    "id": "OLPax1mzP9GC"
   },
   "source": [
    "Continue statement is a loop control statement that forces to execute the next iteration of the loop while skipping the rest of the code inside the loop for the current iteration only i.e. when the continue statement is executed in the loop, the code inside the loop following the continue statement will be skipped for the current iteration and the next iteration of the loop will begin"
   ]
  },
  {
   "cell_type": "markdown",
   "metadata": {
    "id": "-0eA68hAIwdr"
   },
   "source": [
    "Python continue Statement returns the control to the beginning of the loop."
   ]
  },
  {
   "cell_type": "code",
   "execution_count": 15,
   "metadata": {
    "colab": {
     "base_uri": "https://localhost:8080/"
    },
    "id": "t15mXIdLIro3",
    "outputId": "8a8fff07-de6f-4a97-ac52-a83f930b2638"
   },
   "outputs": [
    {
     "name": "stdout",
     "output_type": "stream",
     "text": [
      "Current Letter : g\n",
      "Current Letter : k\n",
      "Current Letter : f\n",
      "Current Letter : o\n",
      "Current Letter : r\n",
      "Current Letter : g\n",
      "Current Letter : k\n"
     ]
    }
   ],
   "source": [
    "# Prints all letters except 'e' and 's'\n",
    "for letter in 'geeksforgeeks':\n",
    "    if letter == 'e' or letter == 's':\n",
    "        continue\n",
    "    print('Current Letter :', letter)"
   ]
  },
  {
   "cell_type": "markdown",
   "metadata": {
    "id": "D6CejUkiI32C"
   },
   "source": [
    "# **Break Statement**"
   ]
  },
  {
   "cell_type": "markdown",
   "metadata": {
    "id": "9NQM0LzrQF9Q"
   },
   "source": [
    "Break statement in Python is used to bring the control out of the loop when some external condition is triggered. Break statement is put inside the loop body (generally after if condition)"
   ]
  },
  {
   "cell_type": "markdown",
   "metadata": {
    "id": "-dbSyniLI49w"
   },
   "source": [
    "Python break statement brings control out of the loop."
   ]
  },
  {
   "cell_type": "code",
   "execution_count": 16,
   "metadata": {
    "colab": {
     "base_uri": "https://localhost:8080/"
    },
    "id": "0ANmpwyzI1AQ",
    "outputId": "cd680c40-db33-46aa-d0c4-c0484fa166bc"
   },
   "outputs": [
    {
     "name": "stdout",
     "output_type": "stream",
     "text": [
      "Current Letter : e\n"
     ]
    }
   ],
   "source": [
    "for letter in 'geeksforgeeks':\n",
    " \n",
    "    # break the loop as soon it sees 'e'\n",
    "    # or 's'\n",
    "    if letter == 'e' or letter == 's':\n",
    "        break\n",
    " \n",
    "print('Current Letter :', letter)"
   ]
  },
  {
   "cell_type": "markdown",
   "metadata": {
    "id": "Rb34b3LnJGQG"
   },
   "source": [
    "# **Pass Statement**"
   ]
  },
  {
   "cell_type": "markdown",
   "metadata": {
    "id": "KSgGlDsPQNb_"
   },
   "source": [
    "The pass statement is generally used as a placeholder i.e. when the user does not know what code to write. So user simply places pass at that line. Sometimes, pass is used when the user doesn’t want any code to execute. So user can simply place pass where empty code is not allowed, like in loops, function definitions, class definitions, or in if statements. So using pass statement user avoids this error"
   ]
  },
  {
   "cell_type": "markdown",
   "metadata": {
    "id": "e5sYuBg1JHjA"
   },
   "source": [
    "The pass statement to write empty loops. Pass is also used for empty control statements, functions, and classes."
   ]
  },
  {
   "cell_type": "code",
   "execution_count": 17,
   "metadata": {
    "colab": {
     "base_uri": "https://localhost:8080/"
    },
    "id": "fiwv1RKtJD4v",
    "outputId": "975e0d49-5edd-49d2-dcfa-81e2998f4739"
   },
   "outputs": [
    {
     "name": "stdout",
     "output_type": "stream",
     "text": [
      "Last Letter : s\n"
     ]
    }
   ],
   "source": [
    "# An empty loop\n",
    "for letter in 'geeksforgeeks':\n",
    "    pass\n",
    "print('Last Letter :', letter)"
   ]
  },
  {
   "cell_type": "markdown",
   "metadata": {
    "id": "ZjL9seLFMtS5"
   },
   "source": [
    "# **2) while loop**"
   ]
  },
  {
   "cell_type": "markdown",
   "metadata": {
    "id": "uQzANoo8MwKb"
   },
   "source": [
    "Python While Loop is used to execute a block of statements repeatedly until a given condition is satisfied. And when the condition becomes false, the line immediately after the loop in the program is executed. While loop falls under the category of indefinite iteration. Indefinite iteration means that the number of times the loop is executed isn’t specified explicitly in advance."
   ]
  },
  {
   "cell_type": "code",
   "execution_count": 18,
   "metadata": {
    "colab": {
     "base_uri": "https://localhost:8080/",
     "height": 35
    },
    "id": "I87D-lnhNDUK",
    "outputId": "274e6c25-3dc5-44fc-f2d8-4990c0d1142c"
   },
   "outputs": [
    {
     "data": {
      "application/vnd.google.colaboratory.intrinsic+json": {
       "type": "string"
      },
      "text/plain": [
       "'\\nwhile expression:\\n    statement(s)   '"
      ]
     },
     "execution_count": 18,
     "metadata": {},
     "output_type": "execute_result"
    }
   ],
   "source": [
    "'''\n",
    "while expression:\n",
    "    statement(s)   '''"
   ]
  },
  {
   "cell_type": "code",
   "execution_count": 19,
   "metadata": {
    "colab": {
     "base_uri": "https://localhost:8080/"
    },
    "id": "Du7uaXIuNMOw",
    "outputId": "80c65249-fd33-493a-c355-22d40e5aebcf"
   },
   "outputs": [
    {
     "name": "stdout",
     "output_type": "stream",
     "text": [
      "Hello Geek\n",
      "Hello Geek\n",
      "Hello Geek\n"
     ]
    }
   ],
   "source": [
    "# Python program to illustrate\n",
    "# while loop\n",
    "count = 0\n",
    "while (count < 3):\n",
    "    count = count + 1\n",
    "    print(\"Hello Geek\")"
   ]
  },
  {
   "cell_type": "code",
   "execution_count": 20,
   "metadata": {
    "colab": {
     "base_uri": "https://localhost:8080/"
    },
    "id": "yp2lilMANdjU",
    "outputId": "c7949760-2860-4d81-dcca-a7e290428c01"
   },
   "outputs": [
    {
     "name": "stdout",
     "output_type": "stream",
     "text": [
      "0 1 2 3 4 End\n"
     ]
    }
   ],
   "source": [
    "m = 5\n",
    "i = 0\n",
    "while i < m:\n",
    "     print(i, end = \" \")\n",
    "     i = i + 1\n",
    "print(\"End\")"
   ]
  },
  {
   "cell_type": "code",
   "execution_count": 22,
   "metadata": {
    "colab": {
     "base_uri": "https://localhost:8080/"
    },
    "id": "wgyUL4STNjwY",
    "outputId": "f5c38b6d-daf8-454a-aaf3-53b4f1fc2b05"
   },
   "outputs": [
    {
     "name": "stdout",
     "output_type": "stream",
     "text": [
      "Hello Geek\n",
      "Hello Geek\n",
      "Hello Geek\n"
     ]
    }
   ],
   "source": [
    "# Python program to illustrate\n",
    "# Single statement while block\n",
    "count = 0\n",
    "while (count < 3): count += 1; print(\"Hello Geek\")"
   ]
  },
  {
   "cell_type": "code",
   "execution_count": 23,
   "metadata": {
    "colab": {
     "base_uri": "https://localhost:8080/"
    },
    "id": "Ij-R_BRaNwuf",
    "outputId": "682cd616-c212-495d-a0ae-4c55aadcef40"
   },
   "outputs": [
    {
     "name": "stdout",
     "output_type": "stream",
     "text": [
      "Current Letter : g\n",
      "Current Letter : k\n",
      "Current Letter : f\n",
      "Current Letter : o\n",
      "Current Letter : r\n",
      "Current Letter : g\n",
      "Current Letter : k\n"
     ]
    }
   ],
   "source": [
    "# Prints all letters except 'e' and 's'\n",
    "i = 0\n",
    "a = 'geeksforgeeks'\n",
    " \n",
    "while i < len(a):\n",
    "    if a[i] == 'e' or a[i] == 's':\n",
    "        i += 1\n",
    "        continue\n",
    "         \n",
    "    print('Current Letter :', a[i])\n",
    "    i += 1"
   ]
  },
  {
   "cell_type": "code",
   "execution_count": 24,
   "metadata": {
    "colab": {
     "base_uri": "https://localhost:8080/"
    },
    "id": "XsmHc-I1OV-O",
    "outputId": "9d4c71d9-0225-4c41-8a2d-916ac9e896d9"
   },
   "outputs": [
    {
     "name": "stdout",
     "output_type": "stream",
     "text": [
      "please enter the whole sale cost $45\n",
      "the retail price is $112.5\n",
      "if you have any other product then put y for yes no\n"
     ]
    }
   ],
   "source": [
    "mark_up=2.5\n",
    "again='y'\n",
    "while again=='y' or again=='Y':\n",
    "    whole_sale=float(input('please enter the whole sale cost $'))\n",
    "    while whole_sale < 0:\n",
    "        print('enter positive number')\n",
    "        whole_sale=float(input('Enter the whole sale cost'))\n",
    "    retail=whole_sale*mark_up\n",
    "    print('the retail price is $',retail,sep=\"\")\n",
    "    again=input('if you have any other product then put y for yes ')"
   ]
  },
  {
   "cell_type": "code",
   "execution_count": 25,
   "metadata": {
    "colab": {
     "base_uri": "https://localhost:8080/"
    },
    "id": "tVBWY8rEOdWm",
    "outputId": "f5f9c417-2a61-4f0c-c017-3121db9c1311"
   },
   "outputs": [
    {
     "name": "stdout",
     "output_type": "stream",
     "text": [
      "Enter a number (-1 to quit): 5\n",
      "Enter a number (-1 to quit): 6\n",
      "Enter a number (-1 to quit): 7\n",
      "Enter a number (-1 to quit): -1\n"
     ]
    }
   ],
   "source": [
    "a = int(input('Enter a number (-1 to quit): '))\n",
    " \n",
    "while a != -1:\n",
    "    a = int(input('Enter a number (-1 to quit): '))"
   ]
  }
 ],
 "metadata": {
  "colab": {
   "name": "Control Flow .ipynb",
   "provenance": []
  },
  "kernelspec": {
   "display_name": "Python 3",
   "language": "python",
   "name": "python3"
  },
  "language_info": {
   "codemirror_mode": {
    "name": "ipython",
    "version": 3
   },
   "file_extension": ".py",
   "mimetype": "text/x-python",
   "name": "python",
   "nbconvert_exporter": "python",
   "pygments_lexer": "ipython3",
   "version": "3.8.3"
  }
 },
 "nbformat": 4,
 "nbformat_minor": 1
}
