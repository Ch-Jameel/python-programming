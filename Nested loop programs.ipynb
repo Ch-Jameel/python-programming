{
 "cells": [
  {
   "cell_type": "markdown",
   "metadata": {},
   "source": [
    "# Nested loop"
   ]
  },
  {
   "cell_type": "code",
   "execution_count": 1,
   "metadata": {},
   "outputs": [
    {
     "name": "stdout",
     "output_type": "stream",
     "text": [
      "please put the number of students  3\n",
      "please enter the number of test for each student 4\n",
      "Student Number 1\n",
      "------------\n",
      "Test number 1 enter the test score 45\n",
      "Test number 2 enter the test score 76\n",
      "Test number 3 enter the test score 98\n",
      "Test number 4 enter the test score 78\n",
      "The  average for student num   1 is  74.25\n",
      "Student Number 2\n",
      "------------\n",
      "Test number 1 enter the test score 45\n",
      "Test number 2 enter the test score 87\n",
      "Test number 3 enter the test score 98\n",
      "Test number 4 enter the test score 99\n",
      "The  average for student num   2 is  82.25\n",
      "Student Number 3\n",
      "------------\n",
      "Test number 1 enter the test score 76\n",
      "Test number 2 enter the test score 87\n",
      "Test number 3 enter the test score 98\n",
      "Test number 4 enter the test score 99\n",
      "The  average for student num   3 is  90.0\n"
     ]
    }
   ],
   "source": [
    "student_num=int(input('please put the number of students  '))\n",
    "student_test=int(input('please enter the number of test for each student '))\n",
    "for i in range(student_num):\n",
    "    total=0.0\n",
    "    print('Student Number',i+1)\n",
    "    print('------------')\n",
    "    for j in range(student_test):\n",
    "        print('Test number',j+1,end=\" \")\n",
    "        score=float(input('enter the test score '))\n",
    "        total=total+score\n",
    "    average=total/student_test\n",
    "    print('The  average for student num  ',i+1,'is ',average)"
   ]
  },
  {
   "cell_type": "code",
   "execution_count": 3,
   "metadata": {},
   "outputs": [
    {
     "name": "stdout",
     "output_type": "stream",
     "text": [
      "******\n",
      "******\n",
      "******\n",
      "******\n",
      "******\n",
      "******\n",
      "******\n",
      "******\n"
     ]
    }
   ],
   "source": [
    "for i in range(0,8):\n",
    "    for j in range(0,6):\n",
    "        print('*',end='')\n",
    "    print()    "
   ]
  },
  {
   "cell_type": "code",
   "execution_count": 4,
   "metadata": {},
   "outputs": [
    {
     "name": "stdout",
     "output_type": "stream",
     "text": [
      "*\n",
      "**\n",
      "***\n",
      "****\n",
      "*****\n",
      "******\n",
      "*******\n",
      "********\n"
     ]
    }
   ],
   "source": [
    "for i in range(0,8):\n",
    "    for j in range(i+1):\n",
    "        print('*',end='')\n",
    "    print()    "
   ]
  },
  {
   "cell_type": "code",
   "execution_count": 5,
   "metadata": {},
   "outputs": [
    {
     "name": "stdout",
     "output_type": "stream",
     "text": [
      "#\n",
      " #\n",
      "  #\n",
      "   #\n",
      "    #\n",
      "     #\n"
     ]
    }
   ],
   "source": [
    "for i in range(0,6):\n",
    "    for j in range(i):\n",
    "        print(' ',end='')\n",
    "    print('#')    \n",
    "    "
   ]
  }
 ],
 "metadata": {
  "kernelspec": {
   "display_name": "Python 3",
   "language": "python",
   "name": "python3"
  },
  "language_info": {
   "codemirror_mode": {
    "name": "ipython",
    "version": 3
   },
   "file_extension": ".py",
   "mimetype": "text/x-python",
   "name": "python",
   "nbconvert_exporter": "python",
   "pygments_lexer": "ipython3",
   "version": "3.8.3"
  }
 },
 "nbformat": 4,
 "nbformat_minor": 4
}
