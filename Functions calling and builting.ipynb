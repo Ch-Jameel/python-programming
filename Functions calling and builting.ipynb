{
 "cells": [
  {
   "cell_type": "code",
   "execution_count": 1,
   "metadata": {},
   "outputs": [
    {
     "name": "stdout",
     "output_type": "stream",
     "text": [
      "hello\n"
     ]
    }
   ],
   "source": [
    "def startup_massage():\n",
    "    print('hello')\n",
    "startup_massage()"
   ]
  },
  {
   "cell_type": "markdown",
   "metadata": {},
   "source": [
    "# Function of function"
   ]
  },
  {
   "cell_type": "code",
   "execution_count": 2,
   "metadata": {},
   "outputs": [
    {
     "name": "stdout",
     "output_type": "stream",
     "text": [
      "This program tells you how to\n",
      "disassemble an ACME laundry dryer.\n",
      "There are 4 steps in the process.\n",
      "Good bye\n"
     ]
    }
   ],
   "source": [
    "def main():\n",
    "    startup_massage()\n",
    "    print('Good bye')\n",
    "def startup_massage():\n",
    "    print('This program tells you how to')\n",
    "    print('disassemble an ACME laundry dryer.')\n",
    "    print('There are 4 steps in the process.')\n",
    "main()    \n",
    "    \n",
    "    "
   ]
  },
  {
   "cell_type": "code",
   "execution_count": 3,
   "metadata": {},
   "outputs": [
    {
     "name": "stdout",
     "output_type": "stream",
     "text": [
      "texas has 4000 birds.\n",
      "california has 6000 birds.\n"
     ]
    }
   ],
   "source": [
    "# This program demonstrates two functions that\n",
    "# have local variables with the same name.\n",
    "\n",
    "def main():\n",
    "    texas()\n",
    "    california()\n",
    "def texas():\n",
    "    birds = 4000\n",
    "    print('texas has', birds, 'birds.')\n",
    "def california():\n",
    "    birds = 6000\n",
    "    print('california has', birds, 'birds.')\n",
    "main()"
   ]
  },
  {
   "cell_type": "markdown",
   "metadata": {},
   "source": [
    "# using input function for birds"
   ]
  },
  {
   "cell_type": "code",
   "execution_count": 4,
   "metadata": {},
   "outputs": [
    {
     "name": "stdout",
     "output_type": "stream",
     "text": [
      "please enter the birds 4000\n",
      "texas has 4000 birds.\n",
      "please enter the birds 5000\n",
      "california has 5000 birds.\n"
     ]
    }
   ],
   "source": [
    "def main():\n",
    "    texas()\n",
    "    california()\n",
    "def texas():\n",
    "    birds=int(input('please enter the birds '))\n",
    "    print('texas has', birds, 'birds.')\n",
    "def california():\n",
    "    birds=int(input('please enter the birds '))\n",
    "    print('california has', birds, 'birds.')\n",
    "main()"
   ]
  },
  {
   "cell_type": "markdown",
   "metadata": {},
   "source": [
    "# Get poitive number for birds using loop"
   ]
  },
  {
   "cell_type": "code",
   "execution_count": 5,
   "metadata": {},
   "outputs": [
    {
     "name": "stdout",
     "output_type": "stream",
     "text": [
      "please enter the birds -12\n",
      "enter positive number\n",
      "please enter the birds 345\n",
      "texas has 345 birds.\n",
      "please enter the birds 987\n",
      "california has 987 birds.\n"
     ]
    }
   ],
   "source": [
    "def main():\n",
    "    texas()\n",
    "    california()\n",
    "def texas():\n",
    "    birds=int(input('please enter the birds '))\n",
    "    while birds <=0:\n",
    "        print('enter positive number')\n",
    "        birds=int(input('please enter the birds '))\n",
    "    print('texas has', birds, 'birds.')\n",
    "def california():\n",
    "    birds=int(input('please enter the birds '))\n",
    "    while birds <=0:\n",
    "        print('enter positive number')\n",
    "        birds=int(input('please enter the birds '))\n",
    "    print('california has', birds, 'birds.')\n",
    "main()    "
   ]
  },
  {
   "cell_type": "code",
   "execution_count": 6,
   "metadata": {},
   "outputs": [
    {
     "name": "stdout",
     "output_type": "stream",
     "text": [
      "10\n"
     ]
    }
   ],
   "source": [
    "def main():\n",
    "    value = 5\n",
    "    show_double(value)\n",
    "def show_double(number):\n",
    "    result = number * 2\n",
    "    print(result)\n",
    "main()    \n",
    " "
   ]
  },
  {
   "cell_type": "code",
   "execution_count": 11,
   "metadata": {},
   "outputs": [
    {
     "name": "stdout",
     "output_type": "stream",
     "text": [
      "This program converts measurements\n",
      "in cups to fluid ounces. For your\n",
      "reference the formula is:\n",
      " 1 cup = 8 fluid ounces\n",
      "\n",
      "Enter the number of cups: 67\n",
      "The ounces of 67 cups is 536\n"
     ]
    }
   ],
   "source": [
    "# This program converts cups to fluid ounces.\n",
    "def main():\n",
    "    intro()\n",
    "    cups_needed = int(input('Enter the number of cups: '))\n",
    "    cups_to_ounces(cups_needed)\n",
    "def intro():\n",
    "    print('This program converts measurements')\n",
    "    print('in cups to fluid ounces. For your')\n",
    "    print('reference the formula is:')\n",
    "    print(' 1 cup = 8 fluid ounces')\n",
    "    print()\n",
    "def cups_to_ounces(cups):\n",
    "    ounces = cups * 8\n",
    "    print('The ounces of',cups,'cups is',ounces)\n",
    "main()    \n"
   ]
  },
  {
   "cell_type": "markdown",
   "metadata": {},
   "source": [
    "# Global constant and variable pratical"
   ]
  },
  {
   "cell_type": "code",
   "execution_count": 12,
   "metadata": {},
   "outputs": [
    {
     "name": "stdout",
     "output_type": "stream",
     "text": [
      "Enter the gross pay: 23000\n",
      "Enter the amount of bonuses: 1200\n",
      "Contribution for gross pay: $1,150.00\n",
      "Contribution for bonuses: $60.00\n"
     ]
    }
   ],
   "source": [
    "CONTRIBUTION_RATE = 0.05\n",
    "def main():\n",
    "    gross_pay = float(input('Enter the gross pay: '))\n",
    "    bonus = float(input('Enter the amount of bonuses: '))\n",
    "    show_pay_contrib(gross_pay)\n",
    "    show_bonus_contrib(bonus)\n",
    "\n",
    "def show_pay_contrib(gross):\n",
    "    contrib = gross * CONTRIBUTION_RATE\n",
    "    print('Contribution for gross pay: $',\n",
    "    format(contrib, ',.2f'),\n",
    "    sep='')\n",
    "\n",
    "def show_bonus_contrib(bonus):\n",
    "    contrib = bonus * CONTRIBUTION_RATE\n",
    "    print('Contribution for bonuses: $',\n",
    "    format(contrib, ',.2f'),\n",
    "    sep='')\n",
    "main()"
   ]
  },
  {
   "cell_type": "markdown",
   "metadata": {},
   "source": [
    "# using Random Numbers to Represent Other Values"
   ]
  },
  {
   "cell_type": "code",
   "execution_count": 2,
   "metadata": {},
   "outputs": [
    {
     "name": "stdout",
     "output_type": "stream",
     "text": [
      "Tail\n",
      "Tail\n",
      "Tail\n",
      "Head\n",
      "Head\n",
      "Head\n",
      "Tail\n",
      "Tail\n",
      "Tail\n",
      "Head\n"
     ]
    }
   ],
   "source": [
    "import random\n",
    "Heads=1\n",
    "Tails=2\n",
    "Toss=10\n",
    "for i in range(Toss):\n",
    "    if random.randint(Heads,Tails)==Heads:\n",
    "        print('Head')\n",
    "    else:\n",
    "        print('Tail')"
   ]
  },
  {
   "cell_type": "code",
   "execution_count": 16,
   "metadata": {},
   "outputs": [
    {
     "data": {
      "text/plain": [
       "10"
      ]
     },
     "execution_count": 16,
     "metadata": {},
     "output_type": "execute_result"
    }
   ],
   "source": [
    "random.seed(10)\n",
    "random.randint(1,10)"
   ]
  },
  {
   "cell_type": "code",
   "execution_count": 28,
   "metadata": {},
   "outputs": [
    {
     "data": {
      "text/plain": [
       "8"
      ]
     },
     "execution_count": 28,
     "metadata": {},
     "output_type": "execute_result"
    }
   ],
   "source": [
    "random.randint(1,11)"
   ]
  },
  {
   "cell_type": "code",
   "execution_count": null,
   "metadata": {},
   "outputs": [],
   "source": []
  }
 ],
 "metadata": {
  "kernelspec": {
   "display_name": "Python 3",
   "language": "python",
   "name": "python3"
  },
  "language_info": {
   "codemirror_mode": {
    "name": "ipython",
    "version": 3
   },
   "file_extension": ".py",
   "mimetype": "text/x-python",
   "name": "python",
   "nbconvert_exporter": "python",
   "pygments_lexer": "ipython3",
   "version": "3.8.3"
  }
 },
 "nbformat": 4,
 "nbformat_minor": 4
}
