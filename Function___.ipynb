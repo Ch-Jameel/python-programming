{
 "cells": [
  {
   "cell_type": "markdown",
   "metadata": {
    "id": "_aGfMa8fOXlS"
   },
   "source": [
    "# **Python Functions**"
   ]
  },
  {
   "cell_type": "markdown",
   "metadata": {
    "id": "FHxIfdKgOZVD"
   },
   "source": [
    "**Python Functions** is a block of related statements designed to perform a computational, logical, or evaluative task. The idea is to put some commonly or repeatedly done tasks together and make a function so that instead of writing the same code again and again for different inputs, we can do the function calls to reuse code contained in it over and over again. \n",
    "\n",
    "Functions can be both built-in or user-defined. It helps the program to be concise, non-repetitive, and organized."
   ]
  },
  {
   "cell_type": "markdown",
   "metadata": {
    "id": "EG_fqVAlOdOu"
   },
   "source": [
    "# **Creating a Function**"
   ]
  },
  {
   "cell_type": "code",
   "execution_count": null,
   "metadata": {
    "id": "0hI4XlV3OloO"
   },
   "outputs": [],
   "source": [
    "def function_name(parameters):\n",
    "    \"\"\"docstring\"\"\"\n",
    "    statement(s)\n",
    "    return expression"
   ]
  },
  {
   "cell_type": "code",
   "execution_count": null,
   "metadata": {
    "id": "Q2WSo0dQOwk3"
   },
   "outputs": [],
   "source": [
    "# A simple Python function\n",
    " \n",
    "def fun():\n",
    "  print(\"Welcome to GFG\")"
   ]
  },
  {
   "cell_type": "markdown",
   "metadata": {
    "id": "jAD5Ry6dO3VS"
   },
   "source": [
    "# **Calling a  Function**"
   ]
  },
  {
   "cell_type": "markdown",
   "metadata": {
    "id": "Px-NujNjO4iM"
   },
   "source": [
    "After creating a function we can call it by using the name of the function followed by parenthesis containing parameters of that particular function."
   ]
  },
  {
   "cell_type": "code",
   "execution_count": null,
   "metadata": {
    "colab": {
     "base_uri": "https://localhost:8080/"
    },
    "id": "4AGpWmcSO78E",
    "outputId": "420e9528-ed40-4dde-c625-1612207d4f5c"
   },
   "outputs": [
    {
     "name": "stdout",
     "output_type": "stream",
     "text": [
      "Welcome to GFG\n"
     ]
    }
   ],
   "source": [
    "# A simple Python function\n",
    " \n",
    "def fun():\n",
    "  print(\"Welcome to GFG\")\n",
    "         \n",
    "# Driver code to call a function\n",
    "fun()"
   ]
  },
  {
   "cell_type": "markdown",
   "metadata": {
    "id": "phwKiU5WPBoR"
   },
   "source": [
    "# **Arguments of a Function**"
   ]
  },
  {
   "cell_type": "markdown",
   "metadata": {
    "id": "_pF4j3EfPDCD"
   },
   "source": [
    "Arguments are the values passed inside the parenthesis of the function. A function can have any number of arguments separated by a comma.\n",
    "**Example: Python Function with arguments**\n",
    "In this example, we will create a simple function to check whether the number passed as an argument to the function is even or odd.\n",
    "\n"
   ]
  },
  {
   "cell_type": "code",
   "execution_count": null,
   "metadata": {
    "colab": {
     "base_uri": "https://localhost:8080/"
    },
    "id": "aZ0VvufoPLbb",
    "outputId": "67f45b54-266c-45fa-fbfb-58cddc96c136"
   },
   "outputs": [
    {
     "name": "stdout",
     "output_type": "stream",
     "text": [
      "5  is odd\n"
     ]
    }
   ],
   "source": [
    "def oddeven(x):\n",
    "  if x%2==0:\n",
    "    print(x,' is even')\n",
    "  else:\n",
    "    print(x,' is odd')\n",
    "# driver code to run function.\n",
    "oddeven(5)"
   ]
  },
  {
   "cell_type": "markdown",
   "metadata": {
    "id": "mNtn7ncYPsy_"
   },
   "source": [
    "# **Types of Arguments**"
   ]
  },
  {
   "cell_type": "markdown",
   "metadata": {
    "id": "gm83ZbR6PuTW"
   },
   "source": [
    "Python supports various types of arguments that can be passed at the time of the function call. Let’s discuss each type in detail."
   ]
  },
  {
   "cell_type": "markdown",
   "metadata": {
    "id": "8W1SW78TQ8Kx"
   },
   "source": [
    "# Default arguments"
   ]
  },
  {
   "cell_type": "markdown",
   "metadata": {
    "id": "RyWigNXkQ-76"
   },
   "source": [
    "A default argument is a parameter that assumes a default value if a value is not provided in the function call for that argument. The following example illustrates Default arguments. "
   ]
  },
  {
   "cell_type": "code",
   "execution_count": null,
   "metadata": {
    "colab": {
     "base_uri": "https://localhost:8080/"
    },
    "id": "R53Fwnl0RBPC",
    "outputId": "5662d407-4096-4d52-ccf7-f684d34f6c8d"
   },
   "outputs": [
    {
     "name": "stdout",
     "output_type": "stream",
     "text": [
      "x:  10\n",
      "y:  50\n"
     ]
    }
   ],
   "source": [
    "# Python program to demonstrate\n",
    "# default arguments \n",
    "def myFun(x, y=50):\n",
    "    print(\"x: \", x)\n",
    "    print(\"y: \", y) \n",
    "# Driver code (We call myFun() with only\n",
    "# argument)\n",
    "myFun(10)"
   ]
  },
  {
   "cell_type": "markdown",
   "metadata": {
    "id": "Lg0ZJJhuTXnN"
   },
   "source": [
    "#Keyword arguments"
   ]
  },
  {
   "cell_type": "markdown",
   "metadata": {
    "id": "sG9TfNLxTZ6h"
   },
   "source": [
    "The idea is to allow the caller to specify the argument name with values so that caller does not need to remember the order of parameters"
   ]
  },
  {
   "cell_type": "code",
   "execution_count": null,
   "metadata": {
    "colab": {
     "base_uri": "https://localhost:8080/"
    },
    "id": "5kWoRQrrTedX",
    "outputId": "f0b55c43-d52c-48e4-c88b-aa8a8fe1260c"
   },
   "outputs": [
    {
     "name": "stdout",
     "output_type": "stream",
     "text": [
      "Geeks Practice\n",
      "Geeks Practice\n"
     ]
    }
   ],
   "source": [
    "# Python program to demonstrate Keyword Arguments\n",
    "def student(firstname, lastname):\n",
    "    print(firstname, lastname)\n",
    "# Keyword arguments\n",
    "student(firstname='Geeks', lastname='Practice')\n",
    "student(lastname='Practice', firstname='Geeks')"
   ]
  },
  {
   "cell_type": "markdown",
   "metadata": {
    "id": "OUmpQ3__UZR9"
   },
   "source": [
    "# Variable-length arguments"
   ]
  },
  {
   "cell_type": "markdown",
   "metadata": {
    "id": "cwpgDM5NUam7"
   },
   "source": [
    "In Python, we can pass a variable number of arguments to a function using special symbols. There are two special symbols:\n",
    "\n",
    "**>**  *args (Non-Keyword Arguments)\n",
    "\n",
    "**>**  **kwargs (Keyword Arguments)\n",
    "\n",
    "The special syntax  ***args**  in function definitions in python is used to pass a variable number of arguments to a function. It is used to pass a non-key worded, variable-length argument list. \n",
    "\n",
    "**1)** The syntax is to use the symbol * to take in a variable number of arguments; by convention, it is often used with the word args.\n",
    "\n",
    "**2)** What *args allows you to do is take in more arguments than the number of formal arguments that you previously defined. With *args, any number of extra arguments can be tacked on to your current formal parameters (including zero extra arguments).\n",
    "\n",
    "**4)** For example : we want to make a multiply function that takes any number of arguments and able to multiply them all together. It can be done using *args.\n",
    "\n",
    "**5)** Using the *, the variable that we associate with the * becomes an iterable meaning you can do things like iterate over it, run some higher-order functions such as map and filter, etc.\n",
    "\n",
    "**Example 1: Variable length non-keywords argument**"
   ]
  },
  {
   "cell_type": "code",
   "execution_count": null,
   "metadata": {
    "colab": {
     "base_uri": "https://localhost:8080/"
    },
    "id": "sIr85qC8Ul5n",
    "outputId": "1a7d122e-a1ed-4674-d0e8-99bb25dd19dc"
   },
   "outputs": [
    {
     "name": "stdout",
     "output_type": "stream",
     "text": [
      "Hello\n",
      "Welcome\n",
      "to\n",
      "GeeksforGeeks\n"
     ]
    }
   ],
   "source": [
    "# Python program to illustrate\n",
    "# *args for variable number of arguments\n",
    "def myFun(*argv):\n",
    "    for arg in argv:\n",
    "        print(arg)\n",
    "myFun('Hello', 'Welcome', 'to', 'GeeksforGeeks')"
   ]
  },
  {
   "cell_type": "markdown",
   "metadata": {
    "id": "JTVk_s1Oobqp"
   },
   "source": [
    " **2.) **kwargs**\n",
    "\n",
    " The special syntax **kwargs in function definitions in python is used to pass a keyworded, variable-length argument list. We use the name kwargs with the double star. The reason is because the double star allows us to pass through keyword arguments (and any number of them).\n",
    "\n",
    "**1)** A keyword argument is where you provide a name to the variable as you pass it into the function.\n",
    "\n",
    "**2)** One can think of the kwargs as being a dictionary that maps each keyword to the value that we pass alongside it. That is why when we iterate over the kwargs there doesn’t seem to be any order in which they were printed out."
   ]
  },
  {
   "cell_type": "markdown",
   "metadata": {
    "id": "969nyjLoaArP"
   },
   "source": [
    "**Example 2: Variable length keyword arguments**"
   ]
  },
  {
   "cell_type": "code",
   "execution_count": null,
   "metadata": {
    "colab": {
     "base_uri": "https://localhost:8080/"
    },
    "id": "UfuVRt3SaCfn",
    "outputId": "abf64636-af00-43b9-80d7-5fb4551ddde8"
   },
   "outputs": [
    {
     "name": "stdout",
     "output_type": "stream",
     "text": [
      "first == Geeks\n",
      "mid == for\n",
      "last == Geeks\n"
     ]
    }
   ],
   "source": [
    "# Python program to illustrate\n",
    "# *kwargs for variable number of keyword arguments\n",
    "def myFun(**kwargs):\n",
    "    for key, value in kwargs.items():\n",
    "        print(\"%s == %s\" % (key, value))\n",
    "# Driver code\n",
    "myFun(first='Geeks', mid='for', last='Geeks')"
   ]
  },
  {
   "cell_type": "markdown",
   "metadata": {
    "id": "lLJZ1mZwcn4L"
   },
   "source": [
    "# **The return statement**"
   ]
  },
  {
   "cell_type": "markdown",
   "metadata": {
    "id": "_bAPSxjXcpbO"
   },
   "source": [
    "The function return statement is used to exit from a function and go back to the function caller and return the specified value or data item to the caller.\n",
    "\n",
    "**Syntax: return [expression_list]**\n",
    "\n",
    "The **return statement** can consist of a variable, an expression, or a constant which is returned to the end of the function execution. If none of the above is present with the return statement a None object is returned.\n"
   ]
  },
  {
   "cell_type": "markdown",
   "metadata": {
    "id": "OVXwD8_qhPEi"
   },
   "source": [
    "**Example: Python Function Return Statement**"
   ]
  },
  {
   "cell_type": "code",
   "execution_count": null,
   "metadata": {
    "colab": {
     "base_uri": "https://localhost:8080/"
    },
    "id": "ef8OIvU0c7Qs",
    "outputId": "8c3d1dc8-a7dc-4b9d-fc1b-34e8b0dcca48"
   },
   "outputs": [
    {
     "name": "stdout",
     "output_type": "stream",
     "text": [
      "4\n",
      "16\n"
     ]
    }
   ],
   "source": [
    "def square_value(num):\n",
    "    \"\"\"This function returns the square\n",
    "    value of the entered number\"\"\"\n",
    "    return num**2\n",
    "print(square_value(2))\n",
    "print(square_value(-4))"
   ]
  },
  {
   "cell_type": "code",
   "execution_count": null,
   "metadata": {
    "colab": {
     "base_uri": "https://localhost:8080/"
    },
    "id": "mqPfUuKajVio",
    "outputId": "786f40c0-a11e-45d3-ea38-1148ec828e56"
   },
   "outputs": [
    {
     "name": "stdout",
     "output_type": "stream",
     "text": [
      "5 4\n"
     ]
    }
   ],
   "source": [
    "# value swap function\n",
    "def swap(x,y):\n",
    "  tem=x\n",
    "  x=y\n",
    "  y=tem\n",
    "  print(x,y)\n",
    "x=4\n",
    "y=5\n",
    "swap(x,y)"
   ]
  },
  {
   "cell_type": "markdown",
   "metadata": {
    "id": "Xg63O41Or4Mr"
   },
   "source": [
    "# **When to use yield instead of return in Python?**"
   ]
  },
  {
   "cell_type": "markdown",
   "metadata": {
    "id": "TJixIvjBr9-N"
   },
   "source": [
    "The yield statement suspends function’s execution and sends a value back to the caller, but retains enough state to enable function to resume where it is left off. When resumed, the function continues execution immediately after the last yield run. This allows its code to produce a series of values over time, rather than computing them at once and sending them back like a list."
   ]
  },
  {
   "cell_type": "code",
   "execution_count": null,
   "metadata": {
    "colab": {
     "base_uri": "https://localhost:8080/"
    },
    "id": "KrQv22gYsZWt",
    "outputId": "79a41ed2-b76c-48c9-95bb-062080592a1b"
   },
   "outputs": [
    {
     "name": "stdout",
     "output_type": "stream",
     "text": [
      "1\n",
      "2\n",
      "3\n"
     ]
    }
   ],
   "source": [
    "# A Simple Python program to demonstrate working\n",
    "# of yield\n",
    "  \n",
    "# A generator function that yields 1 for the first time,\n",
    "# 2 second time and 3 third time\n",
    "def simpleGeneratorFun():\n",
    "    yield 1\n",
    "    yield 2\n",
    "    yield 3\n",
    "  \n",
    "# Driver code to check above generator function\n",
    "for value in simpleGeneratorFun(): \n",
    "    print(value)"
   ]
  },
  {
   "cell_type": "markdown",
   "metadata": {
    "id": "AVpSuEXovpIR"
   },
   "source": [
    "**Return** sends a specified value back to its caller whereas **Yield** can produce a sequence of values. We should use yield when we want to iterate over a sequence, but don’t want to store the entire sequence in memory.\n",
    "\n",
    "**Yield** are used in Python generators. A generator function is defined like a normal function, but whenever it needs to generate a value, it does so with the yield keyword rather than return. If the body of a def contains yield, the function automatically becomes a generator function."
   ]
  },
  {
   "cell_type": "code",
   "execution_count": null,
   "metadata": {
    "colab": {
     "base_uri": "https://localhost:8080/"
    },
    "id": "FfP3cA16v2IU",
    "outputId": "2476073a-3a30-4ea1-f2b3-1d60ee9a9a5b"
   },
   "outputs": [
    {
     "name": "stdout",
     "output_type": "stream",
     "text": [
      "1\n",
      "4\n",
      "9\n",
      "16\n",
      "25\n",
      "36\n",
      "49\n",
      "64\n",
      "81\n",
      "100\n"
     ]
    }
   ],
   "source": [
    "# A Python program to generate squares from 1\n",
    "# to 100 using yield and therefore generator\n",
    "  \n",
    "# An infinite generator function that prints\n",
    "# next square number. It starts with 1\n",
    "def nextSquare():\n",
    "    i = 1\n",
    "  \n",
    "    # An Infinite loop to generate squares \n",
    "    while True:\n",
    "        yield i*i                \n",
    "        i += 1  # Next execution resumes \n",
    "                # from this point     \n",
    "  \n",
    "# Driver code to test above generator \n",
    "# function\n",
    "for num in nextSquare():\n",
    "    if num > 100:\n",
    "         break    \n",
    "    print(num)"
   ]
  },
  {
   "cell_type": "markdown",
   "metadata": {
    "id": "4OcwYa1ZkZUa"
   },
   "source": [
    "# **Anonymous functions:**"
   ]
  },
  {
   "cell_type": "markdown",
   "metadata": {
    "id": "0lBKhuunkag9"
   },
   "source": [
    "In Python, an anonymous function means that a function is without a name. As we already know the def keyword is used to define the normal functions and the lambda keyword is used to create anonymous functions. Please see this for details."
   ]
  },
  {
   "cell_type": "code",
   "execution_count": null,
   "metadata": {
    "colab": {
     "base_uri": "https://localhost:8080/"
    },
    "id": "9d1mCDT6lgdb",
    "outputId": "2df8654a-1e36-46d2-f4ee-3f77719f2b1e"
   },
   "outputs": [
    {
     "name": "stdout",
     "output_type": "stream",
     "text": [
      "343\n",
      "343\n"
     ]
    }
   ],
   "source": [
    "# Python code to illustrate the cube of a number\n",
    "# using lambda function\n",
    "def cube(x): return x*x*x\n",
    " \n",
    "cube_v2 = lambda x : x*x*x\n",
    " \n",
    "print(cube(7))\n",
    "print(cube_v2(7))"
   ]
  },
  {
   "cell_type": "markdown",
   "metadata": {
    "id": "MKx6I0w_l9Au"
   },
   "source": [
    "# **Python Function within Functions**"
   ]
  },
  {
   "cell_type": "markdown",
   "metadata": {
    "id": "NONl6hWBl-aq"
   },
   "source": [
    "A function that is defined inside another function is known as the inner function or nested function. Nested functions are able to access variables of the enclosing scope. Inner functions are used so that they can be protected from everything happening outside the function."
   ]
  },
  {
   "cell_type": "code",
   "execution_count": null,
   "metadata": {
    "colab": {
     "base_uri": "https://localhost:8080/"
    },
    "id": "58uCM-KZmB6z",
    "outputId": "36f2632a-95b2-4459-a0ab-73737751b016"
   },
   "outputs": [
    {
     "name": "stdout",
     "output_type": "stream",
     "text": [
      "I love GeeksforGeeks\n"
     ]
    }
   ],
   "source": [
    "# Python program to\n",
    "# demonstrate accessing of\n",
    "# variables of nested functions\n",
    " \n",
    "def f1():\n",
    "    s = 'I love GeeksforGeeks'\n",
    "     \n",
    "    def f2():\n",
    "        print(s)\n",
    "         \n",
    "    f2()\n",
    " \n",
    "# Driver's code\n",
    "f1()"
   ]
  }
 ],
 "metadata": {
  "colab": {
   "name": "Function___.ipynb",
   "provenance": []
  },
  "kernelspec": {
   "display_name": "Python 3",
   "name": "python3"
  },
  "language_info": {
   "name": "python"
  }
 },
 "nbformat": 4,
 "nbformat_minor": 0
}
