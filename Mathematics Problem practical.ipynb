{
 "cells": [
  {
   "cell_type": "code",
   "execution_count": 1,
   "metadata": {},
   "outputs": [],
   "source": [
    "import math"
   ]
  },
  {
   "cell_type": "code",
   "execution_count": 2,
   "metadata": {},
   "outputs": [
    {
     "name": "stdout",
     "output_type": "stream",
     "text": [
      "please enter the number-4\n",
      "The square root of negative function is not applicable\n",
      "please enter the number12\n"
     ]
    },
    {
     "data": {
      "text/plain": [
       "3.4641016151377544"
      ]
     },
     "execution_count": 2,
     "metadata": {},
     "output_type": "execute_result"
    }
   ],
   "source": [
    "num=float(input('please enter the number'))\n",
    "while num<0:\n",
    "    print('The square root of negative function is not applicable')\n",
    "    num=float(input('please enter the number'))\n",
    "math.sqrt(num)"
   ]
  },
  {
   "cell_type": "code",
   "execution_count": 3,
   "metadata": {},
   "outputs": [
    {
     "data": {
      "text/plain": [
       "3.4641016151377544"
      ]
     },
     "execution_count": 3,
     "metadata": {},
     "output_type": "execute_result"
    }
   ],
   "source": [
    "import numpy as np\n",
    "np.sqrt(num)"
   ]
  },
  {
   "cell_type": "code",
   "execution_count": 4,
   "metadata": {},
   "outputs": [
    {
     "name": "stdout",
     "output_type": "stream",
     "text": [
      "Enter the length of side A: -5\n",
      "Enter the length of side B: 5\n",
      "Enter both the poitive sides ,Sides can not be positive\n",
      "Enter the length of side A: 5\n",
      "Enter the length of side B: 5\n",
      "The hypotenis of the triangle is   7.0710678118654755\n"
     ]
    }
   ],
   "source": [
    " #This program calculates the length of a right\n",
    "  # triangle's hypotenuse.\n",
    "a= float(input('Enter the length of side A: '))\n",
    "b = float(input('Enter the length of side B: '))\n",
    "while a<0 or b<0:\n",
    "    print('Enter both the poitive sides ,Sides can not be positive')\n",
    "    a= float(input('Enter the length of side A: '))\n",
    "    b = float(input('Enter the length of side B: '))\n",
    "c=math.hypot(a,b)\n",
    "print('The hypotenis of the triangle is  ',c)\n"
   ]
  },
  {
   "cell_type": "markdown",
   "metadata": {},
   "source": [
    "# Math Built In Function"
   ]
  },
  {
   "cell_type": "raw",
   "metadata": {},
   "source": [
    "#Math Module Function Description\n",
    "acos(x)             Returns the arc cosine of x, in radians.\n",
    "asin(x)             Returns the arc sine of x, in radians.\n",
    "atan(x)             Returns the arc tangent of x, in radians.\n",
    "ceil(x)             Returns the smallest integer that is greater than or equal to x.\n",
    "cos(x)              Returns the cosine of x in radians.\n",
    "degrees(x)          Assuming x is an angle in radians, the function returns the angle \n",
    "converted to degrees.\n",
    "\n",
    "exp(x)                Returns ex\n",
    "floor(x)              Returns the largest integer that is less than or equal to x.\n",
    "hypot(x, y)            Returns the length of a hypotenuse that extends from (0, 0) to (x, y).\n",
    "log(x)                    Returns the natural logarithm of x.\n",
    "log10(x)                 Returns the base-10 logarithm of x.\n",
    "radians(x)              Assuming x is an angle in degrees, the function returns the angle \n",
    "converted to radians.\n",
    "\n",
    "sin(x)                     Returns the sine of x in radians.\n",
    "sqrt(x)                    Returns the square root of x.\n",
    "tan(x)"
   ]
  },
  {
   "cell_type": "code",
   "execution_count": 5,
   "metadata": {},
   "outputs": [
    {
     "data": {
      "text/plain": [
       "0.15425144988758405"
      ]
     },
     "execution_count": 5,
     "metadata": {},
     "output_type": "execute_result"
    }
   ],
   "source": [
    "np.cos(30)"
   ]
  },
  {
   "cell_type": "code",
   "execution_count": 6,
   "metadata": {},
   "outputs": [
    {
     "name": "stdout",
     "output_type": "stream",
     "text": [
      "please enter the angle 30\n"
     ]
    },
    {
     "data": {
      "text/plain": [
       "0.8660254037844387"
      ]
     },
     "execution_count": 6,
     "metadata": {},
     "output_type": "execute_result"
    }
   ],
   "source": [
    "angle=float(input('please enter the angle '))\n",
    "x=(math.pi/180)*angle\n",
    "math.cos(x)"
   ]
  },
  {
   "cell_type": "code",
   "execution_count": 7,
   "metadata": {},
   "outputs": [
    {
     "data": {
      "text/plain": [
       "0.04523893421169302"
      ]
     },
     "execution_count": 7,
     "metadata": {},
     "output_type": "execute_result"
    }
   ],
   "source": [
    "#area of circle\n",
    "r=0.12\n",
    "area=np.pi*r**2\n",
    "area"
   ]
  },
  {
   "cell_type": "code",
   "execution_count": 8,
   "metadata": {},
   "outputs": [
    {
     "name": "stdout",
     "output_type": "stream",
     "text": [
      "The circumference of the circle is   0.7539822368615503\n"
     ]
    }
   ],
   "source": [
    "#circumference of cirle\n",
    "circum=2*np.pi*r\n",
    "print('The circumference of the circle is  ',circum)"
   ]
  },
  {
   "cell_type": "code",
   "execution_count": 13,
   "metadata": {},
   "outputs": [
    {
     "name": "stdout",
     "output_type": "stream",
     "text": [
      " MENU\n",
      "1) Area of a circle\n",
      "2) Circumference of a circle\n",
      "3) Area of a rectangle\n",
      "4) Perimeter of a rectangle\n",
      "5) Quit\n",
      "Enter your choice: 3\n",
      "Enter the rectangle's width: 4\n",
      "Enter the rectangle's length: 5\n",
      "The area is 20.0\n",
      " MENU\n",
      "1) Area of a circle\n",
      "2) Circumference of a circle\n",
      "3) Area of a rectangle\n",
      "4) Perimeter of a rectangle\n",
      "5) Quit\n",
      "Enter your choice: 1\n",
      "Enter the circle's radius: 6\n",
      "The area is 113.09733552923255\n",
      " MENU\n",
      "1) Area of a circle\n",
      "2) Circumference of a circle\n",
      "3) Area of a rectangle\n",
      "4) Perimeter of a rectangle\n",
      "5) Quit\n",
      "Enter your choice: 5\n",
      "Exiting the program. . .\n"
     ]
    }
   ],
   "source": [
    "AREA_CIRCLE_CHOICE = 1\n",
    "CIRCUMFERENCE_CHOICE = 2\n",
    "AREA_RECTANGLE_CHOICE = 3\n",
    "PERIMETER_RECTANGLE_CHOICE = 4\n",
    "QUIT_CHOICE = 5\n",
    "def main():\n",
    "    choice = 0\n",
    "    while choice != QUIT_CHOICE:\n",
    "        display_menu()\n",
    "        choice = int(input('Enter your choice: '))\n",
    "        if choice == AREA_CIRCLE_CHOICE:\n",
    "            radius = float(input(\"Enter the circle's radius: \"))\n",
    "            area=np.pi*radius**2\n",
    "            print('The area is',area)\n",
    "        elif choice == CIRCUMFERENCE_CHOICE:\n",
    "            radius = float(input(\"Enter the circle's radius: \"))\n",
    "            circum=2*np.pi*radius\n",
    "            print('The circumference is',circum)\n",
    "        elif choice == AREA_RECTANGLE_CHOICE:\n",
    "            width = float(input(\"Enter the rectangle's width: \"))\n",
    "            length = float(input(\"Enter the rectangle's length: \"))\n",
    "            rec_area=length*width\n",
    "            print('The area is', rec_area)\n",
    "        elif choice == PERIMETER_RECTANGLE_CHOICE:\n",
    "            width = float(input(\"Enter the rectangle's width: \"))\n",
    "            length = float(input(\"Enter the rectangle's length: \"))\n",
    "            peri_rec=2*(width+length)\n",
    "            print('The perimeter is',peri_rec)\n",
    "        elif choice == QUIT_CHOICE:\n",
    "            print('Exiting the program. . .')\n",
    "        else:\n",
    "            print('Error: invalid selection.')\n",
    "def display_menu():\n",
    "    print(' MENU')\n",
    "    print('1) Area of a circle')\n",
    "    print('2) Circumference of a circle')\n",
    "    print('3) Area of a rectangle')\n",
    "    print('4) Perimeter of a rectangle')\n",
    "    print('5) Quit')\n",
    "main()    "
   ]
  }
 ],
 "metadata": {
  "kernelspec": {
   "display_name": "Python 3",
   "language": "python",
   "name": "python3"
  },
  "language_info": {
   "codemirror_mode": {
    "name": "ipython",
    "version": 3
   },
   "file_extension": ".py",
   "mimetype": "text/x-python",
   "name": "python",
   "nbconvert_exporter": "python",
   "pygments_lexer": "ipython3",
   "version": "3.8.3"
  }
 },
 "nbformat": 4,
 "nbformat_minor": 4
}
