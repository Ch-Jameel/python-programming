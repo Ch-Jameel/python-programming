{
 "cells": [
  {
   "cell_type": "markdown",
   "metadata": {},
   "source": [
    "# Sequational Structure"
   ]
  },
  {
   "cell_type": "raw",
   "metadata": {},
   "source": [
    "Sequential statements are a set of statements whose execution process happens in a sequence. The problem with sequential statements is that if the logic has broken in any one of the lines, then the complete source code execution will break."
   ]
  },
  {
   "cell_type": "code",
   "execution_count": 1,
   "metadata": {},
   "outputs": [
    {
     "name": "stdout",
     "output_type": "stream",
     "text": [
      "Subtraction is :  10\n"
     ]
    }
   ],
   "source": [
    "## This is a Sequential statement\n",
    " \n",
    "a=20\n",
    "b=10\n",
    "c=a-b\n",
    "print(\"Subtraction is : \",c)"
   ]
  },
  {
   "cell_type": "markdown",
   "metadata": {},
   "source": [
    "# Selection/Decision control statements"
   ]
  },
  {
   "cell_type": "raw",
   "metadata": {},
   "source": [
    "In Python, the selection statements are also known as Decision control statements or branching statements.\n",
    "\n",
    "The selection statement allows a program to test several conditions and execute instructions based on which condition is true.\n",
    "\n",
    "Some Decision Control Statements are:\n",
    "\n",
    "Simple if\n",
    "if-else\n",
    "nested if\n",
    "if-elif-else"
   ]
  },
  {
   "cell_type": "markdown",
   "metadata": {},
   "source": [
    "# simple if"
   ]
  },
  {
   "cell_type": "raw",
   "metadata": {},
   "source": [
    "Simple if: If statements are control flow statements that help us to run a particular code, but only when a certain condition is met or satisfied. A simple if only has one condition to check."
   ]
  },
  {
   "cell_type": "code",
   "execution_count": 2,
   "metadata": {},
   "outputs": [
    {
     "name": "stdout",
     "output_type": "stream",
     "text": [
      "n is an even number\n"
     ]
    }
   ],
   "source": [
    "n = 10\n",
    "if n % 2 == 0:\n",
    "   print(\"n is an even number\")"
   ]
  },
  {
   "cell_type": "markdown",
   "metadata": {},
   "source": [
    "# if else"
   ]
  },
  {
   "cell_type": "raw",
   "metadata": {},
   "source": [
    "    The if-else statement evaluates the condition and will execute the body of if if the test condition is True, but if the condition is False, then the body of else is executed"
   ]
  },
  {
   "cell_type": "code",
   "execution_count": 3,
   "metadata": {},
   "outputs": [
    {
     "name": "stdout",
     "output_type": "stream",
     "text": [
      "n is odd\n"
     ]
    }
   ],
   "source": [
    "n = 5\n",
    "if n % 2 == 0:\n",
    "   print(\"n is even\")\n",
    "else:\n",
    "   print(\"n is odd\")"
   ]
  },
  {
   "cell_type": "markdown",
   "metadata": {},
   "source": [
    "# nested if"
   ]
  },
  {
   "cell_type": "raw",
   "metadata": {},
   "source": [
    "    Nested if statements are an if statement inside another if statement."
   ]
  },
  {
   "cell_type": "code",
   "execution_count": 4,
   "metadata": {},
   "outputs": [
    {
     "name": "stdout",
     "output_type": "stream",
     "text": [
      "c is big\n"
     ]
    }
   ],
   "source": [
    "a = 5\n",
    "b = 10\n",
    "c = 15\n",
    "if a > b:\n",
    "   if a > c:\n",
    "      print(\"a value is big\")\n",
    "   else:\n",
    "       print(\"c value is big\")\n",
    "elif b > c:\n",
    "    print(\"b value is big\")\n",
    "else:\n",
    "     print(\"c is big\")"
   ]
  },
  {
   "cell_type": "markdown",
   "metadata": {},
   "source": [
    "# if-elif-else"
   ]
  },
  {
   "cell_type": "raw",
   "metadata": {},
   "source": [
    " The if-elif-else statement is used to conditionally execute a statement or a block of statements."
   ]
  },
  {
   "cell_type": "code",
   "execution_count": 5,
   "metadata": {},
   "outputs": [
    {
     "name": "stdout",
     "output_type": "stream",
     "text": [
      "x is greater than y\n"
     ]
    }
   ],
   "source": [
    "x = 15\n",
    "y = 12\n",
    "if x == y:\n",
    "   print(\"Both are Equal\")\n",
    "elif x > y:\n",
    "    print(\"x is greater than y\")\n",
    "else:\n",
    "    print(\"x is smaller than y\")"
   ]
  },
  {
   "cell_type": "markdown",
   "metadata": {},
   "source": [
    "# Repetition"
   ]
  },
  {
   "cell_type": "raw",
   "metadata": {},
   "source": [
    "A repetition statement is used to repeat a group(block) of programming instructions.\n",
    "\n",
    "In Python, we generally have two loops/repetitive statements:\n",
    "\n",
    "for loop\n",
    "while loop"
   ]
  },
  {
   "cell_type": "markdown",
   "metadata": {},
   "source": [
    "# for loop"
   ]
  },
  {
   "cell_type": "raw",
   "metadata": {},
   "source": [
    "A for loop is used to iterate over a sequence that is either a list, tuple, dictionary, or a set. We can execute a set of statements once for each item in a list, tuple, or dictionary."
   ]
  },
  {
   "cell_type": "code",
   "execution_count": 1,
   "metadata": {},
   "outputs": [
    {
     "name": "stdout",
     "output_type": "stream",
     "text": [
      "1 2 3 4 5 0 1 2 3 4 5 6 7 8 9 "
     ]
    }
   ],
   "source": [
    "lst = [1, 2, 3, 4, 5]\n",
    "for i in range(len(lst)):\n",
    "     print(lst[i], end = \" \")\n",
    " \n",
    "for j in range(0,10):\n",
    "    print(j, end = \" \")"
   ]
  },
  {
   "cell_type": "code",
   "execution_count": 7,
   "metadata": {},
   "outputs": [
    {
     "name": "stdout",
     "output_type": "stream",
     "text": [
      "1\n",
      "3\n",
      "5\n",
      "7\n",
      "9\n"
     ]
    }
   ],
   "source": [
    "for num in range(1,10,2):\n",
    "    print(num)\n",
    "    "
   ]
  },
  {
   "cell_type": "code",
   "execution_count": 8,
   "metadata": {},
   "outputs": [
    {
     "name": "stdout",
     "output_type": "stream",
     "text": [
      "num\tsquare\n",
      "1 \t 1\n",
      "2 \t 4\n",
      "3 \t 9\n",
      "4 \t 16\n",
      "5 \t 25\n",
      "6 \t 36\n",
      "7 \t 49\n",
      "8 \t 64\n",
      "9 \t 81\n",
      "10 \t 100\n"
     ]
    }
   ],
   "source": [
    "print(\"num\\tsquare\")\n",
    "for num in range(1,11):\n",
    "    square=num**2\n",
    "    print(num,'\\t',square)"
   ]
  },
  {
   "cell_type": "code",
   "execution_count": 9,
   "metadata": {},
   "outputs": [
    {
     "name": "stdout",
     "output_type": "stream",
     "text": [
      "KPH\tMPH\n",
      "60 \t 37.284\n",
      "70 \t 43.498\n",
      "80 \t 49.711999999999996\n",
      "90 \t 55.925999999999995\n",
      "100 \t 62.13999999999999\n",
      "110 \t 68.354\n",
      "120 \t 74.568\n",
      "130 \t 80.782\n"
     ]
    }
   ],
   "source": [
    "print('KPH\\tMPH')\n",
    "for KPH in range(60,131,10):\n",
    "    MPH=KPH*0.6214\n",
    "    print(KPH,'\\t',MPH)"
   ]
  },
  {
   "cell_type": "code",
   "execution_count": 10,
   "metadata": {},
   "outputs": [
    {
     "name": "stdout",
     "output_type": "stream",
     "text": [
      "please tell how high i can go 7\n",
      "num\tsquare\n",
      "1 \t 1\n",
      "2 \t 4\n",
      "3 \t 9\n",
      "4 \t 16\n",
      "5 \t 25\n",
      "6 \t 36\n",
      "7 \t 49\n"
     ]
    }
   ],
   "source": [
    "# controlled Program\n",
    "# Ending Limit Program\n",
    "end=int(input('please tell how high i can go '))\n",
    "print('num\\tsquare')\n",
    "for num in range(1,end+1):\n",
    "    square=num**2\n",
    "    print(num,'\\t',square)"
   ]
  },
  {
   "cell_type": "code",
   "execution_count": 11,
   "metadata": {},
   "outputs": [
    {
     "name": "stdout",
     "output_type": "stream",
     "text": [
      "please tell from where i start 3\n",
      "please tell how high i can go 5\n",
      "num\tsquare\n",
      "3 \t 9\n",
      "4 \t 16\n",
      "5 \t 25\n"
     ]
    }
   ],
   "source": [
    "# taking starting point\n",
    "start=int(input('please tell from where i start '))\n",
    "# taking end limit\n",
    "end=int(input('please tell how high i can go '))\n",
    "print('num\\tsquare')\n",
    "for num in range(start,end+1):\n",
    "    square=num**2\n",
    "    print(num,'\\t',square)"
   ]
  },
  {
   "cell_type": "code",
   "execution_count": 12,
   "metadata": {},
   "outputs": [
    {
     "name": "stdout",
     "output_type": "stream",
     "text": [
      "15.0\n"
     ]
    }
   ],
   "source": [
    "total=0.0\n",
    "for num in range(0,6):\n",
    "    total=total+num\n",
    "print(total)"
   ]
  },
  {
   "cell_type": "markdown",
   "metadata": {},
   "source": [
    "# while loop"
   ]
  },
  {
   "cell_type": "raw",
   "metadata": {},
   "source": [
    "In Python, while loops are used to execute a block of statements repeatedly until a given condition is satisfied. Then, the expression is checked again and, if it is still true, the body is executed again. This continues until the expression becomes false."
   ]
  },
  {
   "cell_type": "code",
   "execution_count": 13,
   "metadata": {},
   "outputs": [
    {
     "name": "stdout",
     "output_type": "stream",
     "text": [
      "0 1 2 3 4 End\n"
     ]
    }
   ],
   "source": [
    "m = 5\n",
    "i = 0\n",
    "while i < m:\n",
    "     print(i, end = \" \")\n",
    "     i = i + 1\n",
    "print(\"End\")"
   ]
  },
  {
   "cell_type": "code",
   "execution_count": 14,
   "metadata": {},
   "outputs": [
    {
     "name": "stdout",
     "output_type": "stream",
     "text": [
      "please enter the whole sale cost $23\n",
      "the retail price is $57.5\n",
      "if you have any other product then put y for yes n\n"
     ]
    }
   ],
   "source": [
    "mark_up=2.5\n",
    "again='y'\n",
    "while again=='y' or again=='Y':\n",
    "    whole_sale=float(input('please enter the whole sale cost $'))\n",
    "    while whole_sale < 0:\n",
    "        print('enter positive number')\n",
    "        whole_sale=float(input('Enter the whole sale cost'))\n",
    "    retail=whole_sale*mark_up\n",
    "    print('the retail price is $',retail,sep=\"\")\n",
    "    again=input('if you have any other product then put y for yes ')"
   ]
  }
 ],
 "metadata": {
  "kernelspec": {
   "display_name": "Python 3",
   "language": "python",
   "name": "python3"
  },
  "language_info": {
   "codemirror_mode": {
    "name": "ipython",
    "version": 3
   },
   "file_extension": ".py",
   "mimetype": "text/x-python",
   "name": "python",
   "nbconvert_exporter": "python",
   "pygments_lexer": "ipython3",
   "version": "3.8.3"
  }
 },
 "nbformat": 4,
 "nbformat_minor": 4
}
