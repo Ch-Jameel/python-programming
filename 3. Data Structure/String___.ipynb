{
 "cells": [
  {
   "cell_type": "markdown",
   "metadata": {
    "id": "OO7bN5gLb-1D"
   },
   "source": [
    "# **String**"
   ]
  },
  {
   "cell_type": "markdown",
   "metadata": {
    "id": "jsJa7HIJcECA"
   },
   "source": [
    "In Python, Strings are arrays of bytes representing Unicode characters. However, Python does not have a character data type, a single character is simply a string with a length of 1. Square brackets can be used to access elements of the string"
   ]
  },
  {
   "cell_type": "markdown",
   "metadata": {
    "id": "OA8vUn66cHzh"
   },
   "source": [
    "# **Creating a String**"
   ]
  },
  {
   "cell_type": "markdown",
   "metadata": {
    "id": "c3fQP_hYcR9A"
   },
   "source": [
    "Strings in Python can be created using single quotes or double quotes or even triple quotes."
   ]
  },
  {
   "cell_type": "code",
   "execution_count": null,
   "metadata": {
    "colab": {
     "base_uri": "https://localhost:8080/"
    },
    "id": "9-kZYkTxcVGc",
    "outputId": "0375959e-4f53-4f0e-b3a3-973af3cb578a"
   },
   "outputs": [
    {
     "name": "stdout",
     "output_type": "stream",
     "text": [
      "String with the use of Single Quotes: \n",
      "Welcome to python\n"
     ]
    }
   ],
   "source": [
    "# Python Program for\n",
    "# Creation of String\n",
    " \n",
    "# Creating a String\n",
    "# with single Quotes\n",
    "String1 = 'Welcome to python'\n",
    "print(\"String with the use of Single Quotes: \")\n",
    "print(String1)"
   ]
  },
  {
   "cell_type": "markdown",
   "metadata": {
    "id": "L2w3BvUkep4m"
   },
   "source": [
    "# **Accessing characters in Python**"
   ]
  },
  {
   "cell_type": "markdown",
   "metadata": {
    "id": "ac0Tnb9ZevcE"
   },
   "source": [
    "In Python, individual characters of a String can be accessed by using the method of Indexing. Indexing allows negative address references to access characters from the back of the String, e.g. -1 refers to the last character, -2 refers to the second last character, and so on. \n",
    "\n",
    "While accessing an index out of the range will cause an IndexError. Only Integers are allowed to be passed as an index, float or other types that will cause a TypeError"
   ]
  },
  {
   "cell_type": "code",
   "execution_count": null,
   "metadata": {
    "colab": {
     "base_uri": "https://localhost:8080/",
     "height": 35
    },
    "id": "Ok2SPxQUerc-",
    "outputId": "2cfc2b7b-5e1c-4090-8284-f8abdb8cfbf1"
   },
   "outputs": [
    {
     "data": {
      "application/vnd.google.colaboratory.intrinsic+json": {
       "type": "string"
      },
      "text/plain": [
       "'W'"
      ]
     },
     "execution_count": 6,
     "metadata": {},
     "output_type": "execute_result"
    }
   ],
   "source": [
    "String1[0]"
   ]
  },
  {
   "cell_type": "code",
   "execution_count": null,
   "metadata": {
    "colab": {
     "base_uri": "https://localhost:8080/",
     "height": 35
    },
    "id": "jBU231OcfZkj",
    "outputId": "7185bed1-2d30-4161-da91-8ab85efa71c4"
   },
   "outputs": [
    {
     "data": {
      "application/vnd.google.colaboratory.intrinsic+json": {
       "type": "string"
      },
      "text/plain": [
       "'n'"
      ]
     },
     "execution_count": 7,
     "metadata": {},
     "output_type": "execute_result"
    }
   ],
   "source": [
    "String1[-1]"
   ]
  },
  {
   "cell_type": "code",
   "execution_count": null,
   "metadata": {
    "colab": {
     "base_uri": "https://localhost:8080/"
    },
    "id": "fvm0pazVfcgE",
    "outputId": "f7723d41-9b3c-470d-8ba2-b7f67b223328"
   },
   "outputs": [
    {
     "name": "stdout",
     "output_type": "stream",
     "text": [
      "W\n",
      "e\n",
      "l\n",
      "c\n",
      "o\n",
      "m\n",
      "e\n",
      " \n",
      "t\n",
      "o\n",
      " \n",
      "p\n",
      "y\n",
      "t\n",
      "h\n",
      "o\n",
      "n\n"
     ]
    }
   ],
   "source": [
    "for var in String1:\n",
    "  print(var)"
   ]
  },
  {
   "cell_type": "markdown",
   "metadata": {
    "id": "enz7FUNZf4o8"
   },
   "source": [
    "# **String Slicing**"
   ]
  },
  {
   "cell_type": "markdown",
   "metadata": {
    "id": "cgdAAkRPf7IO"
   },
   "source": [
    "To access a range of characters in the String, the method of slicing is used. Slicing in a String is done by using a Slicing operator (colon). "
   ]
  },
  {
   "cell_type": "code",
   "execution_count": null,
   "metadata": {
    "colab": {
     "base_uri": "https://localhost:8080/",
     "height": 35
    },
    "id": "iNbinfmsfrk-",
    "outputId": "b2489e1b-22b9-46ad-b7e0-8a6e8ecb794f"
   },
   "outputs": [
    {
     "data": {
      "application/vnd.google.colaboratory.intrinsic+json": {
       "type": "string"
      },
      "text/plain": [
       "'come to python'"
      ]
     },
     "execution_count": 10,
     "metadata": {},
     "output_type": "execute_result"
    }
   ],
   "source": [
    "String1[3:]"
   ]
  },
  {
   "cell_type": "code",
   "execution_count": null,
   "metadata": {
    "colab": {
     "base_uri": "https://localhost:8080/",
     "height": 35
    },
    "id": "TeV2Hyy9gR8S",
    "outputId": "121e1165-bc27-4404-dd6e-a4df5bbf76ce"
   },
   "outputs": [
    {
     "data": {
      "application/vnd.google.colaboratory.intrinsic+json": {
       "type": "string"
      },
      "text/plain": [
       "'Welcome'"
      ]
     },
     "execution_count": 12,
     "metadata": {},
     "output_type": "execute_result"
    }
   ],
   "source": [
    "String1[0:7]"
   ]
  },
  {
   "cell_type": "markdown",
   "metadata": {
    "id": "Q8QKoFF4gixq"
   },
   "source": [
    "# **Deleting/Updating from a String**"
   ]
  },
  {
   "cell_type": "markdown",
   "metadata": {
    "id": "WB7fBoqcgn-y"
   },
   "source": [
    "In Python, Updation or deletion of characters from a String is not allowed. This will cause an error because item assignment or item deletion from a String is not supported. Although deletion of the entire String is possible with the use of a built-in del keyword. This is because Strings are immutable, hence elements of a String cannot be changed once it has been assigned. Only new strings can be reassigned to the same name"
   ]
  },
  {
   "cell_type": "code",
   "execution_count": null,
   "metadata": {
    "id": "UnK8L4Edg1iw"
   },
   "outputs": [],
   "source": [
    "# Python Program to Delete\n",
    "# entire String\n",
    " \n",
    "# Deleting a String\n",
    "# with the use of del\n",
    "del String1"
   ]
  },
  {
   "cell_type": "markdown",
   "metadata": {
    "id": "dAloZDvLjAZQ"
   },
   "source": [
    "# **Formatting of Strings**"
   ]
  },
  {
   "cell_type": "markdown",
   "metadata": {
    "id": "Um4-JdibjCJe"
   },
   "source": [
    "Strings in Python can be formatted with the use of format() method which is a very versatile and powerful tool for formatting Strings. Format method in String contains curly braces {} as placeholders which can hold arguments according to position or keyword to specify the order"
   ]
  },
  {
   "cell_type": "code",
   "execution_count": null,
   "metadata": {
    "colab": {
     "base_uri": "https://localhost:8080/"
    },
    "id": "QI4r66O-jFvZ",
    "outputId": "67631e57-ec0e-413c-e441-4c64cd6a5175"
   },
   "outputs": [
    {
     "name": "stdout",
     "output_type": "stream",
     "text": [
      "Print String in default order: \n",
      "Geeks For Life\n",
      "\n",
      "Print String in Positional order: \n",
      "For Geeks Life\n",
      "\n",
      "Print String in order of Keywords: \n",
      "Life For Geeks\n"
     ]
    }
   ],
   "source": [
    "# Python Program for\n",
    "# Formatting of Strings\n",
    " \n",
    "# Default order\n",
    "String1 = \"{} {} {}\".format('Geeks', 'For', 'Life')\n",
    "print(\"Print String in default order: \")\n",
    "print(String1)\n",
    "\n",
    " \n",
    "# Positional Formatting\n",
    "String1 = \"{1} {0} {2}\".format('Geeks', 'For', 'Life')\n",
    "print(\"\\nPrint String in Positional order: \")\n",
    "print(String1)\n",
    "\n",
    " \n",
    "# Keyword Formatting\n",
    "String1 = \"{l} {f} {g}\".format(g='Geeks', f='For', l='Life')\n",
    "print(\"\\nPrint String in order of Keywords: \")\n",
    "print(String1)"
   ]
  },
  {
   "cell_type": "markdown",
   "metadata": {
    "id": "VGpy4lAvlUFW"
   },
   "source": [
    "Integers such as Binary, hexadecimal, etc., and floats can be rounded or displayed in the exponent form with the use of format specifiers"
   ]
  },
  {
   "cell_type": "code",
   "execution_count": null,
   "metadata": {
    "colab": {
     "base_uri": "https://localhost:8080/"
    },
    "id": "1B6QOoIMlU3X",
    "outputId": "1b508ea8-2eed-4e59-c223-92fad09c5ec3"
   },
   "outputs": [
    {
     "name": "stdout",
     "output_type": "stream",
     "text": [
      "\n",
      "Binary representation of 16 is \n",
      "10000\n",
      "\n",
      "Exponent representation of 165.6458 is \n",
      "1.656458e+02\n",
      "\n",
      "one-sixth is : \n",
      "0.17\n"
     ]
    }
   ],
   "source": [
    "# Formatting of Integers\n",
    "String1 = \"{0:b}\".format(16)\n",
    "print(\"\\nBinary representation of 16 is \")\n",
    "print(String1)\n",
    " \n",
    "# Formatting of Floats\n",
    "String1 = \"{0:e}\".format(165.6458)\n",
    "print(\"\\nExponent representation of 165.6458 is \")\n",
    "print(String1)\n",
    " \n",
    "# Rounding off Integers\n",
    "String1 = \"{0:.2f}\".format(1/6)\n",
    "print(\"\\none-sixth is : \")\n",
    "print(String1)"
   ]
  },
  {
   "cell_type": "markdown",
   "metadata": {
    "id": "2PKDhr0pmKJS"
   },
   "source": [
    "# **String concatenation**"
   ]
  },
  {
   "cell_type": "code",
   "execution_count": null,
   "metadata": {
    "colab": {
     "base_uri": "https://localhost:8080/",
     "height": 35
    },
    "id": "jOIQ4xRzmLXb",
    "outputId": "d3fb38b9-216a-42f2-9659-e7d927d8335c"
   },
   "outputs": [
    {
     "data": {
      "application/vnd.google.colaboratory.intrinsic+json": {
       "type": "string"
      },
      "text/plain": [
       "'pen    book'"
      ]
     },
     "execution_count": 17,
     "metadata": {},
     "output_type": "execute_result"
    }
   ],
   "source": [
    "name='pen  '+'  book'\n",
    "name"
   ]
  },
  {
   "cell_type": "code",
   "execution_count": null,
   "metadata": {
    "colab": {
     "base_uri": "https://localhost:8080/",
     "height": 35
    },
    "id": "3HLgBmeDmQ45",
    "outputId": "fba82696-33f2-448a-cb39-db9bb5b3f3f6"
   },
   "outputs": [
    {
     "data": {
      "application/vnd.google.colaboratory.intrinsic+json": {
       "type": "string"
      },
      "text/plain": [
       "'this is my book'"
      ]
     },
     "execution_count": 18,
     "metadata": {},
     "output_type": "execute_result"
    }
   ],
   "source": [
    "str1='this is '\n",
    "str2='my book'\n",
    "str3=str1+str2\n",
    "str3"
   ]
  },
  {
   "cell_type": "markdown",
   "metadata": {
    "id": "J1QEzDJ8pqO4"
   },
   "source": [
    ""
   ]
  },
  {
   "cell_type": "markdown",
   "metadata": {
    "id": "zYA3v2N7pqRj"
   },
   "source": [
    "# **counting a alphabet in the string**"
   ]
  },
  {
   "cell_type": "code",
   "execution_count": null,
   "metadata": {
    "colab": {
     "base_uri": "https://localhost:8080/"
    },
    "id": "G2UViuzjpuca",
    "outputId": "d1fd8d4a-f82b-42b4-cbeb-315d512c799f"
   },
   "outputs": [
    {
     "name": "stdout",
     "output_type": "stream",
     "text": [
      "the alphabet //i// is repeated  2  times\n"
     ]
    }
   ],
   "source": [
    "x='This is a pen'\n",
    "count=0\n",
    "for var in x:\n",
    "    if var=='i' or var=='I':\n",
    "        count +=1\n",
    "print('the alphabet //i// is repeated ',count,' times')   "
   ]
  },
  {
   "cell_type": "code",
   "execution_count": null,
   "metadata": {
    "colab": {
     "base_uri": "https://localhost:8080/"
    },
    "id": "nHam5D92puev",
    "outputId": "d1b38fb6-c28f-4d76-90f6-c01d4f93a2c7"
   },
   "outputs": [
    {
     "name": "stdout",
     "output_type": "stream",
     "text": [
      "T\n",
      "h\n",
      "i\n",
      "s\n",
      " \n",
      "i\n",
      "s\n",
      " \n",
      " \n",
      "p\n",
      "e\n",
      "n\n"
     ]
    }
   ],
   "source": [
    "#### Skipping the specific character of strings\n",
    "for var in x:\n",
    "  if var=='a':\n",
    "    continue\n",
    "  print(var)"
   ]
  },
  {
   "cell_type": "markdown",
   "metadata": {
    "id": "WYQO0fRlr_x4"
   },
   "source": [
    "# **Testing or searching the string**"
   ]
  },
  {
   "cell_type": "code",
   "execution_count": null,
   "metadata": {
    "colab": {
     "base_uri": "https://localhost:8080/"
    },
    "id": "622t6C_br-Xe",
    "outputId": "6013f1dd-36da-4563-a537-5b20805b1c36"
   },
   "outputs": [
    {
     "name": "stdout",
     "output_type": "stream",
     "text": [
      " am\\ is present in the string\n"
     ]
    }
   ],
   "source": [
    "string='I am a student of BZU Multan'\n",
    "if 'am' in string:\n",
    "    print(' ''am\\\\'' is present in the string')\n",
    "else:\n",
    "    print('am is not present')"
   ]
  },
  {
   "cell_type": "code",
   "execution_count": null,
   "metadata": {
    "colab": {
     "base_uri": "https://localhost:8080/"
    },
    "id": "HH4b8j_dshPc",
    "outputId": "585da70b-4d55-41ed-c896-cda395c59d93"
   },
   "outputs": [
    {
     "name": "stdout",
     "output_type": "stream",
     "text": [
      "False\n",
      "False\n"
     ]
    }
   ],
   "source": [
    "print(str1 is str2)\n",
    "print(str1 is str3)"
   ]
  },
  {
   "cell_type": "code",
   "execution_count": null,
   "metadata": {
    "colab": {
     "base_uri": "https://localhost:8080/"
    },
    "id": "2KtHgjclsjRz",
    "outputId": "df41fc61-f5f6-431a-b2a0-2fbeb18ede37"
   },
   "outputs": [
    {
     "name": "stdout",
     "output_type": "stream",
     "text": [
      "True\n",
      "True\n"
     ]
    }
   ],
   "source": [
    "print (str1 is not str2)\n",
    "print (str1 is not str3)"
   ]
  },
  {
   "cell_type": "markdown",
   "metadata": {
    "id": "ojLDtyTBsnaS"
   },
   "source": [
    "# **Example: re.match()**"
   ]
  },
  {
   "cell_type": "code",
   "execution_count": null,
   "metadata": {
    "colab": {
     "base_uri": "https://localhost:8080/"
    },
    "id": "7CvrkXK8sqI4",
    "outputId": "8868dd78-65fc-46b2-b273-f7e7ca9410aa"
   },
   "outputs": [
    {
     "name": "stdout",
     "output_type": "stream",
     "text": [
      "found match\n"
     ]
    }
   ],
   "source": [
    "import re\n",
    "string=\"Simple is better than complex\"\n",
    "pattern=\"Simple\"\n",
    "if re.match(pattern, string):\n",
    "    print (\"found match\")\n",
    "else:\n",
    "    print(\"match not found\")"
   ]
  },
  {
   "cell_type": "code",
   "execution_count": null,
   "metadata": {
    "colab": {
     "base_uri": "https://localhost:8080/"
    },
    "id": "K8hgTiz_svRv",
    "outputId": "c8991cbf-06a2-478a-8734-1535d552f6ee"
   },
   "outputs": [
    {
     "name": "stdout",
     "output_type": "stream",
     "text": [
      "found match\n"
     ]
    }
   ],
   "source": [
    "if pattern in string:\n",
    "  print(\"found match\") "
   ]
  },
  {
   "cell_type": "markdown",
   "metadata": {
    "id": "GnAn2YFJs-wK"
   },
   "source": [
    "# **some string testing methods**"
   ]
  },
  {
   "cell_type": "code",
   "execution_count": null,
   "metadata": {
    "id": "C4Hb8oGrtb_6"
   },
   "outputs": [],
   "source": [
    "'''Method                                                Description\n",
    "isalnum()                         Returns true if the string contains only alphabetic letters or digits and is at \n",
    "                                   least onecharacter in length. Returns false otherwise.\n",
    "\n",
    "isalpha()                        Returns true if the string contains only alphabetic letters and is at least one \n",
    "                                        character in length. Returns false otherwise.\n",
    "\n",
    "isdigit()                       Returns true if the string contains only numeric digits and is at  least one \n",
    "                                        character in length. Returns false otherwise.\n",
    "\n",
    "islower()                       Returns true if all of the alphabetic letters in the string are  lowercase, and the \n",
    "                                         string contains at least one alphabetic letter. Returns false otherwise.\n",
    "\n",
    "isspace()                       Returns true if the string contains only whitespace characters and is  at least \n",
    "                                          one character in length. Returns false otherwise.(Whitespace characters are \n",
    "                                          spaces, newlines (\\n), and tabs (\\t).\n",
    "\n",
    "isupper()                       Returns true if all of the alphabetic letters in the string are  uppercase, and the \n",
    "                                        string contains at least one alphabetic letter. Returns false otherwise.'''"
   ]
  }
 ],
 "metadata": {
  "colab": {
   "name": "String___.ipynb",
   "provenance": []
  },
  "kernelspec": {
   "display_name": "Python 3",
   "name": "python3"
  },
  "language_info": {
   "name": "python"
  }
 },
 "nbformat": 4,
 "nbformat_minor": 0
}
