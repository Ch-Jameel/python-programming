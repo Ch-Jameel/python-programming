{
 "cells": [
  {
   "cell_type": "markdown",
   "metadata": {
    "id": "-6F2ni9wn3zG"
   },
   "source": [
    "# **Python Tuples**"
   ]
  },
  {
   "cell_type": "markdown",
   "metadata": {
    "id": "YRO0czy_n4pd"
   },
   "source": [
    "Tuple is a collection of Python objects much like a list. The sequence of values stored in a tuple can be of any type, and they are indexed by integers. \n",
    "\n",
    "Values of a tuple are syntactically separated by ‘commas’. Although it is not necessary, it is more common to define a tuple by closing the sequence of values in parentheses. This helps in understanding the Python tuples more easily."
   ]
  },
  {
   "cell_type": "markdown",
   "metadata": {
    "id": "KUVEelrGn85W"
   },
   "source": [
    "# **Creating a Tuple**"
   ]
  },
  {
   "cell_type": "markdown",
   "metadata": {
    "id": "n8vWX-bLoBqx"
   },
   "source": [
    "In Python, tuples are created by placing a sequence of values separated by ‘comma’ with or without the use of parentheses for grouping the data sequence.\n",
    "\n",
    "Note: Creation of Python tuple without the use of parentheses is known as Tuple Packing"
   ]
  },
  {
   "cell_type": "code",
   "execution_count": 2,
   "metadata": {
    "colab": {
     "base_uri": "https://localhost:8080/"
    },
    "id": "p-dFWy0JoNfE",
    "outputId": "29cb4582-1566-48f2-c28f-1e29d49c9e43"
   },
   "outputs": [
    {
     "name": "stdout",
     "output_type": "stream",
     "text": [
      "Initial empty Tuple: \n",
      "()\n"
     ]
    }
   ],
   "source": [
    "# Creating an empty Tuple\n",
    "Tuple1 = ()\n",
    "print(\"Initial empty Tuple: \")\n",
    "print(Tuple1)"
   ]
  },
  {
   "cell_type": "code",
   "execution_count": 3,
   "metadata": {
    "colab": {
     "base_uri": "https://localhost:8080/"
    },
    "id": "kw9PVR1coYjU",
    "outputId": "83997985-8f6f-4177-eeea-995961b5de0a"
   },
   "outputs": [
    {
     "name": "stdout",
     "output_type": "stream",
     "text": [
      "\n",
      "Tuple with the use of String: \n",
      "('Geeks', 'For')\n"
     ]
    }
   ],
   "source": [
    "# Creating a Tuple\n",
    "# with the use of string\n",
    "Tuple1 = ('Geeks', 'For')\n",
    "print(\"\\nTuple with the use of String: \")\n",
    "print(Tuple1)"
   ]
  },
  {
   "cell_type": "code",
   "execution_count": 5,
   "metadata": {
    "colab": {
     "base_uri": "https://localhost:8080/"
    },
    "id": "H5WVOdmpoaxQ",
    "outputId": "01c1ccad-9318-4429-d471-76fbd3944e5e"
   },
   "outputs": [
    {
     "name": "stdout",
     "output_type": "stream",
     "text": [
      "\n",
      "Tuple using List: \n",
      "(1, 2, 4, 5, 6)\n"
     ]
    }
   ],
   "source": [
    "# Creating a Tuple with\n",
    "# the use of list\n",
    "list1 = [1, 2, 4, 5, 6]\n",
    "print(\"\\nTuple using List: \")\n",
    "print(tuple(list1))"
   ]
  },
  {
   "cell_type": "code",
   "execution_count": 6,
   "metadata": {
    "colab": {
     "base_uri": "https://localhost:8080/"
    },
    "id": "4BSnSCceoeQH",
    "outputId": "a8dcc9c2-2d45-40cb-e5af-97ca0556794c"
   },
   "outputs": [
    {
     "name": "stdout",
     "output_type": "stream",
     "text": [
      "\n",
      "Tuple with the use of function: \n",
      "('G', 'e', 'e', 'k', 's')\n"
     ]
    }
   ],
   "source": [
    "# Creating a Tuple\n",
    "# with the use of built-in function\n",
    "Tuple1 = tuple('Geeks')\n",
    "print(\"\\nTuple with the use of function: \")\n",
    "print(Tuple1)"
   ]
  },
  {
   "cell_type": "markdown",
   "metadata": {
    "id": "-gKi55g4pTBB"
   },
   "source": [
    "# **Creating a Tuple with Mixed Datatypes.**"
   ]
  },
  {
   "cell_type": "markdown",
   "metadata": {
    "id": "j1i2HAzlpUwL"
   },
   "source": [
    "**Tuples** can contain any number of elements and of any datatype (like strings, integers, list, etc.). Tuples can also be created with a single element, but it is a bit tricky. Having one element in the parentheses is not sufficient, there must be a trailing ‘comma’ to make it a tuple. "
   ]
  },
  {
   "cell_type": "code",
   "execution_count": 7,
   "metadata": {
    "colab": {
     "base_uri": "https://localhost:8080/"
    },
    "id": "U6b5F9shpYaA",
    "outputId": "5fe2f51f-61a7-4c33-f9b8-0c6b3319d265"
   },
   "outputs": [
    {
     "name": "stdout",
     "output_type": "stream",
     "text": [
      "\n",
      "Tuple with Mixed Datatypes: \n",
      "(5, 'Welcome', 7, 'Geeks')\n"
     ]
    }
   ],
   "source": [
    "# Creating a Tuple\n",
    "# with Mixed Datatype\n",
    "Tuple1 = (5, 'Welcome', 7, 'Geeks')\n",
    "print(\"\\nTuple with Mixed Datatypes: \")\n",
    "print(Tuple1)"
   ]
  },
  {
   "cell_type": "code",
   "execution_count": 8,
   "metadata": {
    "colab": {
     "base_uri": "https://localhost:8080/"
    },
    "id": "wD_Yocytpg12",
    "outputId": "c537ee3b-f7a5-439c-b348-b7e3a5a3404e"
   },
   "outputs": [
    {
     "name": "stdout",
     "output_type": "stream",
     "text": [
      "\n",
      "Tuple with nested tuples: \n",
      "((0, 1, 2, 3), ('python', 'geek'))\n"
     ]
    }
   ],
   "source": [
    "# Creating a Tuple\n",
    "# with nested tuples\n",
    "Tuple1 = (0, 1, 2, 3)\n",
    "Tuple2 = ('python', 'geek')\n",
    "Tuple3 = (Tuple1, Tuple2)\n",
    "print(\"\\nTuple with nested tuples: \")\n",
    "print(Tuple3)"
   ]
  },
  {
   "cell_type": "code",
   "execution_count": 9,
   "metadata": {
    "colab": {
     "base_uri": "https://localhost:8080/"
    },
    "id": "lx2P-_nHqd-I",
    "outputId": "78ec4964-8b6a-4d63-9ad9-476f39e5182c"
   },
   "outputs": [
    {
     "name": "stdout",
     "output_type": "stream",
     "text": [
      "\n",
      "Tuple with repetition: \n",
      "('Geeks', 'Geeks', 'Geeks')\n"
     ]
    }
   ],
   "source": [
    "# Creating a Tuple\n",
    "# with repetition\n",
    "Tuple1 = ('Geeks',) * 3\n",
    "print(\"\\nTuple with repetition: \")\n",
    "print(Tuple1)"
   ]
  },
  {
   "cell_type": "code",
   "execution_count": 10,
   "metadata": {
    "colab": {
     "base_uri": "https://localhost:8080/"
    },
    "id": "xzQ5oKTTqj3C",
    "outputId": "a80639ee-d653-48ed-e286-cee2b60794c5"
   },
   "outputs": [
    {
     "name": "stdout",
     "output_type": "stream",
     "text": [
      "\n",
      "Tuple with a loop\n",
      "('Geeks',)\n",
      "(('Geeks',),)\n",
      "((('Geeks',),),)\n",
      "(((('Geeks',),),),)\n",
      "((((('Geeks',),),),),)\n"
     ]
    }
   ],
   "source": [
    "# Creating a Tuple\n",
    "# with the use of loop\n",
    "Tuple1 = ('Geeks')\n",
    "n = 5\n",
    "print(\"\\nTuple with a loop\")\n",
    "for i in range(int(n)):\n",
    "    Tuple1 = (Tuple1,)\n",
    "    print(Tuple1)"
   ]
  },
  {
   "cell_type": "markdown",
   "metadata": {
    "id": "Wjs9rLM4rFFb"
   },
   "source": [
    "# **Accessing of Tuples**"
   ]
  },
  {
   "cell_type": "markdown",
   "metadata": {
    "id": "GkrfXD3irUXI"
   },
   "source": [
    "Tuples are immutable, and usually, they contain a sequence of heterogeneous elements that are accessed via unpacking or indexing (or even by attribute in the case of named tuples). Lists are mutable, and their elements are usually homogeneous and are accessed by iterating over the list.\n",
    "\n",
    "Note: In unpacking of tuple number of variables on the left-hand side should be equal to a number of values in given tuple a. "
   ]
  },
  {
   "cell_type": "code",
   "execution_count": 11,
   "metadata": {
    "colab": {
     "base_uri": "https://localhost:8080/"
    },
    "id": "dM5yHzFNrrJn",
    "outputId": "f51f9633-6a88-4645-c208-aee0dc30f5f0"
   },
   "outputs": [
    {
     "name": "stdout",
     "output_type": "stream",
     "text": [
      "\n",
      "First element of Tuple: \n",
      "G\n"
     ]
    }
   ],
   "source": [
    "# Accessing Tuple\n",
    "# with Indexing\n",
    "Tuple1 = tuple(\"Geeks\")\n",
    "print(\"\\nFirst element of Tuple: \")\n",
    "print(Tuple1[0])"
   ]
  },
  {
   "cell_type": "code",
   "execution_count": 12,
   "metadata": {
    "colab": {
     "base_uri": "https://localhost:8080/"
    },
    "id": "fCglIDXpr8Dr",
    "outputId": "256f81ae-b0d0-44ad-a0b7-f25ac88b88e8"
   },
   "outputs": [
    {
     "name": "stdout",
     "output_type": "stream",
     "text": [
      "\n",
      "Values after unpacking: \n",
      "Geeks\n",
      "For\n",
      "Geeks\n"
     ]
    }
   ],
   "source": [
    "# Tuple unpacking\n",
    "Tuple1 = (\"Geeks\", \"For\", \"Geeks\")\n",
    " \n",
    "# This line unpack\n",
    "# values of Tuple1\n",
    "a, b, c = Tuple1\n",
    "print(\"\\nValues after unpacking: \")\n",
    "print(a)\n",
    "print(b)\n",
    "print(c)"
   ]
  },
  {
   "cell_type": "markdown",
   "metadata": {
    "id": "rMrofKqNs7xm"
   },
   "source": [
    "# **Concatenation of Tuples**"
   ]
  },
  {
   "cell_type": "markdown",
   "metadata": {
    "id": "qSFjOZvcs9ek"
   },
   "source": [
    "**Concatenation** of tuple is the process of joining two or more Tuples. Concatenation is done by the use of ‘+’ operator. Concatenation of tuples is done always from the end of the original tuple. Other arithmetic operations do not apply on Tuples. \n",
    "\n",
    "**Note**- Only the same datatypes can be combined with concatenation, an error arises if a list and a tuple are combined. "
   ]
  },
  {
   "cell_type": "code",
   "execution_count": 13,
   "metadata": {
    "colab": {
     "base_uri": "https://localhost:8080/"
    },
    "id": "yld2T72AtHsL",
    "outputId": "1c3cc4b6-c3c1-4dfd-dc87-25b6deb1b125"
   },
   "outputs": [
    {
     "name": "stdout",
     "output_type": "stream",
     "text": [
      "Tuple 1: \n",
      "(0, 1, 2, 3)\n",
      "\n",
      "Tuple2: \n",
      "('Geeks', 'For', 'Geeks')\n",
      "\n",
      "Tuples after Concatenation: \n",
      "(0, 1, 2, 3, 'Geeks', 'For', 'Geeks')\n"
     ]
    }
   ],
   "source": [
    "# Concatenation of tuples\n",
    "Tuple1 = (0, 1, 2, 3)\n",
    "Tuple2 = ('Geeks', 'For', 'Geeks')\n",
    " \n",
    "Tuple3 = Tuple1 + Tuple2\n",
    " \n",
    "# Printing first Tuple\n",
    "print(\"Tuple 1: \")\n",
    "print(Tuple1)\n",
    " \n",
    "# Printing Second Tuple\n",
    "print(\"\\nTuple2: \")\n",
    "print(Tuple2)\n",
    " \n",
    "# Printing Final Tuple\n",
    "print(\"\\nTuples after Concatenation: \")\n",
    "print(Tuple3)"
   ]
  },
  {
   "cell_type": "markdown",
   "metadata": {
    "id": "1y57RXH1xPxC"
   },
   "source": [
    "# **Slicing of Tuple**"
   ]
  },
  {
   "cell_type": "markdown",
   "metadata": {
    "id": "dYgz6IucxVSv"
   },
   "source": [
    "**Slicing** of a Tuple is done to fetch a specific range or slice of sub-elements from a Tuple. Slicing can also be done to lists and arrays. Indexing in a list results to fetching a single element whereas Slicing allows to fetch a set of elements. \n",
    "\n",
    "**Note**- Negative Increment values can also be used to reverse the sequence of Tuples. "
   ]
  },
  {
   "cell_type": "code",
   "execution_count": 14,
   "metadata": {
    "colab": {
     "base_uri": "https://localhost:8080/"
    },
    "id": "sS0ZD2Goxouh",
    "outputId": "3dc2564b-babb-4332-c7b0-1a4cd749be9c"
   },
   "outputs": [
    {
     "name": "stdout",
     "output_type": "stream",
     "text": [
      "Removal of First Element: \n",
      "('E', 'E', 'K', 'S', 'F', 'O', 'R', 'G', 'E', 'E', 'K', 'S')\n",
      "\n",
      "Tuple after sequence of Element is reversed: \n",
      "('S', 'K', 'E', 'E', 'G', 'R', 'O', 'F', 'S', 'K', 'E', 'E', 'G')\n",
      "\n",
      "Printing elements between Range 4-9: \n",
      "('S', 'F', 'O', 'R', 'G')\n"
     ]
    }
   ],
   "source": [
    "# Slicing of a Tuple\n",
    " \n",
    "# Slicing of a Tuple\n",
    "# with Numbers\n",
    "Tuple1 = tuple('GEEKSFORGEEKS')\n",
    " \n",
    "# Removing First element\n",
    "print(\"Removal of First Element: \")\n",
    "print(Tuple1[1:])\n",
    " \n",
    "# Reversing the Tuple\n",
    "print(\"\\nTuple after sequence of Element is reversed: \")\n",
    "print(Tuple1[::-1])\n",
    " \n",
    "# Printing elements of a Range\n",
    "print(\"\\nPrinting elements between Range 4-9: \")\n",
    "print(Tuple1[4:9])"
   ]
  },
  {
   "cell_type": "markdown",
   "metadata": {
    "id": "oOLSDOYIx195"
   },
   "source": [
    "# **Deleting a Tuple**"
   ]
  },
  {
   "cell_type": "markdown",
   "metadata": {
    "id": "VN6GEJsdx5CR"
   },
   "source": [
    "**Tuples** are immutable and hence they do not allow deletion of a part of it. The entire tuple gets deleted by the use of del() method. \n",
    "\n",
    "**Note-** Printing of Tuple after deletion results in an Error"
   ]
  },
  {
   "cell_type": "code",
   "execution_count": 15,
   "metadata": {
    "id": "1CSuPeVJx7P6"
   },
   "outputs": [],
   "source": [
    "Tuple1 = (0, 1, 2, 3, 4)\n",
    "del Tuple1"
   ]
  }
 ],
 "metadata": {
  "colab": {
   "name": "Tuple__.ipynb",
   "provenance": []
  },
  "kernelspec": {
   "display_name": "Python 3",
   "language": "python",
   "name": "python3"
  },
  "language_info": {
   "codemirror_mode": {
    "name": "ipython",
    "version": 3
   },
   "file_extension": ".py",
   "mimetype": "text/x-python",
   "name": "python",
   "nbconvert_exporter": "python",
   "pygments_lexer": "ipython3",
   "version": "3.8.3"
  }
 },
 "nbformat": 4,
 "nbformat_minor": 1
}
