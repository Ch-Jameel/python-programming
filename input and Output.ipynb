{
 "cells": [
  {
   "cell_type": "code",
   "execution_count": 1,
   "metadata": {},
   "outputs": [
    {
     "name": "stdout",
     "output_type": "stream",
     "text": [
      "Enter your value: 5\n",
      "5\n"
     ]
    }
   ],
   "source": [
    "val = input(\"Enter your value: \")\n",
    "print(val)"
   ]
  },
  {
   "cell_type": "code",
   "execution_count": null,
   "metadata": {},
   "outputs": [],
   "source": [
    "# Python program showing how to\n",
    "# multiple input using split\n",
    " \n",
    "# taking two inputs at a time\n",
    "x, y = input(\"Enter a two value: \").split()\n",
    "print(\"Number of boys: \", x)\n",
    "print(\"Number of girls: \", y)\n",
    "print()\n",
    " \n",
    "# taking three inputs at a time\n",
    "x, y, z = input(\"Enter a three value: \").split()\n",
    "print(\"Total number of students: \", x)\n",
    "print(\"Number of boys is : \", y)\n",
    "print(\"Number of girls is : \", z)\n",
    "print()\n",
    " \n",
    "# taking two inputs at a time\n",
    "a, b = input(\"Enter a two value: \").split()\n",
    "print(\"First number is {} and second number is {}\".format(a, b))\n",
    "print()\n",
    " \n",
    "# taking multiple inputs at a time\n",
    "# and type casting using list() function\n",
    "x = list(map(int, input(\"Enter a multiple value: \").split()))\n",
    "print(\"List of students: \", x)"
   ]
  },
  {
   "cell_type": "code",
   "execution_count": 5,
   "metadata": {},
   "outputs": [
    {
     "name": "stdout",
     "output_type": "stream",
     "text": [
      "Enter multiple value: 2,4,7,10,5\n",
      "Number of list is:  [2, 4, 7, 10, 5]\n"
     ]
    }
   ],
   "source": [
    "## taking multiple inputs at a time separated by comma\n",
    "x = [int(x) for x in input(\"Enter multiple value: \").split(\",\")]\n",
    "print(\"Number of list is: \", x)"
   ]
  },
  {
   "cell_type": "markdown",
   "metadata": {},
   "source": [
    "# Output "
   ]
  },
  {
   "cell_type": "code",
   "execution_count": 6,
   "metadata": {},
   "outputs": [
    {
     "name": "stdout",
     "output_type": "stream",
     "text": [
      "GeeksforGeeks \n",
      " is best for DSA Content.\n"
     ]
    }
   ],
   "source": [
    "print(\"GeeksforGeeks \\n is best for DSA Content.\")"
   ]
  },
  {
   "cell_type": "code",
   "execution_count": 7,
   "metadata": {},
   "outputs": [
    {
     "name": "stdout",
     "output_type": "stream",
     "text": [
      "GeeksForGeeks is the best platform for DSA content\n",
      "GeeksForGeeks is the best platform for DSA content**Welcome to GFG\n"
     ]
    }
   ],
   "source": [
    "# This line will automatically add a new line before the\n",
    "# next print statement\n",
    "print (\"GeeksForGeeks is the best platform for DSA content\")\n",
    " \n",
    "# This print() function ends with \"**\" as set in the end argument.\n",
    "print (\"GeeksForGeeks is the best platform for DSA content\", end= \"**\")\n",
    "print(\"Welcome to GFG\")"
   ]
  },
  {
   "cell_type": "code",
   "execution_count": 9,
   "metadata": {},
   "outputs": [
    {
     "name": "stdout",
     "output_type": "stream",
     "text": [
      "3>>>2>>>1>>>Start\n"
     ]
    }
   ],
   "source": [
    "### Imagine you are building a countdown timer, \n",
    "##  which appends the remaining time to the same line every second\n",
    "\n",
    "import time\n",
    " \n",
    "count_seconds = 3\n",
    "for i in reversed(range(count_seconds + 1)):\n",
    "    if i > 0:\n",
    "        print(i, end='>>>')\n",
    "        time.sleep(1)\n",
    "    else:\n",
    "        print('Start')"
   ]
  },
  {
   "cell_type": "code",
   "execution_count": 10,
   "metadata": {},
   "outputs": [
    {
     "name": "stdout",
     "output_type": "stream",
     "text": [
      "Geeks for Geeks\n"
     ]
    }
   ],
   "source": [
    "b = \"for\"\n",
    " \n",
    "print(\"Geeks\", b , \"Geeks\")"
   ]
  },
  {
   "cell_type": "code",
   "execution_count": 11,
   "metadata": {},
   "outputs": [
    {
     "name": "stdout",
     "output_type": "stream",
     "text": [
      "GeeksForGeeks\n",
      "x = 5\n",
      "GFG\n",
      "Python@GeeksforGeeks\n"
     ]
    }
   ],
   "source": [
    "\n",
    "# Python 3.x program showing\n",
    "# how to print data on\n",
    "# a screen\n",
    " \n",
    "# One object is passed\n",
    "print(\"GeeksForGeeks\")\n",
    " \n",
    "x = 5\n",
    "# Two objects are passed\n",
    "print(\"x =\", x)\n",
    " \n",
    "# code for disabling the softspace feature\n",
    "print('G', 'F', 'G', sep='')\n",
    " \n",
    "# using end argument\n",
    "print(\"Python\", end='@')\n",
    "print(\"GeeksforGeeks\")"
   ]
  },
  {
   "cell_type": "code",
   "execution_count": 12,
   "metadata": {},
   "outputs": [
    {
     "name": "stdout",
     "output_type": "stream",
     "text": [
      "geeks geeksforgeeks\n",
      "1 2 3 4 "
     ]
    }
   ],
   "source": [
    "# Python 3 code for printing\n",
    "# on the same line printing\n",
    "# geeks and geeksforgeeks\n",
    "# in the same line\n",
    " \n",
    "print(\"geeks\", end =\" \")\n",
    "print(\"geeksforgeeks\")\n",
    " \n",
    "# array\n",
    "a = [1, 2, 3, 4]\n",
    " \n",
    "# printing a element in same\n",
    "# line\n",
    "for i in range(4):\n",
    "    print(a[i], end =\" \")\n"
   ]
  }
 ],
 "metadata": {
  "kernelspec": {
   "display_name": "Python 3",
   "language": "python",
   "name": "python3"
  },
  "language_info": {
   "codemirror_mode": {
    "name": "ipython",
    "version": 3
   },
   "file_extension": ".py",
   "mimetype": "text/x-python",
   "name": "python",
   "nbconvert_exporter": "python",
   "pygments_lexer": "ipython3",
   "version": "3.8.3"
  }
 },
 "nbformat": 4,
 "nbformat_minor": 4
}
