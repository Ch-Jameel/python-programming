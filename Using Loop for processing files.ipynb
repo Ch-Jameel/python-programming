{
 "cells": [
  {
   "cell_type": "raw",
   "metadata": {},
   "source": [
    "# This program prompts the user for sales amounts\n",
    "# and writes those amounts to the sales.txt file.\n",
    "def main():\n",
    "    \n",
    " # Get the number of days.\n",
    "    num_days = int(input('For how many days do ' + \n",
    "    'you have sales? '))\n",
    "    sales_file = open('sales.txt', 'w')\n",
    "    for count in range(1, num_days + 1):\n",
    "   # Get the sales for a day.\n",
    "        sales = float(input('Enter the sales for day #' + \n",
    "         str(count) + ': '))\n",
    "    # Write the sales amount to the file.\n",
    "        sales_file.write(str(sales) + '\\n')\n",
    "        # Close the file.\n",
    "    sales_file.close()\n",
    "main()  "
   ]
  },
  {
   "cell_type": "raw",
   "metadata": {},
   "source": [
    "# This program saves a sequence of video running times\n",
    "# to the video_times.txt file.\n",
    "def main():  \n",
    " # Get the number of videos in the project.\n",
    "    num_videos = int(input('How many videos are in the project? '))\n",
    "   # Open the file to hold the running times.\n",
    "    video_file = open('video_times.txt', 'w')\n",
    "# Get each video's running time and write\n",
    "# it to the file.\n",
    "    print('Enter the running times for each video.')\n",
    "    for count in range(1, num_videos + 1):\n",
    "        run_time = float(input('Video #' + str(count) + ': '))\n",
    "        video_file.write(str(run_time) + '\\n')\n",
    " # Close the file.\n",
    "    video_file.close()\n",
    "    print('The times have been saved to video_times.txt.')\n",
    " # Call the main function.\n",
    "main()"
   ]
  }
 ],
 "metadata": {
  "kernelspec": {
   "display_name": "Python 3",
   "language": "python",
   "name": "python3"
  },
  "language_info": {
   "codemirror_mode": {
    "name": "ipython",
    "version": 3
   },
   "file_extension": ".py",
   "mimetype": "text/x-python",
   "name": "python",
   "nbconvert_exporter": "python",
   "pygments_lexer": "ipython3",
   "version": "3.8.3"
  }
 },
 "nbformat": 4,
 "nbformat_minor": 4
}
