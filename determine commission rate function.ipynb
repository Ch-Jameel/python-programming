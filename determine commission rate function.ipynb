{
 "cells": [
  {
   "cell_type": "code",
   "execution_count": 1,
   "metadata": {},
   "outputs": [
    {
     "name": "stdout",
     "output_type": "stream",
     "text": [
      "please enter the sales   5669\n",
      "please enter the advanced pay   67\n",
      "The Total pay is  499.9\n"
     ]
    }
   ],
   "source": [
    "def main():\n",
    "    \n",
    "    sales=get_sale()\n",
    "    \n",
    "    \n",
    "    advanced_pay = get_advanced_pay()\n",
    "    \n",
    "    comm_rate = determine_comm_rate(sales)\n",
    "    \n",
    "    pay = sales*comm_rate - advanced_pay\n",
    "    print('The Total pay is ',pay)\n",
    "    if pay<0:\n",
    "        print('The Salesperson must reimburse')\n",
    "        \n",
    "        \n",
    "def get_sale():\n",
    "    sales = float(input('please enter the sales   '))\n",
    "    while sales<0:\n",
    "        print('please enter postive number')\n",
    "        sales=float(input('please enter the sale again  '))\n",
    "    return sales\n",
    "    \n",
    "    \n",
    "    \n",
    "def get_advanced_pay():\n",
    "    advanced_pay=float(input('please enter the advanced pay   '))\n",
    "    while advanced_pay<0:\n",
    "        print('please enter postive number')\n",
    "        advanced_pay=float(input('please enter the advanced pay again    '))\n",
    "    return advanced_pay\n",
    "    \n",
    "    \n",
    "def determine_comm_rate(sales):\n",
    "    if sales < 10000.00:\n",
    "        comm_rate= 0.10\n",
    "        \n",
    "    elif sales >= 10000 and sales <= 14999.99:\n",
    "        comm_rate=0.12\n",
    "        \n",
    "    elif sales >= 15000 and sales <= 17999.99:\n",
    "        comm_rate = 0.14\n",
    "        \n",
    "    elif sales >= 18000 and sales <= 21999.99:\n",
    "        comm_rate =0.16\n",
    "        \n",
    "    else:\n",
    "        comm_rate = 0.18\n",
    "        \n",
    "    return comm_rate\n",
    "main()"
   ]
  },
  {
   "cell_type": "code",
   "execution_count": null,
   "metadata": {},
   "outputs": [],
   "source": []
  }
 ],
 "metadata": {
  "kernelspec": {
   "display_name": "Python 3",
   "language": "python",
   "name": "python3"
  },
  "language_info": {
   "codemirror_mode": {
    "name": "ipython",
    "version": 3
   },
   "file_extension": ".py",
   "mimetype": "text/x-python",
   "name": "python",
   "nbconvert_exporter": "python",
   "pygments_lexer": "ipython3",
   "version": "3.8.3"
  }
 },
 "nbformat": 4,
 "nbformat_minor": 4
}
