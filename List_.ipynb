{
 "cells": [
  {
   "cell_type": "markdown",
   "metadata": {
    "id": "sfpGCTM3ApIB"
   },
   "source": [
    "# **Python Lists**"
   ]
  },
  {
   "cell_type": "markdown",
   "metadata": {
    "id": "GgFHpL52CEf-"
   },
   "source": [
    "**Lists** are just like dynamically sized arrays, declared in other languages (vector in C++ and ArrayList in Java). Lists need not be homogeneous always which makes it the most powerful tool in Python. A single list may contain DataTypes like Integers, Strings, as well as Objects. Lists are mutable, and hence, they can be altered even after their creation.\n",
    "\n",
    "List in Python are ordered and have a definite count. The elements in a list are indexed according to a definite sequence and the indexing of a list is done with 0 being the first index. Each element in the list has its definite place in the list, which allows duplicating of elements in the list, with each element having its own distinct place and credibility.\n",
    "\n",
    "**Note**- Lists are a useful tool for preserving a sequence of data and further iterating over it."
   ]
  },
  {
   "cell_type": "markdown",
   "metadata": {
    "id": "boJQGZZ9CvI3"
   },
   "source": [
    "# **Creating a List**"
   ]
  },
  {
   "cell_type": "markdown",
   "metadata": {
    "id": "0ehkBFFKCxKU"
   },
   "source": [
    "Lists in Python can be created by just placing the sequence inside the square brackets[]. Unlike Sets, a list doesn’t need a built-in function for the creation of a list. "
   ]
  },
  {
   "cell_type": "code",
   "execution_count": null,
   "metadata": {
    "colab": {
     "base_uri": "https://localhost:8080/"
    },
    "id": "fqzRzJxiC9Hh",
    "outputId": "46fd4cc5-77d9-423f-def4-c2f1b88b2ab5"
   },
   "outputs": [
    {
     "name": "stdout",
     "output_type": "stream",
     "text": [
      "\n",
      "List of numbers: \n",
      "[10, 20, 14]\n",
      "\n",
      "List Items: \n",
      "Geeks\n",
      "\n",
      "Multi-Dimensional List: \n",
      "[['Geeks', 'For'], ['Geeks']]\n"
     ]
    }
   ],
   "source": [
    "# Creating a List of numbers\n",
    "List = [10, 20, 14]\n",
    "print(\"\\nList of numbers: \")\n",
    "print(List)\n",
    " \n",
    "# Creating a List of strings and accessing\n",
    "# using index\n",
    "List = [\"Geeks\", \"For\", \"Geeks\"]\n",
    "print(\"\\nList Items: \")\n",
    "print(List[0])\n",
    " \n",
    "# Creating a Multi-Dimensional List\n",
    "# (By Nesting a list inside a List)\n",
    "List = [['Geeks', 'For'], ['Geeks']]\n",
    "print(\"\\nMulti-Dimensional List: \")\n",
    "print(List)"
   ]
  },
  {
   "cell_type": "markdown",
   "metadata": {
    "id": "qH7lSAwT70kG"
   },
   "source": [
    "# **Knowing the size of List**"
   ]
  },
  {
   "cell_type": "code",
   "execution_count": null,
   "metadata": {
    "colab": {
     "base_uri": "https://localhost:8080/"
    },
    "id": "1l3mReu571pm",
    "outputId": "485cf094-0117-4acc-dbd3-a72ce17f78bb"
   },
   "outputs": [
    {
     "name": "stdout",
     "output_type": "stream",
     "text": [
      "0\n",
      "3\n"
     ]
    }
   ],
   "source": [
    "\n",
    "# Creating a List\n",
    "List1 = []\n",
    "print(len(List1))\n",
    " \n",
    "# Creating a List of numbers\n",
    "List2 = [10, 20, 14]\n",
    "print(len(List2))"
   ]
  },
  {
   "cell_type": "markdown",
   "metadata": {
    "id": "2PE02m7CBBaq"
   },
   "source": [
    "# **Adding Elements to a List**"
   ]
  },
  {
   "cell_type": "markdown",
   "metadata": {
    "id": "hPHC-VLgD-RU"
   },
   "source": [
    "# **Using append() method**"
   ]
  },
  {
   "cell_type": "markdown",
   "metadata": {
    "id": "23u60sGTD_Sd"
   },
   "source": [
    "Elements can be added to the List by using the built-in append() function. Only one element at a time can be added to the list by using the append() method, for the addition of multiple elements with the append() method, loops are used. Tuples can also be added to the list with the use of the append method because tuples are immutable. Unlike Sets, Lists can also be added to the existing list with the use of the append() method."
   ]
  },
  {
   "cell_type": "code",
   "execution_count": null,
   "metadata": {
    "colab": {
     "base_uri": "https://localhost:8080/"
    },
    "id": "xczVSEoOBDG2",
    "outputId": "d28c7e0b-e160-4d1a-cb39-b92a5052c26a"
   },
   "outputs": [
    {
     "name": "stdout",
     "output_type": "stream",
     "text": [
      "Initial blank List: \n",
      "[]\n",
      "\n",
      "List after Addition of Three elements: \n",
      "[1, 2, 4]\n"
     ]
    }
   ],
   "source": [
    "# Creating a List\n",
    "List = []\n",
    "print(\"Initial blank List: \")\n",
    "print(List)\n",
    " \n",
    "# Addition of Elements\n",
    "# in the List\n",
    "List.append(1)\n",
    "List.append(2)\n",
    "List.append(4)\n",
    "print(\"\\nList after Addition of Three elements: \")\n",
    "print(List)"
   ]
  },
  {
   "cell_type": "code",
   "execution_count": null,
   "metadata": {
    "colab": {
     "base_uri": "https://localhost:8080/"
    },
    "id": "Gsu7qFi5ERq2",
    "outputId": "60aa2f4c-2d9c-473b-ace7-4ab57706bb8e"
   },
   "outputs": [
    {
     "name": "stdout",
     "output_type": "stream",
     "text": [
      "\n",
      "List after Addition of elements from 1-3: \n",
      "[1, 2, 4, 1, 2, 3]\n"
     ]
    }
   ],
   "source": [
    "# Adding elements to the List\n",
    "# using Iterator\n",
    "for i in range(1, 4):\n",
    "    List.append(i)\n",
    "print(\"\\nList after Addition of elements from 1-3: \")\n",
    "print(List)"
   ]
  },
  {
   "cell_type": "code",
   "execution_count": null,
   "metadata": {
    "colab": {
     "base_uri": "https://localhost:8080/"
    },
    "id": "Xr3B3Z3EEdWt",
    "outputId": "940a960b-445f-4e0b-affb-16f42eb66258"
   },
   "outputs": [
    {
     "name": "stdout",
     "output_type": "stream",
     "text": [
      "\n",
      "List after Addition of a Tuple: \n",
      "[1, 2, 4, 1, 2, 3, (5, 6)]\n",
      "\n",
      "List after Addition of a List: \n",
      "[1, 2, 4, 1, 2, 3, (5, 6), ['For', 'Geeks']]\n"
     ]
    }
   ],
   "source": [
    "# Adding Tuples to the List\n",
    "List.append((5, 6))\n",
    "print(\"\\nList after Addition of a Tuple: \")\n",
    "print(List)\n",
    " \n",
    "# Addition of List to a List\n",
    "List2 = ['For', 'Geeks']\n",
    "List.append(List2)\n",
    "print(\"\\nList after Addition of a List: \")\n",
    "print(List)"
   ]
  },
  {
   "cell_type": "markdown",
   "metadata": {
    "id": "jwhuYC3aEwnG"
   },
   "source": [
    "# **Using insert() method**"
   ]
  },
  {
   "cell_type": "markdown",
   "metadata": {
    "id": "1-k8jb0FExk1"
   },
   "source": [
    "append() method only works for the addition of elements at the end of the List, for the addition of elements at the desired position, insert() method is used. Unlike append() which takes only one argument, the insert() method requires two arguments(position, value). "
   ]
  },
  {
   "cell_type": "code",
   "execution_count": null,
   "metadata": {
    "colab": {
     "base_uri": "https://localhost:8080/"
    },
    "id": "MYVo0qy9E0SW",
    "outputId": "cbe4f460-ded5-43a8-8fa0-aa47630174a4"
   },
   "outputs": [
    {
     "name": "stdout",
     "output_type": "stream",
     "text": [
      "Initial List: \n",
      "[1, 2, 3, 4]\n",
      "\n",
      "List after performing Insert Operation: \n",
      "['Geeks', 1, 2, 3, 12, 4]\n"
     ]
    }
   ],
   "source": [
    "# Python program to demonstrate\n",
    "# Addition of elements in a List\n",
    "  \n",
    "# Creating a List\n",
    "List = [1,2,3,4]\n",
    "print(\"Initial List: \")\n",
    "print(List)\n",
    " \n",
    "# Addition of Element at\n",
    "# specific Position\n",
    "# (using Insert Method)\n",
    "List.insert(3, 12)\n",
    "List.insert(0, 'Geeks')\n",
    "print(\"\\nList after performing Insert Operation: \")\n",
    "print(List)"
   ]
  },
  {
   "cell_type": "markdown",
   "metadata": {
    "id": "oyLmgdFVowvO"
   },
   "source": [
    "# **Using extend() method**"
   ]
  },
  {
   "cell_type": "markdown",
   "metadata": {
    "id": "4Lx1AFw1oy4K"
   },
   "source": [
    "Other than append() and insert() methods, there’s one more method for the Addition of elements, extend(), this method is used to add multiple elements at the same time at the end of the list.\n",
    "\n",
    "Note – append() and extend() methods can only add elements at the end."
   ]
  },
  {
   "cell_type": "code",
   "execution_count": null,
   "metadata": {
    "colab": {
     "base_uri": "https://localhost:8080/"
    },
    "id": "NCQtJECyoyN8",
    "outputId": "7a0a6f8a-85b8-4357-9b5d-000d80bd1825"
   },
   "outputs": [
    {
     "name": "stdout",
     "output_type": "stream",
     "text": [
      "Initial List: \n",
      "[1, 2, 3, 4]\n",
      "\n",
      "List after performing Extend Operation: \n",
      "[1, 2, 3, 4, 8, 'Geeks', 'Always']\n"
     ]
    }
   ],
   "source": [
    "# Python program to demonstrate\n",
    "# Addition of elements in a List\n",
    " \n",
    "# Creating a List\n",
    "List = [1, 2, 3, 4]\n",
    "print(\"Initial List: \")\n",
    "print(List)\n",
    " \n",
    "# Addition of multiple elements\n",
    "# to the List at the end\n",
    "# (using Extend Method)\n",
    "List.extend([8, 'Geeks', 'Always'])\n",
    "print(\"\\nList after performing Extend Operation: \")\n",
    "print(List)"
   ]
  },
  {
   "cell_type": "markdown",
   "metadata": {
    "id": "Fwixu-MupnP9"
   },
   "source": [
    "# **Accessing elements from the List**"
   ]
  },
  {
   "cell_type": "markdown",
   "metadata": {
    "id": "fm9Wyw-HpolG"
   },
   "source": [
    "In order to access the list items refer to the index number. Use the index operator [ ] to access an item in a list. The index must be an integer. Nested lists are accessed using nested indexing. "
   ]
  },
  {
   "cell_type": "code",
   "execution_count": null,
   "metadata": {
    "colab": {
     "base_uri": "https://localhost:8080/"
    },
    "id": "xx9s_SBPpwrX",
    "outputId": "6585deb3-f352-4b97-f6d0-ea8c85f9e566"
   },
   "outputs": [
    {
     "name": "stdout",
     "output_type": "stream",
     "text": [
      "Accessing a element from the list\n",
      "Geeks\n",
      "Geeks\n",
      "Accessing a element from a Multi-Dimensional list\n",
      "For\n",
      "Geeks\n"
     ]
    }
   ],
   "source": [
    "# Python program to demonstrate\n",
    "# accessing of element from list\n",
    "# Creating a List with\n",
    "# the use of multiple values\n",
    "List = [\"Geeks\", \"For\", \"Geeks\"]\n",
    " \n",
    "# accessing a element from the\n",
    "# list using index number\n",
    "print(\"Accessing a element from the list\")\n",
    "print(List[0])\n",
    "print(List[2])\n",
    " \n",
    "# Creating a Multi-Dimensional List\n",
    "# (By Nesting a list inside a List)\n",
    "List = [['Geeks', 'For'], ['Geeks']]\n",
    " \n",
    "# accessing an element from the\n",
    "# Multi-Dimensional List using\n",
    "# index number\n",
    "print(\"Accessing a element from a Multi-Dimensional list\")\n",
    "print(List[0][1])\n",
    "print(List[1][0])"
   ]
  },
  {
   "cell_type": "markdown",
   "metadata": {
    "id": "2XbqkI_CudWd"
   },
   "source": [
    "# **Negative indexing**"
   ]
  },
  {
   "cell_type": "markdown",
   "metadata": {
    "id": "FAN_F3XhufAM"
   },
   "source": [
    "In Python, negative sequence indexes represent positions from the end of the array. Instead of having to compute the offset as in List[len(List)-3], it is enough to just write List[-3]. Negative indexing means beginning from the end, -1 refers to the last item, -2 refers to the second-last item, etc."
   ]
  },
  {
   "cell_type": "code",
   "execution_count": null,
   "metadata": {
    "colab": {
     "base_uri": "https://localhost:8080/"
    },
    "id": "VA6JXWjlu3KL",
    "outputId": "b449d6bc-e984-44c2-ec37-6247336f648e"
   },
   "outputs": [
    {
     "name": "stdout",
     "output_type": "stream",
     "text": [
      "Accessing element using negative indexing\n",
      "Geeks\n",
      "For\n"
     ]
    }
   ],
   "source": [
    "List = [1, 2, 'Geeks', 4, 'For', 6, 'Geeks']\n",
    " \n",
    "# accessing an element using\n",
    "# negative indexing\n",
    "print(\"Accessing element using negative indexing\")\n",
    " \n",
    "# print the last element of list\n",
    "print(List[-1])\n",
    " \n",
    "# print the third last element of list\n",
    "print(List[-3])"
   ]
  },
  {
   "cell_type": "markdown",
   "metadata": {
    "id": "51mfb8d2vWB8"
   },
   "source": [
    "# **Removing Elements from the List**"
   ]
  },
  {
   "cell_type": "markdown",
   "metadata": {
    "id": "7yOGUOSVvXld"
   },
   "source": [
    "# **Using remove() method**"
   ]
  },
  {
   "cell_type": "markdown",
   "metadata": {
    "id": "O5iTUu1evcQL"
   },
   "source": [
    "Elements can be removed from the List by using the built-in remove() function but an Error arises if the element doesn’t exist in the list. Remove() method only removes one element at a time, to remove a range of elements, the iterator is used. The remove() method removes the specified item.\n",
    "\n",
    "Note – Remove method in List will only remove the first occurrence of the searched element."
   ]
  },
  {
   "cell_type": "code",
   "execution_count": null,
   "metadata": {
    "colab": {
     "base_uri": "https://localhost:8080/"
    },
    "id": "Cc14yVkMvjbW",
    "outputId": "779a4b64-2bed-4c67-dc54-fe96a66609ed"
   },
   "outputs": [
    {
     "name": "stdout",
     "output_type": "stream",
     "text": [
      "Initial List: \n",
      "[1, 2, 3, 4, 5, 6, 7, 8, 9, 10, 11, 12]\n",
      "\n",
      "List after Removal of two elements: \n",
      "[1, 2, 3, 4, 7, 8, 9, 10, 11, 12]\n",
      "\n",
      "List after Removing a range of elements: \n",
      "[7, 8, 9, 10, 11, 12]\n"
     ]
    }
   ],
   "source": [
    "# Python program to demonstrate\n",
    "# Removal of elements in a List\n",
    " \n",
    "# Creating a List\n",
    "List = [1, 2, 3, 4, 5, 6,\n",
    "        7, 8, 9, 10, 11, 12]\n",
    "print(\"Initial List: \")\n",
    "print(List)\n",
    " \n",
    "# Removing elements from List\n",
    "# using Remove() method\n",
    "List.remove(5)\n",
    "List.remove(6)\n",
    "print(\"\\nList after Removal of two elements: \")\n",
    "print(List)\n",
    "# Removing elements from List\n",
    "# using iterator method\n",
    "for i in range(1, 5):\n",
    "    List.remove(i)\n",
    "print(\"\\nList after Removing a range of elements: \")\n",
    "print(List)"
   ]
  },
  {
   "cell_type": "markdown",
   "metadata": {
    "id": "Lf36jIHqDsyH"
   },
   "source": [
    "# **Using pop() method**"
   ]
  },
  {
   "cell_type": "markdown",
   "metadata": {
    "id": "LV3lfdYRDvf9"
   },
   "source": [
    "Pop() function can also be used to remove and return an element from the list, but by default it removes only the last element of the list, to remove an element from a specific position of the List, the index of the element is passed as an argument to the pop() method."
   ]
  },
  {
   "cell_type": "code",
   "execution_count": null,
   "metadata": {
    "colab": {
     "base_uri": "https://localhost:8080/"
    },
    "id": "tmsJNUaCD6uM",
    "outputId": "a418a29d-82c6-452a-a8d0-c98478aa9b99"
   },
   "outputs": [
    {
     "name": "stdout",
     "output_type": "stream",
     "text": [
      "\n",
      "List after popping an element: \n",
      "[1, 2, 3, 4]\n",
      "\n",
      "List after popping a specific element: \n",
      "[1, 2, 4]\n"
     ]
    }
   ],
   "source": [
    "List = [1,2,3,4,5]\n",
    " \n",
    "# Removing element from the\n",
    "# Set using the pop() method\n",
    "List.pop()\n",
    "print(\"\\nList after popping an element: \")\n",
    "print(List)\n",
    " \n",
    "# Removing element at a\n",
    "# specific location from the\n",
    "# Set using the pop() method\n",
    "List.pop(2)\n",
    "print(\"\\nList after popping a specific element: \")\n",
    "print(List)"
   ]
  },
  {
   "cell_type": "markdown",
   "metadata": {
    "id": "oSVikujqHHmy"
   },
   "source": [
    "# **Slicing of a List**"
   ]
  },
  {
   "cell_type": "markdown",
   "metadata": {
    "id": "rvhMc9x6HJTz"
   },
   "source": [
    "In Python List, there are multiple ways to print the whole List with all the elements, but to print a specific range of elements from the list, we use the Slice operation. Slice operation is performed on Lists with the use of a colon(:). To print elements from beginning to a range use [: Index], to print elements from end-use [:-Index], to print elements from specific Index till the end use [Index:], to print elements within a range, use [Start Index:End Index] and to print the whole List with the use of slicing operation, use [:]. Further, to print the whole List in reverse order, use [::-1]."
   ]
  },
  {
   "cell_type": "code",
   "execution_count": null,
   "metadata": {
    "colab": {
     "base_uri": "https://localhost:8080/"
    },
    "id": "c5a8jXa7HOq9",
    "outputId": "5410a74e-e809-4afc-ac87-5e94731112e3"
   },
   "outputs": [
    {
     "name": "stdout",
     "output_type": "stream",
     "text": [
      "Initial List: \n",
      "['G', 'E', 'E', 'K', 'S', 'F', 'O', 'R', 'G', 'E', 'E', 'K', 'S']\n",
      "\n",
      "Slicing elements in a range 3-8: \n",
      "['K', 'S', 'F', 'O', 'R']\n",
      "\n",
      "Elements sliced from 5th element till the end: \n",
      "['F', 'O', 'R', 'G', 'E', 'E', 'K', 'S']\n",
      "\n",
      "Printing all elements using slice operation: \n",
      "['G', 'E', 'E', 'K', 'S', 'F', 'O', 'R', 'G', 'E', 'E', 'K', 'S']\n"
     ]
    }
   ],
   "source": [
    "# Python program to demonstrate\n",
    "# Removal of elements in a List\n",
    " \n",
    "# Creating a List\n",
    "List = ['G', 'E', 'E', 'K', 'S', 'F',\n",
    "        'O', 'R', 'G', 'E', 'E', 'K', 'S']\n",
    "print(\"Initial List: \")\n",
    "print(List)\n",
    " \n",
    "# Print elements of a range\n",
    "# using Slice operation\n",
    "Sliced_List = List[3:8]\n",
    "print(\"\\nSlicing elements in a range 3-8: \")\n",
    "print(Sliced_List)\n",
    " \n",
    "# Print elements from a\n",
    "# pre-defined point to end\n",
    "Sliced_List = List[5:]\n",
    "print(\"\\nElements sliced from 5th \"\n",
    "      \"element till the end: \")\n",
    "print(Sliced_List)\n",
    "# Printing elements from\n",
    "# beginning till end\n",
    "Sliced_List = List[:]\n",
    "print(\"\\nPrinting all elements using slice operation: \")\n",
    "print(Sliced_List)"
   ]
  },
  {
   "cell_type": "markdown",
   "metadata": {
    "id": "rcLpXh6fICLX"
   },
   "source": [
    "# **Negative index List slicing**"
   ]
  },
  {
   "cell_type": "code",
   "execution_count": null,
   "metadata": {
    "colab": {
     "base_uri": "https://localhost:8080/"
    },
    "id": "z9oOosF0IDpO",
    "outputId": "9305d21e-ef93-4983-b275-2763e7832340"
   },
   "outputs": [
    {
     "name": "stdout",
     "output_type": "stream",
     "text": [
      "Initial List: \n",
      "['G', 'E', 'E', 'K', 'S', 'F', 'O', 'R', 'G', 'E', 'E', 'K', 'S']\n",
      "\n",
      "Elements sliced till 6th element from last: \n",
      "['G', 'E', 'E', 'K', 'S', 'F', 'O']\n",
      "\n",
      "Elements sliced from index -6 to -1\n",
      "['R', 'G', 'E', 'E', 'K']\n",
      "\n",
      "Printing List in reverse: \n",
      "['S', 'K', 'E', 'E', 'G', 'R', 'O', 'F', 'S', 'K', 'E', 'E', 'G']\n"
     ]
    }
   ],
   "source": [
    "\n",
    "# Creating a List\n",
    "List = ['G', 'E', 'E', 'K', 'S', 'F',\n",
    "        'O', 'R', 'G', 'E', 'E', 'K', 'S']\n",
    "print(\"Initial List: \")\n",
    "print(List)\n",
    " \n",
    "# Print elements from beginning\n",
    "# to a pre-defined point using Slice\n",
    "Sliced_List = List[:-6]\n",
    "print(\"\\nElements sliced till 6th element from last: \")\n",
    "print(Sliced_List)\n",
    " \n",
    "# Print elements of a range\n",
    "# using negative index List slicing\n",
    "Sliced_List = List[-6:-1]\n",
    "print(\"\\nElements sliced from index -6 to -1\")\n",
    "print(Sliced_List)\n",
    "\n",
    "# Printing elements in reverse\n",
    "# using Slice operation\n",
    "Sliced_List = List[::-1]\n",
    "print(\"\\nPrinting List in reverse: \")\n",
    "print(Sliced_List)"
   ]
  },
  {
   "cell_type": "markdown",
   "metadata": {
    "id": "EPwMGYcfJ2uC"
   },
   "source": [
    "# **Find the item in the list**"
   ]
  },
  {
   "cell_type": "code",
   "execution_count": null,
   "metadata": {
    "colab": {
     "base_uri": "https://localhost:8080/"
    },
    "id": "KAh3clSuJ3xl",
    "outputId": "a40ae08f-a947-42a5-d184-1c428ebc7a5a"
   },
   "outputs": [
    {
     "name": "stdout",
     "output_type": "stream",
     "text": [
      "please enter the product name : V475\n",
      "product is in list\n"
     ]
    }
   ],
   "source": [
    "prod_nums = ['V475', 'F987', 'Q143', 'R688']\n",
    "search=input('please enter the product name : ')\n",
    "if search in prod_nums:\n",
    "   print('product is in list')\n",
    "else:\n",
    "  print('product is not in list')"
   ]
  },
  {
   "cell_type": "markdown",
   "metadata": {
    "id": "e9WwSHnRKi5-"
   },
   "source": [
    "# **Replace new item in list**"
   ]
  },
  {
   "cell_type": "code",
   "execution_count": null,
   "metadata": {
    "colab": {
     "base_uri": "https://localhost:8080/"
    },
    "id": "xcQi6i58KkA1",
    "outputId": "66c8305c-2b8a-4586-9d77-97af1fdae3ad"
   },
   "outputs": [
    {
     "name": "stdout",
     "output_type": "stream",
     "text": [
      "Enter the item which you want to change : V475\n",
      "Enter the new item which want to put: V777\n",
      "New Updated list is \n"
     ]
    },
    {
     "data": {
      "text/plain": [
       "['V777', 'F987', 'Q143', 'R688']"
      ]
     },
     "execution_count": 19,
     "metadata": {},
     "output_type": "execute_result"
    }
   ],
   "source": [
    "prod_nums = ['V475', 'F987', 'Q143', 'R688']\n",
    "old_item=input('Enter the item which you want to change : ')\n",
    "item_index=prod_nums.index(old_item)\n",
    "new_item=input('Enter the new item which want to put: ')\n",
    "prod_nums[item_index]=new_item\n",
    "print('New Updated list is ')\n",
    "prod_nums"
   ]
  },
  {
   "cell_type": "code",
   "execution_count": null,
   "metadata": {
    "colab": {
     "base_uri": "https://localhost:8080/"
    },
    "id": "8fAy5DScLmnN",
    "outputId": "839ffdd7-e817-4dff-f61a-15269aa7dc41"
   },
   "outputs": [
    {
     "data": {
      "text/plain": [
       "['BVh', 'F987', 'Q143', 'R688']"
      ]
     },
     "execution_count": 20,
     "metadata": {},
     "output_type": "execute_result"
    }
   ],
   "source": [
    "prod_nums[0]='BVh'\n",
    "prod_nums"
   ]
  },
  {
   "cell_type": "markdown",
   "metadata": {
    "id": "avxGSEjZL2V1"
   },
   "source": [
    "# **sort method¶**"
   ]
  },
  {
   "cell_type": "code",
   "execution_count": null,
   "metadata": {
    "colab": {
     "base_uri": "https://localhost:8080/"
    },
    "id": "8Fs1XxG2L3hr",
    "outputId": "b8bff2e1-049b-4f32-a8c0-1a825430f283"
   },
   "outputs": [
    {
     "name": "stdout",
     "output_type": "stream",
     "text": [
      "Original order: [9, 1, 0, 2, 8, 6, 7, 4, 5, 3]\n",
      "Sorted order: [0, 1, 2, 3, 4, 5, 6, 7, 8, 9]\n"
     ]
    }
   ],
   "source": [
    "my_list = [9, 1, 0, 2, 8, 6, 7, 4, 5, 3]\n",
    "print('Original order:', my_list)\n",
    "my_list.sort()\n",
    "print('Sorted order:', my_list)"
   ]
  },
  {
   "cell_type": "markdown",
   "metadata": {
    "id": "0irk7qL3MLn6"
   },
   "source": [
    "# **Reverse list**"
   ]
  },
  {
   "cell_type": "code",
   "execution_count": null,
   "metadata": {
    "colab": {
     "base_uri": "https://localhost:8080/"
    },
    "id": "LwkqZReDL3j3",
    "outputId": "84fd53b5-6b9d-4c65-fd37-91f23b993d46"
   },
   "outputs": [
    {
     "data": {
      "text/plain": [
       "[9, 8, 7, 6, 5, 4, 3, 2, 1, 0]"
      ]
     },
     "execution_count": 24,
     "metadata": {},
     "output_type": "execute_result"
    }
   ],
   "source": [
    "my_list.reverse()\n",
    "my_list"
   ]
  },
  {
   "cell_type": "code",
   "execution_count": null,
   "metadata": {
    "colab": {
     "base_uri": "https://localhost:8080/"
    },
    "id": "4iE455iFMVhg",
    "outputId": "c23f7730-a8b7-4663-d1f0-696504cd3f35"
   },
   "outputs": [
    {
     "name": "stdout",
     "output_type": "stream",
     "text": [
      "\n",
      "Printing List in reverse: \n",
      "[9, 8, 7, 6, 5, 4, 3, 2, 1]\n"
     ]
    }
   ],
   "source": [
    "List=[1,2,3,4,5,6,7,8,9]\n",
    "# Printing elements in reverse\n",
    "# using Slice operation\n",
    "Sliced_List = List[::-1]\n",
    "print(\"\\nPrinting List in reverse: \")\n",
    "print(Sliced_List)"
   ]
  },
  {
   "cell_type": "markdown",
   "metadata": {
    "id": "-FWt4MgjMt3x"
   },
   "source": [
    "# **find minimum and maximun in list**"
   ]
  },
  {
   "cell_type": "code",
   "execution_count": null,
   "metadata": {
    "colab": {
     "base_uri": "https://localhost:8080/"
    },
    "id": "hLKw5l8-Mu55",
    "outputId": "e523f903-63d8-4c1b-fa3e-d4b61ec5e1bc"
   },
   "outputs": [
    {
     "data": {
      "text/plain": [
       "9"
      ]
     },
     "execution_count": 26,
     "metadata": {},
     "output_type": "execute_result"
    }
   ],
   "source": [
    "max(List)"
   ]
  },
  {
   "cell_type": "code",
   "execution_count": null,
   "metadata": {
    "colab": {
     "base_uri": "https://localhost:8080/"
    },
    "id": "2GG2RxqkMztF",
    "outputId": "92d70f25-dfe8-4aad-a3e2-c87a6c8f4ff8"
   },
   "outputs": [
    {
     "data": {
      "text/plain": [
       "1"
      ]
     },
     "execution_count": 27,
     "metadata": {},
     "output_type": "execute_result"
    }
   ],
   "source": [
    "min(List)"
   ]
  },
  {
   "cell_type": "code",
   "execution_count": null,
   "metadata": {
    "colab": {
     "base_uri": "https://localhost:8080/"
    },
    "id": "sCplsuKUM3_2",
    "outputId": "96c72f4c-24d5-41c2-ad57-a920cd136e90"
   },
   "outputs": [
    {
     "name": "stdout",
     "output_type": "stream",
     "text": [
      "The lowest value is 2\n",
      "The max value is 50\n"
     ]
    }
   ],
   "source": [
    "my_list = [5, 4, 3, 2, 50, 40, 30]\n",
    "print('The lowest value is', min(my_list))\n",
    "print('The max value is', max(my_list))"
   ]
  },
  {
   "cell_type": "markdown",
   "metadata": {
    "id": "jt2Amw_sOu1x"
   },
   "source": [
    "# **Remove duplicates from list**"
   ]
  },
  {
   "cell_type": "code",
   "execution_count": null,
   "metadata": {
    "colab": {
     "base_uri": "https://localhost:8080/"
    },
    "id": "j1k-oQTUOv5i",
    "outputId": "6df75d8e-8d92-4517-de52-236f6ed7cef3"
   },
   "outputs": [
    {
     "name": "stdout",
     "output_type": "stream",
     "text": [
      "[5, 4, 3, 2, 50, 40, 30]\n"
     ]
    }
   ],
   "source": [
    "### Append Unique Item into Another List\n",
    "unique=[]\n",
    "for num in my_list:\n",
    "  if num not in unique:\n",
    "    unique.append(num)\n",
    "print(unique)"
   ]
  },
  {
   "cell_type": "code",
   "execution_count": null,
   "metadata": {
    "colab": {
     "base_uri": "https://localhost:8080/"
    },
    "id": "gcVWm1TRPNEv",
    "outputId": "07e17e79-07fa-4633-e680-3e99a5e1c4fd"
   },
   "outputs": [
    {
     "data": {
      "text/plain": [
       "[2, 3, 4, 5, 30, 40, 50]"
      ]
     },
     "execution_count": 40,
     "metadata": {},
     "output_type": "execute_result"
    }
   ],
   "source": [
    "unique.sort()\n",
    "unique"
   ]
  },
  {
   "cell_type": "code",
   "execution_count": null,
   "metadata": {
    "colab": {
     "base_uri": "https://localhost:8080/"
    },
    "id": "8w_h_cwMPWhq",
    "outputId": "49e54a7e-4ed0-4789-8350-b76cad00c0d3"
   },
   "outputs": [
    {
     "name": "stdout",
     "output_type": "stream",
     "text": [
      "[5, 4, 3, 2, 50, 40, 30]\n"
     ]
    }
   ],
   "source": [
    "### Using List Comprehension\n",
    "my_list = [5, 4, 3, 2, 50, 40, 30]\n",
    "uniques=[]\n",
    "[uniques.append(num) for num in my_list if not num in uniques] \n",
    "print(uniques)"
   ]
  },
  {
   "cell_type": "code",
   "execution_count": null,
   "metadata": {
    "colab": {
     "base_uri": "https://localhost:8080/"
    },
    "id": "n_-HpBMFPy1k",
    "outputId": "041f7b86-39ac-4f02-a7e9-fb96adaf854c"
   },
   "outputs": [
    {
     "data": {
      "text/plain": [
       "[5, 10, 15, 20, 3, 25, 30, 100]"
      ]
     },
     "execution_count": 42,
     "metadata": {},
     "output_type": "execute_result"
    }
   ],
   "source": [
    "### OrderedDict.fromkeys()\n",
    "mylist=[5,10,15,20,3,15,25,20,30,10,100]\n",
    "from collections import OrderedDict\n",
    "list(OrderedDict.fromkeys(mylist))"
   ]
  },
  {
   "cell_type": "markdown",
   "metadata": {
    "id": "tbL95_uuSbL5"
   },
   "source": [
    "# **Python - List Comprehension**"
   ]
  },
  {
   "cell_type": "code",
   "execution_count": null,
   "metadata": {
    "colab": {
     "base_uri": "https://localhost:8080/"
    },
    "id": "prVnTctPSdQx",
    "outputId": "d9c78827-0f5a-4aa0-8427-d64495636271"
   },
   "outputs": [
    {
     "name": "stdout",
     "output_type": "stream",
     "text": [
      "[0, 2, 4, 6, 8, 10, 12, 14, 16, 18, 20]\n"
     ]
    }
   ],
   "source": [
    "###  Create List of Even Numbers without List Comprehension\n",
    "\n",
    "even_num=[]\n",
    "for i in range(21):\n",
    "  if i%2==0:\n",
    "    even_num.append(i)\n",
    "print(even_num)"
   ]
  },
  {
   "cell_type": "code",
   "execution_count": null,
   "metadata": {
    "colab": {
     "base_uri": "https://localhost:8080/"
    },
    "id": "KcBACgCBS7L6",
    "outputId": "52bef28b-60b5-4fc7-b46e-28e80dea4d7e"
   },
   "outputs": [
    {
     "name": "stdout",
     "output_type": "stream",
     "text": [
      "[0, 2, 4, 6, 8, 10, 12, 14, 16, 18, 20]\n"
     ]
    }
   ],
   "source": [
    "####  Create List of Even Numbers with List Comprehension\n",
    "even_num=[i for i in range(21) if i%2==0]\n",
    "print(even_num)"
   ]
  },
  {
   "cell_type": "code",
   "execution_count": null,
   "metadata": {
    "colab": {
     "base_uri": "https://localhost:8080/"
    },
    "id": "txP7gNf_Txxn",
    "outputId": "db40d769-ad40-45dc-94aa-f5906ade9c55"
   },
   "outputs": [
    {
     "data": {
      "text/plain": [
       "['ali', 'salman']"
      ]
     },
     "execution_count": 49,
     "metadata": {},
     "output_type": "execute_result"
    }
   ],
   "source": [
    "#### List Comprehension with String List\n",
    "List=['ali','ahmad','salman']\n",
    "new_list=[var for var in List if 'l' in var]\n",
    "new_list"
   ]
  },
  {
   "cell_type": "code",
   "execution_count": null,
   "metadata": {
    "colab": {
     "base_uri": "https://localhost:8080/"
    },
    "id": "PprAqK_VVKNP",
    "outputId": "7ee4ca47-6886-4c53-fbe8-ff2897d15970"
   },
   "outputs": [
    {
     "name": "stdout",
     "output_type": "stream",
     "text": [
      "[0, 1, 4, 9, 16, 25, 36, 49, 64, 81, 100]\n"
     ]
    }
   ],
   "source": [
    "squares = [x*x for x in range(11)] \n",
    "print(squares) "
   ]
  },
  {
   "cell_type": "code",
   "execution_count": null,
   "metadata": {
    "colab": {
     "base_uri": "https://localhost:8080/"
    },
    "id": "DOX_QhcWVLqA",
    "outputId": "639ae2b7-a22f-46fc-c6db-49c519a3b782"
   },
   "outputs": [
    {
     "name": "stdout",
     "output_type": "stream",
     "text": [
      "[(1, 4), (1, 5), (1, 6), (2, 4), (2, 5), (2, 6), (3, 4), (3, 5), (3, 6)]\n"
     ]
    }
   ],
   "source": [
    "nums1 = [1, 2, 3]\n",
    "nums2 = [4, 5, 6]\n",
    "nums=[(x,y) for x in nums1 for y in nums2]\n",
    "print(nums)"
   ]
  },
  {
   "cell_type": "code",
   "execution_count": null,
   "metadata": {
    "colab": {
     "base_uri": "https://localhost:8080/"
    },
    "id": "5cWgYcH3VT53",
    "outputId": "2f6af3c4-765d-443f-fff4-04056eb06b9a"
   },
   "outputs": [
    {
     "name": "stdout",
     "output_type": "stream",
     "text": [
      "[0, 10, 20]\n"
     ]
    }
   ],
   "source": [
    "##   List Comprehension with Multiple if Conditions\n",
    "\n",
    "nums = [x for x in range(21) if x%2==0 if x%5==0] \n",
    "print(nums)"
   ]
  },
  {
   "cell_type": "code",
   "execution_count": null,
   "metadata": {
    "colab": {
     "base_uri": "https://localhost:8080/"
    },
    "id": "9RMLXl8YVely",
    "outputId": "38a167a9-ec00-4e04-8502-1f866c0f67c5"
   },
   "outputs": [
    {
     "name": "stdout",
     "output_type": "stream",
     "text": [
      "['Even', 'Odd', 'Even', 'Odd', 'Even']\n",
      "['0=Even', '1=Odd', '2=Even', '3=Odd', '4=Even']\n"
     ]
    }
   ],
   "source": [
    "#####   List Comprehension with if-else Condition\n",
    "\n",
    "\n",
    "odd_even_list = [\"Even\" if i%2==0 else \"Odd\" for i in range(5)]\n",
    "print(odd_even_list)\n",
    "\n",
    "odd_even_list = [str(i) + '=Even' if i%2==0 else str(i) + \"=Odd\" for i in range(5)]\n",
    "print(odd_even_list)"
   ]
  },
  {
   "cell_type": "markdown",
   "metadata": {
    "id": "uJ9Nt3D8VvjR"
   },
   "source": [
    "# **Flatten List using List Comprehension**"
   ]
  },
  {
   "cell_type": "code",
   "execution_count": null,
   "metadata": {
    "colab": {
     "base_uri": "https://localhost:8080/"
    },
    "id": "yCJVUQ8FVxb5",
    "outputId": "ebe96bdd-af75-4b28-ed68-0ba29301d99f"
   },
   "outputs": [
    {
     "name": "stdout",
     "output_type": "stream",
     "text": [
      "[1, 2, 3, 4, 5, 6, 7, 8, 9]\n"
     ]
    }
   ],
   "source": [
    "matrix=[[1, 2, 3], [4, 5, 6], [7, 8, 9]]\n",
    "flatList=[num for row in matrix for num in row]\n",
    "print(flatList)"
   ]
  }
 ],
 "metadata": {
  "colab": {
   "collapsed_sections": [],
   "name": "List .ipynb",
   "provenance": []
  },
  "kernelspec": {
   "display_name": "Python 3",
   "language": "python",
   "name": "python3"
  },
  "language_info": {
   "codemirror_mode": {
    "name": "ipython",
    "version": 3
   },
   "file_extension": ".py",
   "mimetype": "text/x-python",
   "name": "python",
   "nbconvert_exporter": "python",
   "pygments_lexer": "ipython3",
   "version": "3.8.3"
  }
 },
 "nbformat": 4,
 "nbformat_minor": 1
}
