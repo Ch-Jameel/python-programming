{
 "cells": [
  {
   "cell_type": "markdown",
   "metadata": {
    "id": "AtXyY5fTvony"
   },
   "source": [
    "# **Python Dictionary**"
   ]
  },
  {
   "cell_type": "markdown",
   "metadata": {
    "id": "X64MiR5lvqmO"
   },
   "source": [
    "**Dictionary** in Python is an unordered collection of data values, used to store data values like a map, which, unlike other Data Types that hold only a single value as an element, Dictionary holds key:value pair. Key-value is provided in the dictionary to make it more optimized. \n",
    " \n",
    "\n",
    "**Note** – Keys in a dictionary don’t allow Polymorphism."
   ]
  },
  {
   "cell_type": "markdown",
   "metadata": {
    "id": "7q1ax-hXv0O1"
   },
   "source": [
    "# **Creating a Dictionary**"
   ]
  },
  {
   "cell_type": "markdown",
   "metadata": {
    "id": "SZojxntCv3cp"
   },
   "source": [
    "In Python, a Dictionary can be created by placing a sequence of elements within curly {} braces, separated by ‘comma’. Dictionary holds pairs of values, one being the Key and the other corresponding pair element being its Key:value. Values in a dictionary can be of any data type and can be duplicated, whereas keys can’t be repeated and must be immutable. \n",
    " \n",
    "\n",
    "Note – Dictionary keys are case sensitive, the same name but different cases of Key will be treated distinctly. "
   ]
  },
  {
   "cell_type": "code",
   "execution_count": 1,
   "metadata": {
    "colab": {
     "base_uri": "https://localhost:8080/"
    },
    "id": "yXLhnJ0nv6v7",
    "outputId": "eb4e9377-f307-4a1f-edac-14ed327b3043"
   },
   "outputs": [
    {
     "name": "stdout",
     "output_type": "stream",
     "text": [
      "\n",
      "Dictionary with the use of Integer Keys: \n",
      "{1: 'Geeks', 2: 'For', 3: 'Geeks'}\n",
      "\n",
      "Dictionary with the use of Mixed Keys: \n",
      "{'Name': 'Geeks', 1: [1, 2, 3, 4]}\n"
     ]
    }
   ],
   "source": [
    "# Creating a Dictionary\n",
    "# with Integer Keys\n",
    "Dict = {1: 'Geeks', 2: 'For', 3: 'Geeks'}\n",
    "print(\"\\nDictionary with the use of Integer Keys: \")\n",
    "print(Dict)\n",
    " \n",
    "# Creating a Dictionary\n",
    "# with Mixed keys\n",
    "Dict = {'Name': 'Geeks', 1: [1, 2, 3, 4]}\n",
    "print(\"\\nDictionary with the use of Mixed Keys: \")\n",
    "print(Dict)"
   ]
  },
  {
   "cell_type": "code",
   "execution_count": 2,
   "metadata": {
    "colab": {
     "base_uri": "https://localhost:8080/"
    },
    "id": "3ckY0u0SzROG",
    "outputId": "bc4925db-1a1a-46da-e6f7-f5f0fd47210e"
   },
   "outputs": [
    {
     "name": "stdout",
     "output_type": "stream",
     "text": [
      "Empty Dictionary: \n",
      "{}\n",
      "\n",
      "Dictionary with the use of dict(): \n",
      "{1: 'Geeks', 2: 'For', 3: 'Geeks'}\n",
      "\n",
      "Dictionary with each item as a pair: \n",
      "{1: 'Geeks', 2: 'For'}\n"
     ]
    }
   ],
   "source": [
    "'''  Dictionary can also be created by the built-in function dict().\n",
    " An empty dictionary can be created by just placing to curly braces{}\n",
    "\n",
    " '''\n",
    "\n",
    "# Creating an empty Dictionary\n",
    "Dict = {}\n",
    "print(\"Empty Dictionary: \")\n",
    "print(Dict)\n",
    " \n",
    "# Creating a Dictionary\n",
    "# with dict() method\n",
    "Dict = dict({1: 'Geeks', 2: 'For', 3:'Geeks'})\n",
    "print(\"\\nDictionary with the use of dict(): \")\n",
    "print(Dict)\n",
    " \n",
    "# Creating a Dictionary\n",
    "# with each item as a Pair\n",
    "Dict = dict([(1, 'Geeks'), (2, 'For')])\n",
    "print(\"\\nDictionary with each item as a pair: \")\n",
    "print(Dict)"
   ]
  },
  {
   "cell_type": "code",
   "execution_count": 3,
   "metadata": {
    "colab": {
     "base_uri": "https://localhost:8080/"
    },
    "id": "2RQDksAKzxyI",
    "outputId": "7bdc3da8-537b-43ad-ebb6-fe3120adbb60"
   },
   "outputs": [
    {
     "name": "stdout",
     "output_type": "stream",
     "text": [
      "{1: 'Geeks', 2: 'For', 3: {'A': 'Welcome', 'B': 'To', 'C': 'Geeks'}}\n"
     ]
    }
   ],
   "source": [
    "# Creating a Nested Dictionary\n",
    "# as shown in the below image\n",
    "Dict = {1: 'Geeks', 2: 'For',\n",
    "        3:{'A' : 'Welcome', 'B' : 'To', 'C' : 'Geeks'}}\n",
    " \n",
    "print(Dict)"
   ]
  },
  {
   "cell_type": "markdown",
   "metadata": {
    "id": "LnwFinKoz4BE"
   },
   "source": [
    "# **Adding elements to a Dictionary**"
   ]
  },
  {
   "cell_type": "markdown",
   "metadata": {
    "id": "n5v6Gsau3uwS"
   },
   "source": [
    "In Python Dictionary, the Addition of elements can be done in multiple ways. One value at a time can be added to a Dictionary by defining value along with the key e.g. Dict[Key] = ‘Value’. Updating an existing value in a Dictionary can be done by using the built-in update() method. Nested key values can also be added to an existing Dictionary. \n",
    " \n",
    "\n",
    "Note- While adding a value, if the key-value already exists, the value gets updated otherwise a new Key with the value is added to the Dictionary."
   ]
  },
  {
   "cell_type": "code",
   "execution_count": 4,
   "metadata": {
    "colab": {
     "base_uri": "https://localhost:8080/"
    },
    "id": "VsTrXBeCz5dd",
    "outputId": "4dd6fe37-6674-4e0d-d73c-63e5318e3053"
   },
   "outputs": [
    {
     "name": "stdout",
     "output_type": "stream",
     "text": [
      "Empty Dictionary: \n",
      "{}\n",
      "\n",
      "Dictionary after adding 3 elements: \n",
      "{0: 'Geeks', 2: 'For', 3: 1}\n",
      "\n",
      "Dictionary after adding 3 elements: \n",
      "{0: 'Geeks', 2: 'For', 3: 1, 'Value_set': (2, 3, 4)}\n",
      "\n",
      "Updated key value: \n",
      "{0: 'Geeks', 2: 'Welcome', 3: 1, 'Value_set': (2, 3, 4)}\n",
      "\n",
      "Adding a Nested Key: \n",
      "{0: 'Geeks', 2: 'Welcome', 3: 1, 'Value_set': (2, 3, 4), 5: {'Nested': {'1': 'Life', '2': 'Geeks'}}}\n"
     ]
    }
   ],
   "source": [
    "# Creating an empty Dictionary\n",
    "Dict = {}\n",
    "print(\"Empty Dictionary: \")\n",
    "print(Dict)\n",
    " \n",
    "# Adding elements one at a time\n",
    "Dict[0] = 'Geeks'\n",
    "Dict[2] = 'For'\n",
    "Dict[3] = 1\n",
    "print(\"\\nDictionary after adding 3 elements: \")\n",
    "print(Dict)\n",
    "# Adding set of values\n",
    "# to a single Key\n",
    "Dict['Value_set'] = 2, 3, 4\n",
    "print(\"\\nDictionary after adding 3 elements: \")\n",
    "print(Dict)\n",
    " \n",
    "# Updating existing Key's Value\n",
    "Dict[2] = 'Welcome'\n",
    "print(\"\\nUpdated key value: \")\n",
    "print(Dict)\n",
    " \n",
    "# Adding Nested Key value to Dictionary\n",
    "Dict[5] = {'Nested' :{'1' : 'Life', '2' : 'Geeks'}}\n",
    "print(\"\\nAdding a Nested Key: \")\n",
    "print(Dict)"
   ]
  },
  {
   "cell_type": "markdown",
   "metadata": {
    "id": "luAlIdmL4gYj"
   },
   "source": [
    "# **Accessing elements from a Dictionary**"
   ]
  },
  {
   "cell_type": "markdown",
   "metadata": {
    "id": "m-yUeCwg4hl5"
   },
   "source": [
    "In order to access the items of a dictionary refer to its key name. Key can be used inside square brackets. "
   ]
  },
  {
   "cell_type": "code",
   "execution_count": 5,
   "metadata": {
    "colab": {
     "base_uri": "https://localhost:8080/"
    },
    "id": "pCDCyMLR4lGT",
    "outputId": "7996460d-fb6d-409d-9c8c-e790088b022f"
   },
   "outputs": [
    {
     "name": "stdout",
     "output_type": "stream",
     "text": [
      "Accessing a element using key:\n",
      "For\n",
      "Accessing a element using key:\n",
      "Geeks\n"
     ]
    }
   ],
   "source": [
    "# Python program to demonstrate \n",
    "# accessing a element from a Dictionary\n",
    " \n",
    "# Creating a Dictionary\n",
    "Dict = {1: 'Geeks', 'name': 'For', 3: 'Geeks'}\n",
    " \n",
    "# accessing a element using key\n",
    "print(\"Accessing a element using key:\")\n",
    "print(Dict['name'])\n",
    " \n",
    "# accessing a element using key\n",
    "print(\"Accessing a element using key:\")\n",
    "print(Dict[1])"
   ]
  },
  {
   "cell_type": "markdown",
   "metadata": {
    "id": "eAJUpno34s_W"
   },
   "source": [
    "There is also a method called get() that will also help in accessing the element from a dictionary."
   ]
  },
  {
   "cell_type": "code",
   "execution_count": 6,
   "metadata": {
    "colab": {
     "base_uri": "https://localhost:8080/"
    },
    "id": "CahH1USP4uCk",
    "outputId": "8cba0352-5a82-4f79-ad5d-21a76a6292ac"
   },
   "outputs": [
    {
     "name": "stdout",
     "output_type": "stream",
     "text": [
      "Accessing a element using get:\n",
      "Geeks\n"
     ]
    }
   ],
   "source": [
    "# Creating a Dictionary\n",
    "Dict = {1: 'Geeks', 'name': 'For', 3: 'Geeks'}\n",
    " \n",
    "# accessing a element using get()\n",
    "# method\n",
    "print(\"Accessing a element using get:\")\n",
    "print(Dict.get(3))"
   ]
  },
  {
   "cell_type": "markdown",
   "metadata": {
    "id": "7UPKSaB952BP"
   },
   "source": [
    "# **Accessing an element of a nested dictionary**"
   ]
  },
  {
   "cell_type": "markdown",
   "metadata": {
    "id": "J6OO0wfC53bq"
   },
   "source": [
    "In order to access the value of any key in the nested dictionary, use indexing []"
   ]
  },
  {
   "cell_type": "code",
   "execution_count": 8,
   "metadata": {
    "colab": {
     "base_uri": "https://localhost:8080/"
    },
    "id": "2BS-bzm756KH",
    "outputId": "06a359a3-ed04-4842-f522-6a7c96c06da3"
   },
   "outputs": [
    {
     "name": "stdout",
     "output_type": "stream",
     "text": [
      "{'Dict1': {1: 'Geeks'}, 'Dict2': {'Name': 'For'}}\n",
      "{1: 'Geeks'}\n",
      "Geeks\n",
      "For\n"
     ]
    }
   ],
   "source": [
    "# Creating a Dictionary\n",
    "Dict = {'Dict1': {1: 'Geeks'},\n",
    "        'Dict2': {'Name': 'For'}}\n",
    "print(Dict)\n",
    "# Accessing element using key\n",
    "print(Dict['Dict1'])\n",
    "print(Dict['Dict1'][1])\n",
    "print(Dict['Dict2']['Name'])"
   ]
  },
  {
   "cell_type": "markdown",
   "metadata": {
    "id": "tGHAcY-m6Mzp"
   },
   "source": [
    "# **Removing Elements from Dictionary**"
   ]
  },
  {
   "cell_type": "markdown",
   "metadata": {
    "id": "dz-mVR1H6N2l"
   },
   "source": [
    "In **Python Dictionary**, deletion of keys can be done by using the del keyword. Using the del keyword, specific values from a dictionary as well as the whole dictionary can be deleted. Items in a Nested dictionary can also be deleted by using the del keyword and providing a specific nested key and particular key to be deleted from that nested Dictionary.\n",
    " \n",
    "\n",
    "**Note**: The del Dict will delete the entire dictionary and hence printing it after deletion will raise an Error."
   ]
  },
  {
   "cell_type": "code",
   "execution_count": 9,
   "metadata": {
    "colab": {
     "base_uri": "https://localhost:8080/"
    },
    "id": "Xjgy0jX96QYk",
    "outputId": "e3ee7e1f-1f9e-491e-e14c-4156ba93e525"
   },
   "outputs": [
    {
     "name": "stdout",
     "output_type": "stream",
     "text": [
      "Initial Dictionary: \n",
      "{5: 'Welcome', 6: 'To', 7: 'Geeks', 'A': {1: 'Geeks', 2: 'For', 3: 'Geeks'}, 'B': {1: 'Geeks', 2: 'Life'}}\n",
      "\n",
      "Deleting a specific key: \n",
      "{5: 'Welcome', 7: 'Geeks', 'A': {1: 'Geeks', 2: 'For', 3: 'Geeks'}, 'B': {1: 'Geeks', 2: 'Life'}}\n",
      "\n",
      "Deleting a key from Nested Dictionary: \n",
      "{5: 'Welcome', 7: 'Geeks', 'A': {1: 'Geeks', 3: 'Geeks'}, 'B': {1: 'Geeks', 2: 'Life'}}\n"
     ]
    }
   ],
   "source": [
    "# Initial Dictionary\n",
    "Dict = { 5 : 'Welcome', 6 : 'To', 7 : 'Geeks',\n",
    "        'A' : {1 : 'Geeks', 2 : 'For', 3 : 'Geeks'},\n",
    "        'B' : {1 : 'Geeks', 2 : 'Life'}}\n",
    "print(\"Initial Dictionary: \")\n",
    "print(Dict)\n",
    " \n",
    "# Deleting a Key value\n",
    "del Dict[6]\n",
    "print(\"\\nDeleting a specific key: \")\n",
    "print(Dict)\n",
    " \n",
    "# Deleting a Key from\n",
    "# Nested Dictionary\n",
    "del Dict['A'][2]\n",
    "print(\"\\nDeleting a key from Nested Dictionary: \")\n",
    "print(Dict)"
   ]
  },
  {
   "cell_type": "markdown",
   "metadata": {
    "id": "99ZJqLYf65Ut"
   },
   "source": [
    "# Using pop() method"
   ]
  },
  {
   "cell_type": "markdown",
   "metadata": {
    "id": "jBTIDSzd67ki"
   },
   "source": [
    "Pop() method is used to return and delete the value of the key specified."
   ]
  },
  {
   "cell_type": "code",
   "execution_count": 10,
   "metadata": {
    "colab": {
     "base_uri": "https://localhost:8080/"
    },
    "id": "kU4V_4ZA6675",
    "outputId": "36ff943a-183f-4441-b84b-b76941a96b54"
   },
   "outputs": [
    {
     "name": "stdout",
     "output_type": "stream",
     "text": [
      "\n",
      "Dictionary after deletion: {'name': 'For', 3: 'Geeks'}\n",
      "Value associated to poped key is: Geeks\n"
     ]
    }
   ],
   "source": [
    "# Creating a Dictionary\n",
    "Dict = {1: 'Geeks', 'name': 'For', 3: 'Geeks'}\n",
    " \n",
    "# Deleting a key\n",
    "# using pop() method\n",
    "pop_ele = Dict.pop(1)\n",
    "print('\\nDictionary after deletion: ' + str(Dict))\n",
    "print('Value associated to poped key is: ' + str(pop_ele))"
   ]
  },
  {
   "cell_type": "markdown",
   "metadata": {
    "id": "syTzDIdC7HbR"
   },
   "source": [
    "# Using popitem() method"
   ]
  },
  {
   "cell_type": "markdown",
   "metadata": {
    "id": "rtyCKYBL7Jl9"
   },
   "source": [
    "The popitem() returns and removes an arbitrary element (key, value) pair from the dictionary."
   ]
  },
  {
   "cell_type": "code",
   "execution_count": 11,
   "metadata": {
    "colab": {
     "base_uri": "https://localhost:8080/"
    },
    "id": "j9CpLXrH7Njx",
    "outputId": "eeba3ab6-5d83-445b-b171-cda9c2b08fad"
   },
   "outputs": [
    {
     "name": "stdout",
     "output_type": "stream",
     "text": [
      "\n",
      "Dictionary after deletion: {1: 'Geeks', 'name': 'For'}\n",
      "The arbitrary pair returned is: (3, 'Geeks')\n"
     ]
    }
   ],
   "source": [
    "# Creating Dictionary\n",
    "Dict = {1: 'Geeks', 'name': 'For', 3: 'Geeks'}\n",
    " \n",
    "# Deleting an arbitrary key\n",
    "# using popitem() function\n",
    "pop_ele = Dict.popitem()\n",
    "print(\"\\nDictionary after deletion: \" + str(Dict))\n",
    "print(\"The arbitrary pair returned is: \" + str(pop_ele))"
   ]
  },
  {
   "cell_type": "markdown",
   "metadata": {
    "id": "9fTpIWLd9EaI"
   },
   "source": [
    "# **Using clear() method**"
   ]
  },
  {
   "cell_type": "markdown",
   "metadata": {
    "id": "xBxiKaFh9FnL"
   },
   "source": [
    "All the items from a dictionary can be deleted at once by using clear() method."
   ]
  },
  {
   "cell_type": "code",
   "execution_count": 12,
   "metadata": {
    "colab": {
     "base_uri": "https://localhost:8080/"
    },
    "id": "HyEQXtrU9IHt",
    "outputId": "ce07b95c-0c00-41cd-c6b7-9de605430989"
   },
   "outputs": [
    {
     "name": "stdout",
     "output_type": "stream",
     "text": [
      "\n",
      "Deleting Entire Dictionary: \n",
      "{}\n"
     ]
    }
   ],
   "source": [
    "# Creating a Dictionary\n",
    "Dict = {1: 'Geeks', 'name': 'For', 3: 'Geeks'}\n",
    " \n",
    " \n",
    "# Deleting entire Dictionary\n",
    "Dict.clear()\n",
    "print(\"\\nDeleting Entire Dictionary: \")\n",
    "print(Dict)"
   ]
  },
  {
   "cell_type": "code",
   "execution_count": 13,
   "metadata": {
    "colab": {
     "base_uri": "https://localhost:8080/"
    },
    "id": "KeBJwSk-9WxF",
    "outputId": "8c27caf8-0bf4-4a1c-9d85-64a8d9bbecef"
   },
   "outputs": [
    {
     "name": "stdout",
     "output_type": "stream",
     "text": [
      "\n",
      "Friends and Their Birthdays\n",
      "---------------------------\n",
      "1. Look up a birthday\n",
      "2. Add a new birthday\n",
      "3. Change a birthday\n",
      "4. Delete a birthday\n",
      "5. Quit the program\n",
      "\n",
      "Enter your choice: 1\n",
      "1\n",
      "please enter your name  jameel\n",
      "dict_items([])\n",
      "None\n",
      "\n",
      "Friends and Their Birthdays\n",
      "---------------------------\n",
      "1. Look up a birthday\n",
      "2. Add a new birthday\n",
      "3. Change a birthday\n",
      "4. Delete a birthday\n",
      "5. Quit the program\n",
      "\n",
      "Enter your choice: 2\n",
      "2\n",
      "please enter the name jameel\n",
      "enter your b.day date here 01/08/2000\n",
      "None\n",
      "\n",
      "Friends and Their Birthdays\n",
      "---------------------------\n",
      "1. Look up a birthday\n",
      "2. Add a new birthday\n",
      "3. Change a birthday\n",
      "4. Delete a birthday\n",
      "5. Quit the program\n",
      "\n",
      "Enter your choice: 1\n",
      "1\n",
      "please enter your name  jameel\n",
      "dict_items([('jameel', '01/08/2000')])\n",
      "None\n",
      "\n",
      "Friends and Their Birthdays\n",
      "---------------------------\n",
      "1. Look up a birthday\n",
      "2. Add a new birthday\n",
      "3. Change a birthday\n",
      "4. Delete a birthday\n",
      "5. Quit the program\n",
      "\n",
      "Enter your choice: 5\n",
      "5\n"
     ]
    }
   ],
   "source": [
    "LOOK_UP = 1\n",
    "ADD = 2\n",
    "CHANGE = 3\n",
    "DELETE = 4\n",
    "QUIT = 5\n",
    "def main():\n",
    "    birthday={}\n",
    "    \n",
    "    choice=0\n",
    "    while choice !=QUIT:\n",
    "        choice=get_menu_choice()\n",
    "    \n",
    "        print(choice)\n",
    "        if choice==LOOK_UP:\n",
    "            print(get_birthday(birthday))\n",
    "            \n",
    "        elif choice==ADD:\n",
    "            print(add_birthday(birthday))\n",
    "            \n",
    "        elif choice==CHANGE:\n",
    "            print(change_birthday(birthday))\n",
    "            \n",
    "        elif choice==DELETE:\n",
    "            print(del_birthday(birthday))\n",
    "            \n",
    "def get_menu_choice():\n",
    "    \n",
    "    print()\n",
    "    print('Friends and Their Birthdays')\n",
    "    print('---------------------------')\n",
    "    print('1. Look up a birthday')\n",
    "    print('2. Add a new birthday')\n",
    "    print('3. Change a birthday')\n",
    "    print('4. Delete a birthday')\n",
    "    print('5. Quit the program')\n",
    "    print()\n",
    "    choice = int(input('Enter your choice: '))\n",
    "    while choice < LOOK_UP or choice > QUIT:2\n",
    "    \n",
    "        choice = int(input('Enter a valid choice: '))\n",
    "    return choice    \n",
    "        \n",
    "        \n",
    "def get_birthday(birthday):\n",
    "    name=input('please enter your name  ')\n",
    "    print(birthday.items())\n",
    "    \n",
    "    \n",
    "def add_birthday(birthday):\n",
    "    name=input('please enter the name ')\n",
    "    bday=input('enter your b.day date here ')\n",
    "    if name  not in birthday:\n",
    "        birthday[name]=bday\n",
    "    else:\n",
    "        print('name is already exist')\n",
    "   \n",
    "        \n",
    "        \n",
    "        \n",
    "def change_birthday(birthday):\n",
    "    name=input('Enter your name here ')\n",
    "    if name in birthday:\n",
    "        new_bday=input('please enter the new b.day date here ')\n",
    "        birthday[name]=new_bday\n",
    "    else:\n",
    "        print('Name is not found ')   \n",
    "        \n",
    "        \n",
    "        \n",
    "        \n",
    "def del_birthday(birthday):\n",
    "    name=input('please enter the name here ')\n",
    "    if name in birthday:\n",
    "        del birthday[name]\n",
    "    else:\n",
    "        print('There is no such person exist ')  \n",
    "        \n",
    "main()        \n",
    "        \n",
    "    \n",
    "    "
   ]
  }
 ],
 "metadata": {
  "colab": {
   "collapsed_sections": [],
   "name": "Dictionary__.ipynb",
   "provenance": []
  },
  "kernelspec": {
   "display_name": "Python 3",
   "name": "python3"
  },
  "language_info": {
   "name": "python"
  }
 },
 "nbformat": 4,
 "nbformat_minor": 0
}
