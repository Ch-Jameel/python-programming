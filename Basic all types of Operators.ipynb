{
 "cells": [
  {
   "cell_type": "markdown",
   "metadata": {},
   "source": [
    "# arithimatics operation"
   ]
  },
  {
   "cell_type": "raw",
   "metadata": {},
   "source": [
    "Operator\tMeaning\tExample\n",
    "+\tAdd two operands or unary plus\tx + y+ 2\n",
    "-\tSubtract right operand from the left or unary minus\tx - y- 2\n",
    "*\tMultiply two operands\tx * y\n",
    "/\tDivide left operand by the right one (always results into float)\tx / y\n",
    "%\tModulus - remainder of the division of left operand by the right\tx % y (remainder of x/y)\n",
    "//\tFloor division - division that results into whole number adjusted to the left in the number line\tx // y\n",
    "**\tExponent - left operand raised to the power of right\tx**y (x to the power y)"
   ]
  },
  {
   "cell_type": "code",
   "execution_count": 5,
   "metadata": {},
   "outputs": [
    {
     "name": "stdout",
     "output_type": "stream",
     "text": [
      "[5, -1, 6, 0.6666666666666666, 8, 0]\n"
     ]
    }
   ],
   "source": [
    "\n",
    "a=2\n",
    "b=3\n",
    "c=a+b\n",
    "d=a-b\n",
    "e=a*b\n",
    "f=a/b\n",
    "g=a**b\n",
    "k=a//b\n",
    "print([c,d,e,f,g,k])"
   ]
  },
  {
   "cell_type": "markdown",
   "metadata": {},
   "source": [
    "# Relational/Comparision Operation"
   ]
  },
  {
   "cell_type": "raw",
   "metadata": {},
   "source": [
    "Operator\tMeaning\tExample\n",
    ">\tGreater than - True if left operand is greater than the right\tx > y\n",
    "<\tLess than - True if left operand is less than the right\tx < y\n",
    "==\tEqual to - True if both operands are equal\tx == y\n",
    "!=\tNot equal to - True if operands are not equal\tx != y\n",
    ">=\tGreater than or equal to - True if left operand is greater than or equal to the right\tx >= y\n",
    "<=\tLess than or equal to - True if left operand is less than or equal to the right\tx <= y"
   ]
  },
  {
   "cell_type": "code",
   "execution_count": 2,
   "metadata": {},
   "outputs": [
    {
     "name": "stdout",
     "output_type": "stream",
     "text": [
      "x > y is False\n",
      "x < y is True\n",
      "x == y is False\n",
      "x != y is True\n",
      "x >= y is False\n",
      "x <= y is True\n"
     ]
    }
   ],
   "source": [
    "x = 10\n",
    "y = 12\n",
    "\n",
    "# Output: x > y is False\n",
    "print('x > y is',x>y)\n",
    "\n",
    "# Output: x < y is True\n",
    "print('x < y is',x<y)\n",
    "\n",
    "# Output: x == y is False\n",
    "print('x == y is',x==y)\n",
    "\n",
    "# Output: x != y is True\n",
    "print('x != y is',x!=y)\n",
    "\n",
    "# Output: x >= y is False\n",
    "print('x >= y is',x>=y)\n",
    "\n",
    "# Output: x <= y is True\n",
    "print('x <= y is',x<=y)"
   ]
  },
  {
   "cell_type": "markdown",
   "metadata": {},
   "source": [
    "# Logical Operator"
   ]
  },
  {
   "cell_type": "raw",
   "metadata": {},
   "source": [
    "Operator\tMeaning\tExample\n",
    "and\t        True if both the operands are true\tx and y\n",
    "or\t        True if either of the operands is true\tx or y\n",
    "not\t        True if operand is false (complements the operand)\tnot x"
   ]
  },
  {
   "cell_type": "code",
   "execution_count": 3,
   "metadata": {},
   "outputs": [
    {
     "name": "stdout",
     "output_type": "stream",
     "text": [
      "x and y is False\n",
      "x or y is True\n",
      "not x is False\n"
     ]
    }
   ],
   "source": [
    "x = True\n",
    "y = False\n",
    "\n",
    "print('x and y is',x and y)\n",
    "\n",
    "print('x or y is',x or y)\n",
    "\n",
    "print('not x is',not x)"
   ]
  },
  {
   "cell_type": "markdown",
   "metadata": {},
   "source": [
    "# Assignment Operators"
   ]
  },
  {
   "cell_type": "raw",
   "metadata": {},
   "source": [
    "Assignment operators are used in Python to assign values to variables.\n",
    "\n",
    "a = 5 is a simple assignment operator that assigns the value 5 on the right to the variable a on the left.\n",
    "\n",
    "There are various compound operators in Python like a += 5 that adds to the variable and later assigns the same. It is equivalent to a = a + 5."
   ]
  },
  {
   "cell_type": "raw",
   "metadata": {},
   "source": [
    "Operator\t  Example\t                   Equivalent to\n",
    "=\t          x = 5\t                            x = 5\n",
    "+=\t          x += 5\t                       x = x + 5\n",
    "-=\t          x -= 5\t                       x = x - 5\n",
    "*=\t          x *= 5\t                       x = x * 5\n",
    "/=\t          x /= 5\t                       x = x / 5\n",
    "%=\t          x %= 5\t                       x = x % 5\n",
    "//=\t          x //= 5\t                       x = x // 5\n",
    "**=\t          x **= 5\t                       x = x ** 5\n",
    "&=\t          x &= 5\t                       x = x & 5\n",
    "|=\t          x |= 5\t                       x = x | 5\n",
    "^=\t          x ^= 5\t                       x = x ^ 5\n",
    ">>=\t          x >>= 5\t                       x = x >> 5\n",
    "<<=          x <<= 5\t                       x = x << 5"
   ]
  },
  {
   "cell_type": "markdown",
   "metadata": {},
   "source": [
    "# Bitwise Operators"
   ]
  },
  {
   "cell_type": "raw",
   "metadata": {},
   "source": [
    "Bitwise operators act on operands as if they were strings of binary digits. They operate bit by bit, hence the name.\n",
    "\n",
    "For example, 2 is 10 in binary and 7 is 111.\n",
    "\n",
    "In the table below: Let x = 10 (0000 1010 in binary) and y = 4 (0000 0100 in binary)"
   ]
  },
  {
   "cell_type": "raw",
   "metadata": {},
   "source": [
    "Operator\t          Meaning\t                                    Example\n",
    "&\t                  Bitwise AND\t                                        x & y = 0 (0000 0000)\n",
    "|\t                  Bitwise OR\t                                       x | y = 14 (0000 1110)\n",
    "~\t                  Bitwise NOT\t                                        ~x = -11 (1111 0101)\n",
    "^\t                  Bitwise XOR\t                                       x ^ y = 14 (0000 1110)\n",
    ">>\t                  Bitwise right shift\t                               x >> 2 = 2 (0000 0010)\n",
    "<<\t                  Bitwise left shift\t                               x << 2 = 40 (0010 1000)"
   ]
  },
  {
   "cell_type": "markdown",
   "metadata": {},
   "source": [
    "# Membership Operator"
   ]
  },
  {
   "cell_type": "raw",
   "metadata": {},
   "source": [
    "in and not in are the membership operators in Python. They are used to test whether a value or variable is found in a sequence (string, list, tuple, set and dictionary).\n",
    "\n",
    "In a dictionary we can only test for presence of key, not the value."
   ]
  },
  {
   "cell_type": "raw",
   "metadata": {},
   "source": [
    "Operator\t        Meaning\t                                                                 Example\n",
    "in\t                  True if value/variable is found in the sequence\t                      5 in x\n",
    "not in\t             True if value/variable is not found in the sequence                      5 not                         in x"
   ]
  },
  {
   "cell_type": "markdown",
   "metadata": {},
   "source": [
    "# Identity Operator"
   ]
  },
  {
   "cell_type": "raw",
   "metadata": {},
   "source": [
    "is and is not are the identity operators in Python. They are used to check if two values (or variables) are located on the same part of the memory. Two variables that are equal does not imply that they are identical."
   ]
  },
  {
   "cell_type": "raw",
   "metadata": {},
   "source": [
    "Operator\t         Meaning\t                                                                             Example\n",
    "is\t                 True if the operands are identical (refer to the same object)\t                         x is True\n",
    "is not\t             True if the operands are not identical (do not refer to the same object)\t             x is not True"
   ]
  },
  {
   "cell_type": "code",
   "execution_count": 4,
   "metadata": {},
   "outputs": [
    {
     "name": "stdout",
     "output_type": "stream",
     "text": [
      "False\n",
      "True\n",
      "False\n"
     ]
    }
   ],
   "source": [
    "x1 = 5\n",
    "y1 = 5\n",
    "x2 = 'Hello'\n",
    "y2 = 'Hello'\n",
    "x3 = [1,2,3]\n",
    "y3 = [1,2,3]\n",
    "\n",
    "# Output: False\n",
    "print(x1 is not y1)\n",
    "\n",
    "# Output: True\n",
    "print(x2 is y2)\n",
    "\n",
    "# Output: False\n",
    "print(x3 is y3)"
   ]
  }
 ],
 "metadata": {
  "kernelspec": {
   "display_name": "Python 3",
   "language": "python",
   "name": "python3"
  },
  "language_info": {
   "codemirror_mode": {
    "name": "ipython",
    "version": 3
   },
   "file_extension": ".py",
   "mimetype": "text/x-python",
   "name": "python",
   "nbconvert_exporter": "python",
   "pygments_lexer": "ipython3",
   "version": "3.8.3"
  }
 },
 "nbformat": 4,
 "nbformat_minor": 4
}
